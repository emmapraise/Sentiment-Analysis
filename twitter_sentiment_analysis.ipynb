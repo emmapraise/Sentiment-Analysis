{
  "nbformat": 4,
  "nbformat_minor": 0,
  "metadata": {
    "kernelspec": {
      "display_name": "Python 3",
      "language": "python",
      "name": "python3"
    },
    "language_info": {
      "name": "python",
      "version": "3.6.6",
      "mimetype": "text/x-python",
      "codemirror_mode": {
        "name": "ipython",
        "version": 3
      },
      "pygments_lexer": "ipython3",
      "nbconvert_exporter": "python",
      "file_extension": ".py"
    },
    "colab": {
      "name": "twitter-sentiment-analysis.ipynb",
      "provenance": [],
      "include_colab_link": true
    },
    "accelerator": "GPU"
  },
  "cells": [
    {
      "cell_type": "markdown",
      "metadata": {
        "id": "view-in-github",
        "colab_type": "text"
      },
      "source": [
        "<a href=\"https://colab.research.google.com/github/emmapraise/Sentiment-Analysis/blob/master/twitter_sentiment_analysis.ipynb\" target=\"_parent\"><img src=\"https://colab.research.google.com/assets/colab-badge.svg\" alt=\"Open In Colab\"/></a>"
      ]
    },
    {
      "cell_type": "markdown",
      "metadata": {
        "_uuid": "92b885dd147dac19bd0a33db3cd0da100bd5bc23",
        "id": "plwhGaaT2COi"
      },
      "source": [
        "# Twitter Sentiment Analysis"
      ]
    },
    {
      "cell_type": "code",
      "metadata": {
        "colab": {
          "base_uri": "https://localhost:8080/"
        },
        "id": "ujz74K0F2MJx",
        "outputId": "d0e274de-6c0f-4d6d-931f-f2e6b695ee07"
      },
      "source": [
        "from google.colab import drive\n",
        "drive.mount('/content/drive')"
      ],
      "execution_count": 1,
      "outputs": [
        {
          "output_type": "stream",
          "text": [
            "Mounted at /content/drive\n"
          ],
          "name": "stdout"
        }
      ]
    },
    {
      "cell_type": "code",
      "metadata": {
        "trusted": true,
        "_uuid": "70282bce8b42a51e4d44f2c7d85c4ca9567b0fd4",
        "colab": {
          "base_uri": "https://localhost:8080/"
        },
        "id": "smhtbJOR2COj",
        "outputId": "bed69302-1f94-450c-a5a6-297edd2a3731"
      },
      "source": [
        "!pip install gensim --upgrade\n",
        "!pip install keras --upgrade\n",
        "!pip install pandas --upgrade"
      ],
      "execution_count": 5,
      "outputs": [
        {
          "output_type": "stream",
          "text": [
            "Collecting gensim\n",
            "\u001b[?25l  Downloading https://files.pythonhosted.org/packages/2b/e0/fa6326251692056dc880a64eb22117e03269906ba55a6864864d24ec8b4e/gensim-3.8.3-cp36-cp36m-manylinux1_x86_64.whl (24.2MB)\n",
            "\u001b[K     |████████████████████████████████| 24.2MB 138kB/s \n",
            "\u001b[?25hRequirement already satisfied, skipping upgrade: six>=1.5.0 in /usr/local/lib/python3.6/dist-packages (from gensim) (1.15.0)\n",
            "Requirement already satisfied, skipping upgrade: smart-open>=1.8.1 in /usr/local/lib/python3.6/dist-packages (from gensim) (3.0.0)\n",
            "Requirement already satisfied, skipping upgrade: scipy>=0.18.1 in /usr/local/lib/python3.6/dist-packages (from gensim) (1.4.1)\n",
            "Requirement already satisfied, skipping upgrade: numpy>=1.11.3 in /usr/local/lib/python3.6/dist-packages (from gensim) (1.18.5)\n",
            "Requirement already satisfied, skipping upgrade: requests in /usr/local/lib/python3.6/dist-packages (from smart-open>=1.8.1->gensim) (2.23.0)\n",
            "Requirement already satisfied, skipping upgrade: chardet<4,>=3.0.2 in /usr/local/lib/python3.6/dist-packages (from requests->smart-open>=1.8.1->gensim) (3.0.4)\n",
            "Requirement already satisfied, skipping upgrade: certifi>=2017.4.17 in /usr/local/lib/python3.6/dist-packages (from requests->smart-open>=1.8.1->gensim) (2020.6.20)\n",
            "Requirement already satisfied, skipping upgrade: idna<3,>=2.5 in /usr/local/lib/python3.6/dist-packages (from requests->smart-open>=1.8.1->gensim) (2.10)\n",
            "Requirement already satisfied, skipping upgrade: urllib3!=1.25.0,!=1.25.1,<1.26,>=1.21.1 in /usr/local/lib/python3.6/dist-packages (from requests->smart-open>=1.8.1->gensim) (1.24.3)\n",
            "Installing collected packages: gensim\n",
            "  Found existing installation: gensim 3.6.0\n",
            "    Uninstalling gensim-3.6.0:\n",
            "      Successfully uninstalled gensim-3.6.0\n",
            "Successfully installed gensim-3.8.3\n",
            "Requirement already up-to-date: keras in /usr/local/lib/python3.6/dist-packages (2.4.3)\n",
            "Requirement already satisfied, skipping upgrade: numpy>=1.9.1 in /usr/local/lib/python3.6/dist-packages (from keras) (1.18.5)\n",
            "Requirement already satisfied, skipping upgrade: scipy>=0.14 in /usr/local/lib/python3.6/dist-packages (from keras) (1.4.1)\n",
            "Requirement already satisfied, skipping upgrade: pyyaml in /usr/local/lib/python3.6/dist-packages (from keras) (3.13)\n",
            "Requirement already satisfied, skipping upgrade: h5py in /usr/local/lib/python3.6/dist-packages (from keras) (2.10.0)\n",
            "Requirement already satisfied, skipping upgrade: six in /usr/local/lib/python3.6/dist-packages (from h5py->keras) (1.15.0)\n",
            "Requirement already up-to-date: pandas in /usr/local/lib/python3.6/dist-packages (1.1.4)\n",
            "Requirement already satisfied, skipping upgrade: numpy>=1.15.4 in /usr/local/lib/python3.6/dist-packages (from pandas) (1.18.5)\n",
            "Requirement already satisfied, skipping upgrade: python-dateutil>=2.7.3 in /usr/local/lib/python3.6/dist-packages (from pandas) (2.8.1)\n",
            "Requirement already satisfied, skipping upgrade: pytz>=2017.2 in /usr/local/lib/python3.6/dist-packages (from pandas) (2018.9)\n",
            "Requirement already satisfied, skipping upgrade: six>=1.5 in /usr/local/lib/python3.6/dist-packages (from python-dateutil>=2.7.3->pandas) (1.15.0)\n"
          ],
          "name": "stdout"
        }
      ]
    },
    {
      "cell_type": "code",
      "metadata": {
        "trusted": true,
        "_uuid": "303e72966af732ddef0bd8108a321095314e44af",
        "id": "7HgBqZ3S2COl"
      },
      "source": [
        "# DataFrame\n",
        "import pandas as pd\n",
        "\n",
        "# Matplot\n",
        "import matplotlib.pyplot as plt\n",
        "%matplotlib inline\n",
        "\n",
        "# Scikit-learn\n",
        "from sklearn.model_selection import train_test_split\n",
        "from sklearn.preprocessing import LabelEncoder\n",
        "from sklearn.metrics import confusion_matrix, classification_report, accuracy_score\n",
        "from sklearn.manifold import TSNE\n",
        "from sklearn.feature_extraction.text import TfidfVectorizer\n",
        "\n",
        "# Keras\n",
        "from keras.preprocessing.text import Tokenizer\n",
        "from keras.preprocessing.sequence import pad_sequences\n",
        "from keras.models import Sequential\n",
        "from keras.layers import Activation, Dense, Dropout, Embedding, Flatten, Conv1D, MaxPooling1D, LSTM\n",
        "from keras import utils\n",
        "from keras.callbacks import ReduceLROnPlateau, EarlyStopping\n",
        "\n",
        "# nltk\n",
        "import nltk\n",
        "from nltk.corpus import stopwords\n",
        "from  nltk.stem import SnowballStemmer\n",
        "\n",
        "# Word2vec\n",
        "import gensim\n",
        "\n",
        "# Utility\n",
        "import re\n",
        "import numpy as np\n",
        "import os\n",
        "from collections import Counter\n",
        "import logging\n",
        "import time\n",
        "import pickle\n",
        "import itertools\n",
        "\n",
        "# Set log\n",
        "logging.basicConfig(format='%(asctime)s : %(levelname)s : %(message)s', level=logging.INFO)"
      ],
      "execution_count": 6,
      "outputs": []
    },
    {
      "cell_type": "code",
      "metadata": {
        "trusted": true,
        "_uuid": "35e1a89dead5fd160e4c9a024a21d2e569fc89ff",
        "colab": {
          "base_uri": "https://localhost:8080/"
        },
        "id": "Ni8JAG7c2COl",
        "outputId": "52ac1a44-a176-4c35-aa6e-f517428c6597"
      },
      "source": [
        "nltk.download('stopwords')"
      ],
      "execution_count": 7,
      "outputs": [
        {
          "output_type": "stream",
          "text": [
            "[nltk_data] Downloading package stopwords to /root/nltk_data...\n",
            "[nltk_data]   Unzipping corpora/stopwords.zip.\n"
          ],
          "name": "stdout"
        },
        {
          "output_type": "execute_result",
          "data": {
            "text/plain": [
              "True"
            ]
          },
          "metadata": {
            "tags": []
          },
          "execution_count": 7
        }
      ]
    },
    {
      "cell_type": "markdown",
      "metadata": {
        "_uuid": "e8b01a07df001e4abcc745900336c4db06e455f3",
        "id": "yrbbAURv2COl"
      },
      "source": [
        "### Settings"
      ]
    },
    {
      "cell_type": "code",
      "metadata": {
        "trusted": true,
        "_uuid": "180f0dd2a95419e4602b5c0229822b0111c826f6",
        "id": "1lBx_b_H2COl"
      },
      "source": [
        "# DATASET\n",
        "DATASET_COLUMNS = [\"target\", \"ids\", \"date\", \"flag\", \"user\", \"text\"]\n",
        "DATASET_ENCODING = \"ISO-8859-1\"\n",
        "TRAIN_SIZE = 0.8\n",
        "\n",
        "# TEXT CLENAING\n",
        "TEXT_CLEANING_RE = \"@\\S+|https?:\\S+|http?:\\S|[^A-Za-z0-9]+\"\n",
        "\n",
        "# WORD2VEC \n",
        "W2V_SIZE = 300\n",
        "W2V_WINDOW = 7\n",
        "W2V_EPOCH = 32\n",
        "W2V_MIN_COUNT = 10\n",
        "\n",
        "# KERAS\n",
        "SEQUENCE_LENGTH = 300\n",
        "EPOCHS = 8\n",
        "BATCH_SIZE = 1024\n",
        "\n",
        "# SENTIMENT\n",
        "POSITIVE = \"POSITIVE\"\n",
        "NEGATIVE = \"NEGATIVE\"\n",
        "NEUTRAL = \"NEUTRAL\"\n",
        "SENTIMENT_THRESHOLDS = (0.4, 0.7)\n",
        "\n",
        "# EXPORT\n",
        "KERAS_MODEL = \"model.h5\"\n",
        "WORD2VEC_MODEL = \"model.w2v\"\n",
        "TOKENIZER_MODEL = \"tokenizer.pkl\"\n",
        "ENCODER_MODEL = \"encoder.pkl\""
      ],
      "execution_count": 8,
      "outputs": []
    },
    {
      "cell_type": "markdown",
      "metadata": {
        "_uuid": "1c3beecc618be68480b3d4f0de08d9d863da1dc1",
        "id": "7WqYv6f62COl"
      },
      "source": [
        "### Read Dataset"
      ]
    },
    {
      "cell_type": "markdown",
      "metadata": {
        "_uuid": "563b3c44f1092dba0b853747b098e00509098cca",
        "id": "06Cal__j2COl"
      },
      "source": [
        "### Dataset details\n",
        "* **target**: the polarity of the tweet (0 = negative, 2 = neutral, 4 = positive)\n",
        "* **ids**: The id of the tweet ( 2087)\n",
        "* **date**: the date of the tweet (Sat May 16 23:58:44 UTC 2009)\n",
        "* **flag**: The query (lyx). If there is no query, then this value is NO_QUERY.\n",
        "* **user**: the user that tweeted (robotickilldozr)\n",
        "* **text**: the text of the tweet (Lyx is cool)"
      ]
    },
    {
      "cell_type": "code",
      "metadata": {
        "id": "jf4_rUeI3xHT"
      },
      "source": [
        "os.chdir('/content/drive/MyDrive/Twitter Sentiment Analysis/')"
      ],
      "execution_count": 10,
      "outputs": []
    },
    {
      "cell_type": "code",
      "metadata": {
        "colab": {
          "base_uri": "https://localhost:8080/"
        },
        "id": "9wtrx5F_4VR5",
        "outputId": "4cd7efc8-ee98-43b6-bfd5-36a761ebfa59"
      },
      "source": [
        "# !unzip archive.zip"
      ],
      "execution_count": 12,
      "outputs": [
        {
          "output_type": "stream",
          "text": [
            "Archive:  archive.zip\n",
            "  inflating: training.1600000.processed.noemoticon.csv  \n"
          ],
          "name": "stdout"
        }
      ]
    },
    {
      "cell_type": "code",
      "metadata": {
        "colab": {
          "base_uri": "https://localhost:8080/"
        },
        "id": "wLyDu0zZ4DLK",
        "outputId": "ea5eb144-94b1-490a-c741-129591a95e77"
      },
      "source": [
        "!ls"
      ],
      "execution_count": 13,
      "outputs": [
        {
          "output_type": "stream",
          "text": [
            "archive.zip\t\t\t\t   twitter-sentiment-analysis.ipynb\n",
            "training.1600000.processed.noemoticon.csv\n"
          ],
          "name": "stdout"
        }
      ]
    },
    {
      "cell_type": "code",
      "metadata": {
        "colab": {
          "base_uri": "https://localhost:8080/",
          "height": 35
        },
        "id": "4O7tx41k4or0",
        "outputId": "09c6b582-f59c-4a8e-fbc5-fd055cb278af"
      },
      "source": [
        "os.listdir()[-1]"
      ],
      "execution_count": 15,
      "outputs": [
        {
          "output_type": "execute_result",
          "data": {
            "application/vnd.google.colaboratory.intrinsic+json": {
              "type": "string"
            },
            "text/plain": [
              "'training.1600000.processed.noemoticon.csv'"
            ]
          },
          "metadata": {
            "tags": []
          },
          "execution_count": 15
        }
      ]
    },
    {
      "cell_type": "code",
      "metadata": {
        "trusted": true,
        "_uuid": "bba8f91cd70de4f5ea0fb0870ae2029b6e3dcc24",
        "id": "9BbFXQfa2COl"
      },
      "source": [
        "dataset_filename = os.listdir()[-1]\n",
        "# dataset_path = os.path.join(\"..\",\"input\",dataset_filename)\n",
        "# print(\"Open file:\", dataset_path)\n",
        "df = pd.read_csv(dataset_filename, encoding =DATASET_ENCODING , names=DATASET_COLUMNS)"
      ],
      "execution_count": 16,
      "outputs": []
    },
    {
      "cell_type": "code",
      "metadata": {
        "trusted": true,
        "_uuid": "936d499c00c4f1648bc16ca9d283c3b39be7fb10",
        "colab": {
          "base_uri": "https://localhost:8080/"
        },
        "id": "xmjgRQ602COm",
        "outputId": "3b675531-c358-4256-afb4-dcac09a0ca66"
      },
      "source": [
        "print(\"Dataset size:\", len(df))"
      ],
      "execution_count": 17,
      "outputs": [
        {
          "output_type": "stream",
          "text": [
            "Dataset size: 1600000\n"
          ],
          "name": "stdout"
        }
      ]
    },
    {
      "cell_type": "code",
      "metadata": {
        "trusted": true,
        "_uuid": "7486ed895b813c5246f97b31b6162b0f65ff763b",
        "colab": {
          "base_uri": "https://localhost:8080/",
          "height": 204
        },
        "id": "z2cyxAsc2COm",
        "outputId": "f666938b-dba3-47b1-bfa1-8b2ae338a4ea"
      },
      "source": [
        "df.head(5)"
      ],
      "execution_count": 18,
      "outputs": [
        {
          "output_type": "execute_result",
          "data": {
            "text/html": [
              "<div>\n",
              "<style scoped>\n",
              "    .dataframe tbody tr th:only-of-type {\n",
              "        vertical-align: middle;\n",
              "    }\n",
              "\n",
              "    .dataframe tbody tr th {\n",
              "        vertical-align: top;\n",
              "    }\n",
              "\n",
              "    .dataframe thead th {\n",
              "        text-align: right;\n",
              "    }\n",
              "</style>\n",
              "<table border=\"1\" class=\"dataframe\">\n",
              "  <thead>\n",
              "    <tr style=\"text-align: right;\">\n",
              "      <th></th>\n",
              "      <th>target</th>\n",
              "      <th>ids</th>\n",
              "      <th>date</th>\n",
              "      <th>flag</th>\n",
              "      <th>user</th>\n",
              "      <th>text</th>\n",
              "    </tr>\n",
              "  </thead>\n",
              "  <tbody>\n",
              "    <tr>\n",
              "      <th>0</th>\n",
              "      <td>0</td>\n",
              "      <td>1467810369</td>\n",
              "      <td>Mon Apr 06 22:19:45 PDT 2009</td>\n",
              "      <td>NO_QUERY</td>\n",
              "      <td>_TheSpecialOne_</td>\n",
              "      <td>@switchfoot http://twitpic.com/2y1zl - Awww, t...</td>\n",
              "    </tr>\n",
              "    <tr>\n",
              "      <th>1</th>\n",
              "      <td>0</td>\n",
              "      <td>1467810672</td>\n",
              "      <td>Mon Apr 06 22:19:49 PDT 2009</td>\n",
              "      <td>NO_QUERY</td>\n",
              "      <td>scotthamilton</td>\n",
              "      <td>is upset that he can't update his Facebook by ...</td>\n",
              "    </tr>\n",
              "    <tr>\n",
              "      <th>2</th>\n",
              "      <td>0</td>\n",
              "      <td>1467810917</td>\n",
              "      <td>Mon Apr 06 22:19:53 PDT 2009</td>\n",
              "      <td>NO_QUERY</td>\n",
              "      <td>mattycus</td>\n",
              "      <td>@Kenichan I dived many times for the ball. Man...</td>\n",
              "    </tr>\n",
              "    <tr>\n",
              "      <th>3</th>\n",
              "      <td>0</td>\n",
              "      <td>1467811184</td>\n",
              "      <td>Mon Apr 06 22:19:57 PDT 2009</td>\n",
              "      <td>NO_QUERY</td>\n",
              "      <td>ElleCTF</td>\n",
              "      <td>my whole body feels itchy and like its on fire</td>\n",
              "    </tr>\n",
              "    <tr>\n",
              "      <th>4</th>\n",
              "      <td>0</td>\n",
              "      <td>1467811193</td>\n",
              "      <td>Mon Apr 06 22:19:57 PDT 2009</td>\n",
              "      <td>NO_QUERY</td>\n",
              "      <td>Karoli</td>\n",
              "      <td>@nationwideclass no, it's not behaving at all....</td>\n",
              "    </tr>\n",
              "  </tbody>\n",
              "</table>\n",
              "</div>"
            ],
            "text/plain": [
              "   target  ...                                               text\n",
              "0       0  ...  @switchfoot http://twitpic.com/2y1zl - Awww, t...\n",
              "1       0  ...  is upset that he can't update his Facebook by ...\n",
              "2       0  ...  @Kenichan I dived many times for the ball. Man...\n",
              "3       0  ...    my whole body feels itchy and like its on fire \n",
              "4       0  ...  @nationwideclass no, it's not behaving at all....\n",
              "\n",
              "[5 rows x 6 columns]"
            ]
          },
          "metadata": {
            "tags": []
          },
          "execution_count": 18
        }
      ]
    },
    {
      "cell_type": "markdown",
      "metadata": {
        "_uuid": "3f9a7bb129e184967b13261fb5d253af451c75c5",
        "id": "_bTKymR_2COm"
      },
      "source": [
        "### Map target label to String\n",
        "* **0** -> **NEGATIVE**\n",
        "* **2** -> **NEUTRAL**\n",
        "* **4** -> **POSITIVE**"
      ]
    },
    {
      "cell_type": "code",
      "metadata": {
        "trusted": true,
        "_uuid": "14074b59106cb9550440839e48b832223fc9502f",
        "id": "IARnCnYt2COm"
      },
      "source": [
        "decode_map = {0: \"NEGATIVE\", 2: \"NEUTRAL\", 4: \"POSITIVE\"}\n",
        "def decode_sentiment(label):\n",
        "    return decode_map[int(label)]"
      ],
      "execution_count": 19,
      "outputs": []
    },
    {
      "cell_type": "code",
      "metadata": {
        "trusted": true,
        "_uuid": "4449d473187f647a195a6ac6986b009da32a7f4b",
        "colab": {
          "base_uri": "https://localhost:8080/"
        },
        "id": "NFUTiyoO2COm",
        "outputId": "93ab4cb3-ed20-4bd4-9d2d-68f8cf28d317"
      },
      "source": [
        "%%time\n",
        "df.target = df.target.apply(lambda x: decode_sentiment(x))"
      ],
      "execution_count": 20,
      "outputs": [
        {
          "output_type": "stream",
          "text": [
            "CPU times: user 422 ms, sys: 2.6 ms, total: 424 ms\n",
            "Wall time: 426 ms\n"
          ],
          "name": "stdout"
        }
      ]
    },
    {
      "cell_type": "code",
      "metadata": {
        "trusted": true,
        "_uuid": "19eb327803192f31cce3512aacb232f4d6b38715",
        "colab": {
          "base_uri": "https://localhost:8080/",
          "height": 516
        },
        "id": "sfIS41Qq2COm",
        "outputId": "607c5fb0-cbfd-43c2-ca88-be075aa55996"
      },
      "source": [
        "target_cnt = Counter(df.target)\n",
        "\n",
        "plt.figure(figsize=(16,8))\n",
        "plt.bar(target_cnt.keys(), target_cnt.values())\n",
        "plt.title(\"Dataset labels distribuition\")"
      ],
      "execution_count": 21,
      "outputs": [
        {
          "output_type": "execute_result",
          "data": {
            "text/plain": [
              "Text(0.5, 1.0, 'Dataset labels distribuition')"
            ]
          },
          "metadata": {
            "tags": []
          },
          "execution_count": 21
        },
        {
          "output_type": "display_data",
          "data": {
            "image/png": "[encoded data removed]",
            "text/plain": [
              "<Figure size 1152x576 with 1 Axes>"
            ]
          },
          "metadata": {
            "tags": [],
            "needs_background": "light"
          }
        }
      ]
    },
    {
      "cell_type": "markdown",
      "metadata": {
        "_uuid": "4329b1573518b03e497213efa7676220734ebb4b",
        "id": "IN5wtsYx2COm"
      },
      "source": [
        "### Pre-Process dataset"
      ]
    },
    {
      "cell_type": "code",
      "metadata": {
        "trusted": true,
        "_uuid": "8aeee8b7b9ea11b749c7f91cd4787a7b50ed1a91",
        "id": "mIbCvsww2COm"
      },
      "source": [
        "stop_words = stopwords.words(\"english\")\n",
        "stemmer = SnowballStemmer(\"english\")"
      ],
      "execution_count": 22,
      "outputs": []
    },
    {
      "cell_type": "code",
      "metadata": {
        "trusted": true,
        "_uuid": "649ebcb97969b9ac4301138783704bb3d7846a49",
        "id": "PfVgdZEF2COm"
      },
      "source": [
        "def preprocess(text, stem=False):\n",
        "    # Remove link,user and special characters\n",
        "    text = re.sub(TEXT_CLEANING_RE, ' ', str(text).lower()).strip()\n",
        "    tokens = []\n",
        "    for token in text.split():\n",
        "        if token not in stop_words:\n",
        "            if stem:\n",
        "                tokens.append(stemmer.stem(token))\n",
        "            else:\n",
        "                tokens.append(token)\n",
        "    return \" \".join(tokens)"
      ],
      "execution_count": 23,
      "outputs": []
    },
    {
      "cell_type": "code",
      "metadata": {
        "trusted": true,
        "_uuid": "f7f3e77ab9291d14687c49e71ba9b2b1e3323432",
        "colab": {
          "base_uri": "https://localhost:8080/"
        },
        "id": "SqxyZjuK2COm",
        "outputId": "36bd9089-b66e-4182-ca87-3f0c143a24fe"
      },
      "source": [
        "%%time\n",
        "df.text = df.text.apply(lambda x: preprocess(x))"
      ],
      "execution_count": 24,
      "outputs": [
        {
          "output_type": "stream",
          "text": [
            "CPU times: user 41.2 s, sys: 143 ms, total: 41.4 s\n",
            "Wall time: 41.4 s\n"
          ],
          "name": "stdout"
        }
      ]
    },
    {
      "cell_type": "markdown",
      "metadata": {
        "trusted": true,
        "_uuid": "f5f9714a8507409bbe780eebf2855a33e8e6ba37",
        "id": "uUxQgjoS2COm"
      },
      "source": [
        "### Split train and test"
      ]
    },
    {
      "cell_type": "code",
      "metadata": {
        "trusted": true,
        "_uuid": "d2b1179c968e3f3910c790ecf0c5b2cbb34b0e68",
        "colab": {
          "base_uri": "https://localhost:8080/"
        },
        "id": "4FKM1ZQp2COm",
        "outputId": "fc520fa6-1489-4f28-a3cd-1a11b2bda6ee"
      },
      "source": [
        "df_train, df_test = train_test_split(df, test_size=1-TRAIN_SIZE, random_state=42)\n",
        "print(\"TRAIN size:\", len(df_train))\n",
        "print(\"TEST size:\", len(df_test))"
      ],
      "execution_count": 25,
      "outputs": [
        {
          "output_type": "stream",
          "text": [
            "TRAIN size: 1280000\n",
            "TEST size: 320000\n"
          ],
          "name": "stdout"
        }
      ]
    },
    {
      "cell_type": "markdown",
      "metadata": {
        "_uuid": "f08a28aab2c3d16d8b9681a7d5d07587153a1cd6",
        "id": "DHzfKBrJ2COm"
      },
      "source": [
        "### Word2Vec "
      ]
    },
    {
      "cell_type": "code",
      "metadata": {
        "trusted": true,
        "_uuid": "2461bf564de1b4414841933d0c1d1bee5f5cc5a6",
        "colab": {
          "base_uri": "https://localhost:8080/"
        },
        "id": "qKNzJ4XX2COm",
        "outputId": "867b44c1-a525-4070-ddd6-ede19632e6b1"
      },
      "source": [
        "%%time\n",
        "documents = [_text.split() for _text in df_train.text] "
      ],
      "execution_count": 26,
      "outputs": [
        {
          "output_type": "stream",
          "text": [
            "CPU times: user 2.57 s, sys: 303 ms, total: 2.88 s\n",
            "Wall time: 2.88 s\n"
          ],
          "name": "stdout"
        }
      ]
    },
    {
      "cell_type": "code",
      "metadata": {
        "trusted": true,
        "_uuid": "8e19b9f25801ba86420decc266d2b3e6fb44f1ea",
        "id": "GoqtDg1H2COn"
      },
      "source": [
        "w2v_model = gensim.models.word2vec.Word2Vec(size=W2V_SIZE, \n",
        "                                            window=W2V_WINDOW, \n",
        "                                            min_count=W2V_MIN_COUNT, \n",
        "                                            workers=8)"
      ],
      "execution_count": 28,
      "outputs": []
    },
    {
      "cell_type": "code",
      "metadata": {
        "trusted": true,
        "_uuid": "58d655af07653c594bec6bebcfb302a973b0ad9c",
        "colab": {
          "base_uri": "https://localhost:8080/"
        },
        "id": "cPpb9yP52COn",
        "outputId": "bf11a493-24a1-4e8c-b52a-6c6874296d21"
      },
      "source": [
        "w2v_model.build_vocab(documents)"
      ],
      "execution_count": 29,
      "outputs": [
        {
          "output_type": "stream",
          "text": [
            "2020-11-21 22:30:16,084 : INFO : collecting all words and their counts\n",
            "2020-11-21 22:30:16,086 : INFO : PROGRESS: at sentence #0, processed 0 words, keeping 0 word types\n",
            "2020-11-21 22:30:16,112 : INFO : PROGRESS: at sentence #10000, processed 72565 words, keeping 14005 word types\n",
            "2020-11-21 22:30:16,129 : INFO : PROGRESS: at sentence #20000, processed 144393 words, keeping 21587 word types\n",
            "2020-11-21 22:30:16,151 : INFO : PROGRESS: at sentence #30000, processed 215826 words, keeping 27541 word types\n",
            "2020-11-21 22:30:16,169 : INFO : PROGRESS: at sentence #40000, processed 288271 words, keeping 32764 word types\n",
            "2020-11-21 22:30:16,191 : INFO : PROGRESS: at sentence #50000, processed 359772 words, keeping 37587 word types\n",
            "2020-11-21 22:30:16,212 : INFO : PROGRESS: at sentence #60000, processed 431431 words, keeping 42198 word types\n",
            "2020-11-21 22:30:16,233 : INFO : PROGRESS: at sentence #70000, processed 503103 words, keeping 46458 word types\n",
            "2020-11-21 22:30:16,251 : INFO : PROGRESS: at sentence #80000, processed 575709 words, keeping 50476 word types\n",
            "2020-11-21 22:30:16,272 : INFO : PROGRESS: at sentence #90000, processed 647100 words, keeping 54140 word types\n",
            "2020-11-21 22:30:16,291 : INFO : PROGRESS: at sentence #100000, processed 718681 words, keeping 57777 word types\n",
            "2020-11-21 22:30:16,311 : INFO : PROGRESS: at sentence #110000, processed 790696 words, keeping 61207 word types\n",
            "2020-11-21 22:30:16,329 : INFO : PROGRESS: at sentence #120000, processed 863134 words, keeping 64583 word types\n",
            "2020-11-21 22:30:16,349 : INFO : PROGRESS: at sentence #130000, processed 935111 words, keeping 67865 word types\n",
            "2020-11-21 22:30:16,369 : INFO : PROGRESS: at sentence #140000, processed 1006668 words, keeping 70966 word types\n",
            "2020-11-21 22:30:16,388 : INFO : PROGRESS: at sentence #150000, processed 1078512 words, keeping 74119 word types\n",
            "2020-11-21 22:30:16,409 : INFO : PROGRESS: at sentence #160000, processed 1149914 words, keeping 77187 word types\n",
            "2020-11-21 22:30:16,429 : INFO : PROGRESS: at sentence #170000, processed 1222145 words, keeping 80267 word types\n",
            "2020-11-21 22:30:16,449 : INFO : PROGRESS: at sentence #180000, processed 1294708 words, keeping 83393 word types\n",
            "2020-11-21 22:30:16,469 : INFO : PROGRESS: at sentence #190000, processed 1367608 words, keeping 86329 word types\n",
            "2020-11-21 22:30:16,492 : INFO : PROGRESS: at sentence #200000, processed 1439469 words, keeping 89103 word types\n",
            "2020-11-21 22:30:16,512 : INFO : PROGRESS: at sentence #210000, processed 1512099 words, keeping 91840 word types\n",
            "2020-11-21 22:30:16,532 : INFO : PROGRESS: at sentence #220000, processed 1584149 words, keeping 94636 word types\n",
            "2020-11-21 22:30:16,554 : INFO : PROGRESS: at sentence #230000, processed 1656354 words, keeping 97353 word types\n",
            "2020-11-21 22:30:16,575 : INFO : PROGRESS: at sentence #240000, processed 1728573 words, keeping 99975 word types\n",
            "2020-11-21 22:30:16,595 : INFO : PROGRESS: at sentence #250000, processed 1801102 words, keeping 102594 word types\n",
            "2020-11-21 22:30:16,617 : INFO : PROGRESS: at sentence #260000, processed 1873103 words, keeping 105162 word types\n",
            "2020-11-21 22:30:16,636 : INFO : PROGRESS: at sentence #270000, processed 1945245 words, keeping 107626 word types\n",
            "2020-11-21 22:30:16,657 : INFO : PROGRESS: at sentence #280000, processed 2017163 words, keeping 110141 word types\n",
            "2020-11-21 22:30:16,678 : INFO : PROGRESS: at sentence #290000, processed 2089574 words, keeping 112539 word types\n",
            "2020-11-21 22:30:16,698 : INFO : PROGRESS: at sentence #300000, processed 2160996 words, keeping 114893 word types\n",
            "2020-11-21 22:30:16,721 : INFO : PROGRESS: at sentence #310000, processed 2232913 words, keeping 117298 word types\n",
            "2020-11-21 22:30:16,742 : INFO : PROGRESS: at sentence #320000, processed 2305039 words, keeping 119693 word types\n",
            "2020-11-21 22:30:16,766 : INFO : PROGRESS: at sentence #330000, processed 2377119 words, keeping 122131 word types\n",
            "2020-11-21 22:30:16,787 : INFO : PROGRESS: at sentence #340000, processed 2449370 words, keeping 124416 word types\n",
            "2020-11-21 22:30:16,806 : INFO : PROGRESS: at sentence #350000, processed 2521564 words, keeping 126669 word types\n",
            "2020-11-21 22:30:16,828 : INFO : PROGRESS: at sentence #360000, processed 2593681 words, keeping 128912 word types\n",
            "2020-11-21 22:30:16,847 : INFO : PROGRESS: at sentence #370000, processed 2665692 words, keeping 131135 word types\n",
            "2020-11-21 22:30:16,870 : INFO : PROGRESS: at sentence #380000, processed 2737859 words, keeping 133403 word types\n",
            "2020-11-21 22:30:16,894 : INFO : PROGRESS: at sentence #390000, processed 2809848 words, keeping 135551 word types\n",
            "2020-11-21 22:30:16,917 : INFO : PROGRESS: at sentence #400000, processed 2882438 words, keeping 137742 word types\n",
            "2020-11-21 22:30:16,937 : INFO : PROGRESS: at sentence #410000, processed 2954075 words, keeping 139909 word types\n",
            "2020-11-21 22:30:16,959 : INFO : PROGRESS: at sentence #420000, processed 3026247 words, keeping 142144 word types\n",
            "2020-11-21 22:30:16,979 : INFO : PROGRESS: at sentence #430000, processed 3098659 words, keeping 144364 word types\n",
            "2020-11-21 22:30:17,001 : INFO : PROGRESS: at sentence #440000, processed 3170663 words, keeping 146439 word types\n",
            "2020-11-21 22:30:17,021 : INFO : PROGRESS: at sentence #450000, processed 3243344 words, keeping 148526 word types\n",
            "2020-11-21 22:30:17,041 : INFO : PROGRESS: at sentence #460000, processed 3315466 words, keeping 150610 word types\n",
            "2020-11-21 22:30:17,063 : INFO : PROGRESS: at sentence #470000, processed 3388295 words, keeping 152737 word types\n",
            "2020-11-21 22:30:17,088 : INFO : PROGRESS: at sentence #480000, processed 3460120 words, keeping 154757 word types\n",
            "2020-11-21 22:30:17,109 : INFO : PROGRESS: at sentence #490000, processed 3531883 words, keeping 156825 word types\n",
            "2020-11-21 22:30:17,134 : INFO : PROGRESS: at sentence #500000, processed 3604217 words, keeping 158859 word types\n",
            "2020-11-21 22:30:17,157 : INFO : PROGRESS: at sentence #510000, processed 3676427 words, keeping 160852 word types\n",
            "2020-11-21 22:30:17,177 : INFO : PROGRESS: at sentence #520000, processed 3749045 words, keeping 162863 word types\n",
            "2020-11-21 22:30:17,198 : INFO : PROGRESS: at sentence #530000, processed 3821622 words, keeping 164929 word types\n",
            "2020-11-21 22:30:17,221 : INFO : PROGRESS: at sentence #540000, processed 3893627 words, keeping 166840 word types\n",
            "2020-11-21 22:30:17,240 : INFO : PROGRESS: at sentence #550000, processed 3965477 words, keeping 168799 word types\n",
            "2020-11-21 22:30:17,262 : INFO : PROGRESS: at sentence #560000, processed 4038050 words, keeping 170802 word types\n",
            "2020-11-21 22:30:17,284 : INFO : PROGRESS: at sentence #570000, processed 4110296 words, keeping 172760 word types\n",
            "2020-11-21 22:30:17,303 : INFO : PROGRESS: at sentence #580000, processed 4182385 words, keeping 174635 word types\n",
            "2020-11-21 22:30:17,329 : INFO : PROGRESS: at sentence #590000, processed 4254632 words, keeping 176470 word types\n",
            "2020-11-21 22:30:17,349 : INFO : PROGRESS: at sentence #600000, processed 4326859 words, keeping 178350 word types\n",
            "2020-11-21 22:30:17,369 : INFO : PROGRESS: at sentence #610000, processed 4399183 words, keeping 180290 word types\n",
            "2020-11-21 22:30:17,390 : INFO : PROGRESS: at sentence #620000, processed 4471343 words, keeping 182129 word types\n",
            "2020-11-21 22:30:17,409 : INFO : PROGRESS: at sentence #630000, processed 4543286 words, keeping 184005 word types\n",
            "2020-11-21 22:30:17,430 : INFO : PROGRESS: at sentence #640000, processed 4615780 words, keeping 185835 word types\n",
            "2020-11-21 22:30:17,449 : INFO : PROGRESS: at sentence #650000, processed 4688481 words, keeping 187705 word types\n",
            "2020-11-21 22:30:17,470 : INFO : PROGRESS: at sentence #660000, processed 4760481 words, keeping 189439 word types\n",
            "2020-11-21 22:30:17,489 : INFO : PROGRESS: at sentence #670000, processed 4833024 words, keeping 191232 word types\n",
            "2020-11-21 22:30:17,509 : INFO : PROGRESS: at sentence #680000, processed 4904516 words, keeping 193177 word types\n",
            "2020-11-21 22:30:17,533 : INFO : PROGRESS: at sentence #690000, processed 4976968 words, keeping 194960 word types\n",
            "2020-11-21 22:30:17,553 : INFO : PROGRESS: at sentence #700000, processed 5049412 words, keeping 196725 word types\n",
            "2020-11-21 22:30:17,574 : INFO : PROGRESS: at sentence #710000, processed 5121976 words, keeping 198516 word types\n",
            "2020-11-21 22:30:17,594 : INFO : PROGRESS: at sentence #720000, processed 5193881 words, keeping 200325 word types\n",
            "2020-11-21 22:30:17,615 : INFO : PROGRESS: at sentence #730000, processed 5265467 words, keeping 202133 word types\n",
            "2020-11-21 22:30:17,635 : INFO : PROGRESS: at sentence #740000, processed 5337518 words, keeping 203818 word types\n",
            "2020-11-21 22:30:17,656 : INFO : PROGRESS: at sentence #750000, processed 5409321 words, keeping 205535 word types\n",
            "2020-11-21 22:30:17,675 : INFO : PROGRESS: at sentence #760000, processed 5481512 words, keeping 207282 word types\n",
            "2020-11-21 22:30:17,696 : INFO : PROGRESS: at sentence #770000, processed 5554093 words, keeping 209076 word types\n",
            "2020-11-21 22:30:17,718 : INFO : PROGRESS: at sentence #780000, processed 5625382 words, keeping 210805 word types\n",
            "2020-11-21 22:30:17,740 : INFO : PROGRESS: at sentence #790000, processed 5698066 words, keeping 212618 word types\n",
            "2020-11-21 22:30:17,764 : INFO : PROGRESS: at sentence #800000, processed 5770880 words, keeping 214374 word types\n",
            "2020-11-21 22:30:17,790 : INFO : PROGRESS: at sentence #810000, processed 5843418 words, keeping 216009 word types\n",
            "2020-11-21 22:30:17,814 : INFO : PROGRESS: at sentence #820000, processed 5915628 words, keeping 217804 word types\n",
            "2020-11-21 22:30:17,836 : INFO : PROGRESS: at sentence #830000, processed 5987499 words, keeping 219585 word types\n",
            "2020-11-21 22:30:17,855 : INFO : PROGRESS: at sentence #840000, processed 6058973 words, keeping 221344 word types\n",
            "2020-11-21 22:30:17,877 : INFO : PROGRESS: at sentence #850000, processed 6131125 words, keeping 223002 word types\n",
            "2020-11-21 22:30:17,905 : INFO : PROGRESS: at sentence #860000, processed 6202951 words, keeping 224643 word types\n",
            "2020-11-21 22:30:17,928 : INFO : PROGRESS: at sentence #870000, processed 6275461 words, keeping 226362 word types\n",
            "2020-11-21 22:30:17,950 : INFO : PROGRESS: at sentence #880000, processed 6347661 words, keeping 227986 word types\n",
            "2020-11-21 22:30:17,972 : INFO : PROGRESS: at sentence #890000, processed 6419806 words, keeping 229634 word types\n",
            "2020-11-21 22:30:17,992 : INFO : PROGRESS: at sentence #900000, processed 6491644 words, keeping 231389 word types\n",
            "2020-11-21 22:30:18,014 : INFO : PROGRESS: at sentence #910000, processed 6564022 words, keeping 233050 word types\n",
            "2020-11-21 22:30:18,033 : INFO : PROGRESS: at sentence #920000, processed 6636228 words, keeping 234686 word types\n",
            "2020-11-21 22:30:18,057 : INFO : PROGRESS: at sentence #930000, processed 6708573 words, keeping 236393 word types\n",
            "2020-11-21 22:30:18,079 : INFO : PROGRESS: at sentence #940000, processed 6779956 words, keeping 238052 word types\n",
            "2020-11-21 22:30:18,103 : INFO : PROGRESS: at sentence #950000, processed 6852599 words, keeping 239716 word types\n",
            "2020-11-21 22:30:18,123 : INFO : PROGRESS: at sentence #960000, processed 6924717 words, keeping 241354 word types\n",
            "2020-11-21 22:30:18,147 : INFO : PROGRESS: at sentence #970000, processed 6996992 words, keeping 242980 word types\n",
            "2020-11-21 22:30:18,167 : INFO : PROGRESS: at sentence #980000, processed 7068402 words, keeping 244646 word types\n",
            "2020-11-21 22:30:18,189 : INFO : PROGRESS: at sentence #990000, processed 7140346 words, keeping 246186 word types\n",
            "2020-11-21 22:30:18,209 : INFO : PROGRESS: at sentence #1000000, processed 7211757 words, keeping 247726 word types\n",
            "2020-11-21 22:30:18,231 : INFO : PROGRESS: at sentence #1010000, processed 7283267 words, keeping 249288 word types\n",
            "2020-11-21 22:30:18,253 : INFO : PROGRESS: at sentence #1020000, processed 7355299 words, keeping 250860 word types\n",
            "2020-11-21 22:30:18,272 : INFO : PROGRESS: at sentence #1030000, processed 7426918 words, keeping 252366 word types\n",
            "2020-11-21 22:30:18,293 : INFO : PROGRESS: at sentence #1040000, processed 7498815 words, keeping 253930 word types\n",
            "2020-11-21 22:30:18,314 : INFO : PROGRESS: at sentence #1050000, processed 7570499 words, keeping 255471 word types\n",
            "2020-11-21 22:30:18,335 : INFO : PROGRESS: at sentence #1060000, processed 7643251 words, keeping 257035 word types\n",
            "2020-11-21 22:30:18,355 : INFO : PROGRESS: at sentence #1070000, processed 7714721 words, keeping 258509 word types\n",
            "2020-11-21 22:30:18,378 : INFO : PROGRESS: at sentence #1080000, processed 7787371 words, keeping 260071 word types\n",
            "2020-11-21 22:30:18,398 : INFO : PROGRESS: at sentence #1090000, processed 7859336 words, keeping 261683 word types\n",
            "2020-11-21 22:30:18,422 : INFO : PROGRESS: at sentence #1100000, processed 7932029 words, keeping 263278 word types\n",
            "2020-11-21 22:30:18,442 : INFO : PROGRESS: at sentence #1110000, processed 8004146 words, keeping 264800 word types\n",
            "2020-11-21 22:30:18,465 : INFO : PROGRESS: at sentence #1120000, processed 8075880 words, keeping 266309 word types\n",
            "2020-11-21 22:30:18,484 : INFO : PROGRESS: at sentence #1130000, processed 8148163 words, keeping 267826 word types\n",
            "2020-11-21 22:30:18,505 : INFO : PROGRESS: at sentence #1140000, processed 8220487 words, keeping 269391 word types\n",
            "2020-11-21 22:30:18,528 : INFO : PROGRESS: at sentence #1150000, processed 8292498 words, keeping 270894 word types\n",
            "2020-11-21 22:30:18,547 : INFO : PROGRESS: at sentence #1160000, processed 8363838 words, keeping 272400 word types\n",
            "2020-11-21 22:30:18,569 : INFO : PROGRESS: at sentence #1170000, processed 8435510 words, keeping 273970 word types\n",
            "2020-11-21 22:30:18,591 : INFO : PROGRESS: at sentence #1180000, processed 8507795 words, keeping 275521 word types\n",
            "2020-11-21 22:30:18,611 : INFO : PROGRESS: at sentence #1190000, processed 8579080 words, keeping 277007 word types\n",
            "2020-11-21 22:30:18,635 : INFO : PROGRESS: at sentence #1200000, processed 8650606 words, keeping 278457 word types\n",
            "2020-11-21 22:30:18,656 : INFO : PROGRESS: at sentence #1210000, processed 8721893 words, keeping 279959 word types\n",
            "2020-11-21 22:30:18,680 : INFO : PROGRESS: at sentence #1220000, processed 8793795 words, keeping 281427 word types\n",
            "2020-11-21 22:30:18,706 : INFO : PROGRESS: at sentence #1230000, processed 8865726 words, keeping 282981 word types\n",
            "2020-11-21 22:30:18,728 : INFO : PROGRESS: at sentence #1240000, processed 8938173 words, keeping 284542 word types\n",
            "2020-11-21 22:30:18,756 : INFO : PROGRESS: at sentence #1250000, processed 9010842 words, keeping 286064 word types\n",
            "2020-11-21 22:30:18,778 : INFO : PROGRESS: at sentence #1260000, processed 9083261 words, keeping 287521 word types\n",
            "2020-11-21 22:30:18,801 : INFO : PROGRESS: at sentence #1270000, processed 9155616 words, keeping 288987 word types\n",
            "2020-11-21 22:30:18,820 : INFO : collected 290418 word types from a corpus of 9227204 raw words and 1280000 sentences\n",
            "2020-11-21 22:30:18,822 : INFO : Loading a fresh vocabulary\n",
            "2020-11-21 22:30:18,972 : INFO : effective_min_count=10 retains 30369 unique words (10% of original 290418, drops 260049)\n",
            "2020-11-21 22:30:18,972 : INFO : effective_min_count=10 leaves 8780739 word corpus (95% of original 9227204, drops 446465)\n",
            "2020-11-21 22:30:19,059 : INFO : deleting the raw counts dictionary of 290418 items\n",
            "2020-11-21 22:30:19,066 : INFO : sample=0.001 downsamples 45 most-common words\n",
            "2020-11-21 22:30:19,066 : INFO : downsampling leaves estimated 8222658 word corpus (93.6% of prior 8780739)\n",
            "2020-11-21 22:30:19,143 : INFO : estimated required memory for 30369 words and 300 dimensions: 88070100 bytes\n",
            "2020-11-21 22:30:19,144 : INFO : resetting layer weights\n"
          ],
          "name": "stderr"
        }
      ]
    },
    {
      "cell_type": "code",
      "metadata": {
        "trusted": true,
        "_uuid": "72a5628ca81fd4b8983c12d93ae0bf950b86b6ae",
        "colab": {
          "base_uri": "https://localhost:8080/"
        },
        "id": "W-7GeHWn2COn",
        "outputId": "af7ee2f1-a95c-458f-9095-50cc64d9f4f8"
      },
      "source": [
        "words = w2v_model.wv.vocab.keys()\n",
        "vocab_size = len(words)\n",
        "print(\"Vocab size\", vocab_size)"
      ],
      "execution_count": 30,
      "outputs": [
        {
          "output_type": "stream",
          "text": [
            "Vocab size 30369\n"
          ],
          "name": "stdout"
        }
      ]
    },
    {
      "cell_type": "code",
      "metadata": {
        "trusted": true,
        "_uuid": "68c3e4a5ba07cac3dee67f78ecdd1404c7f83f14",
        "colab": {
          "base_uri": "https://localhost:8080/"
        },
        "id": "WbH6h7rZ2COn",
        "outputId": "508c566f-46b0-4970-e415-7cbc39bc252b"
      },
      "source": [
        "%%time\n",
        "w2v_model.train(documents, total_examples=len(documents), epochs=W2V_EPOCH)"
      ],
      "execution_count": 31,
      "outputs": [
        {
          "output_type": "stream",
          "text": [
            "2020-11-21 22:31:45,311 : INFO : training model with 8 workers on 30369 vocabulary and 300 features, using sg=0 hs=0 sample=0.001 negative=5 window=7\n",
            "2020-11-21 22:31:46,387 : INFO : EPOCH 1 - PROGRESS: at 5.32% examples, 410966 words/s, in_qsize 14, out_qsize 1\n",
            "2020-11-21 22:31:47,429 : INFO : EPOCH 1 - PROGRESS: at 10.42% examples, 406489 words/s, in_qsize 14, out_qsize 1\n",
            "2020-11-21 22:31:48,484 : INFO : EPOCH 1 - PROGRESS: at 16.05% examples, 421282 words/s, in_qsize 14, out_qsize 3\n",
            "2020-11-21 22:31:49,477 : INFO : EPOCH 1 - PROGRESS: at 21.35% examples, 422638 words/s, in_qsize 14, out_qsize 1\n",
            "2020-11-21 22:31:50,504 : INFO : EPOCH 1 - PROGRESS: at 26.56% examples, 421352 words/s, in_qsize 15, out_qsize 3\n",
            "2020-11-21 22:31:51,580 : INFO : EPOCH 1 - PROGRESS: at 32.62% examples, 428618 words/s, in_qsize 15, out_qsize 0\n",
            "2020-11-21 22:31:52,707 : INFO : EPOCH 1 - PROGRESS: at 38.35% examples, 427375 words/s, in_qsize 15, out_qsize 2\n",
            "2020-11-21 22:31:53,741 : INFO : EPOCH 1 - PROGRESS: at 43.75% examples, 427560 words/s, in_qsize 15, out_qsize 6\n",
            "2020-11-21 22:31:54,800 : INFO : EPOCH 1 - PROGRESS: at 49.81% examples, 432426 words/s, in_qsize 15, out_qsize 0\n",
            "2020-11-21 22:31:55,808 : INFO : EPOCH 1 - PROGRESS: at 55.10% examples, 432512 words/s, in_qsize 15, out_qsize 0\n",
            "2020-11-21 22:31:56,842 : INFO : EPOCH 1 - PROGRESS: at 60.20% examples, 430043 words/s, in_qsize 16, out_qsize 3\n",
            "2020-11-21 22:31:57,850 : INFO : EPOCH 1 - PROGRESS: at 65.50% examples, 430281 words/s, in_qsize 15, out_qsize 0\n",
            "2020-11-21 22:31:58,870 : INFO : EPOCH 1 - PROGRESS: at 70.91% examples, 430769 words/s, in_qsize 16, out_qsize 1\n",
            "2020-11-21 22:31:59,903 : INFO : EPOCH 1 - PROGRESS: at 76.55% examples, 431985 words/s, in_qsize 15, out_qsize 0\n",
            "2020-11-21 22:32:00,925 : INFO : EPOCH 1 - PROGRESS: at 82.10% examples, 432811 words/s, in_qsize 16, out_qsize 2\n",
            "2020-11-21 22:32:01,977 : INFO : EPOCH 1 - PROGRESS: at 87.62% examples, 432739 words/s, in_qsize 15, out_qsize 0\n",
            "2020-11-21 22:32:03,075 : INFO : EPOCH 1 - PROGRESS: at 92.94% examples, 430513 words/s, in_qsize 13, out_qsize 4\n",
            "2020-11-21 22:32:04,080 : INFO : EPOCH 1 - PROGRESS: at 98.69% examples, 432621 words/s, in_qsize 12, out_qsize 1\n",
            "2020-11-21 22:32:04,187 : INFO : worker thread finished; awaiting finish of 7 more threads\n",
            "2020-11-21 22:32:04,191 : INFO : worker thread finished; awaiting finish of 6 more threads\n",
            "2020-11-21 22:32:04,206 : INFO : worker thread finished; awaiting finish of 5 more threads\n",
            "2020-11-21 22:32:04,214 : INFO : worker thread finished; awaiting finish of 4 more threads\n",
            "2020-11-21 22:32:04,216 : INFO : worker thread finished; awaiting finish of 3 more threads\n",
            "2020-11-21 22:32:04,226 : INFO : worker thread finished; awaiting finish of 2 more threads\n",
            "2020-11-21 22:32:04,237 : INFO : worker thread finished; awaiting finish of 1 more threads\n",
            "2020-11-21 22:32:04,250 : INFO : worker thread finished; awaiting finish of 0 more threads\n",
            "2020-11-21 22:32:04,250 : INFO : EPOCH - 1 : training on 9227204 raw words (8221821 effective words) took 18.9s, 434432 effective words/s\n",
            "2020-11-21 22:32:05,336 : INFO : EPOCH 2 - PROGRESS: at 4.89% examples, 373307 words/s, in_qsize 11, out_qsize 4\n",
            "2020-11-21 22:32:06,385 : INFO : EPOCH 2 - PROGRESS: at 10.75% examples, 415597 words/s, in_qsize 14, out_qsize 1\n",
            "2020-11-21 22:32:07,428 : INFO : EPOCH 2 - PROGRESS: at 16.16% examples, 419320 words/s, in_qsize 16, out_qsize 0\n",
            "2020-11-21 22:32:08,443 : INFO : EPOCH 2 - PROGRESS: at 21.46% examples, 421846 words/s, in_qsize 15, out_qsize 0\n",
            "2020-11-21 22:32:09,457 : INFO : EPOCH 2 - PROGRESS: at 27.42% examples, 433863 words/s, in_qsize 15, out_qsize 0\n",
            "2020-11-21 22:32:10,461 : INFO : EPOCH 2 - PROGRESS: at 32.30% examples, 428267 words/s, in_qsize 14, out_qsize 1\n",
            "2020-11-21 22:32:11,464 : INFO : EPOCH 2 - PROGRESS: at 37.59% examples, 429171 words/s, in_qsize 15, out_qsize 2\n",
            "2020-11-21 22:32:12,480 : INFO : EPOCH 2 - PROGRESS: at 43.11% examples, 431428 words/s, in_qsize 15, out_qsize 0\n",
            "2020-11-21 22:32:13,535 : INFO : EPOCH 2 - PROGRESS: at 48.51% examples, 430360 words/s, in_qsize 16, out_qsize 1\n",
            "2020-11-21 22:32:14,544 : INFO : EPOCH 2 - PROGRESS: at 53.81% examples, 430591 words/s, in_qsize 14, out_qsize 1\n",
            "2020-11-21 22:32:15,574 : INFO : EPOCH 2 - PROGRESS: at 59.34% examples, 431557 words/s, in_qsize 15, out_qsize 0\n",
            "2020-11-21 22:32:16,636 : INFO : EPOCH 2 - PROGRESS: at 64.73% examples, 431101 words/s, in_qsize 14, out_qsize 4\n",
            "2020-11-21 22:32:17,643 : INFO : EPOCH 2 - PROGRESS: at 70.26% examples, 432081 words/s, in_qsize 15, out_qsize 0\n",
            "2020-11-21 22:32:18,701 : INFO : EPOCH 2 - PROGRESS: at 75.89% examples, 432449 words/s, in_qsize 15, out_qsize 0\n",
            "2020-11-21 22:32:19,764 : INFO : EPOCH 2 - PROGRESS: at 81.23% examples, 430951 words/s, in_qsize 15, out_qsize 0\n",
            "2020-11-21 22:32:20,770 : INFO : EPOCH 2 - PROGRESS: at 86.64% examples, 431653 words/s, in_qsize 15, out_qsize 1\n",
            "2020-11-21 22:32:21,782 : INFO : EPOCH 2 - PROGRESS: at 91.74% examples, 430592 words/s, in_qsize 14, out_qsize 1\n",
            "2020-11-21 22:32:22,785 : INFO : EPOCH 2 - PROGRESS: at 97.17% examples, 431323 words/s, in_qsize 13, out_qsize 2\n",
            "2020-11-21 22:32:23,113 : INFO : worker thread finished; awaiting finish of 7 more threads\n",
            "2020-11-21 22:32:23,122 : INFO : worker thread finished; awaiting finish of 6 more threads\n",
            "2020-11-21 22:32:23,169 : INFO : worker thread finished; awaiting finish of 5 more threads\n",
            "2020-11-21 22:32:23,174 : INFO : worker thread finished; awaiting finish of 4 more threads\n",
            "2020-11-21 22:32:23,184 : INFO : worker thread finished; awaiting finish of 3 more threads\n",
            "2020-11-21 22:32:23,188 : INFO : worker thread finished; awaiting finish of 2 more threads\n",
            "2020-11-21 22:32:23,199 : INFO : worker thread finished; awaiting finish of 1 more threads\n",
            "2020-11-21 22:32:23,200 : INFO : worker thread finished; awaiting finish of 0 more threads\n",
            "2020-11-21 22:32:23,200 : INFO : EPOCH - 2 : training on 9227204 raw words (8221771 effective words) took 18.9s, 434142 effective words/s\n",
            "2020-11-21 22:32:24,224 : INFO : EPOCH 3 - PROGRESS: at 5.21% examples, 422720 words/s, in_qsize 15, out_qsize 0\n",
            "2020-11-21 22:32:25,306 : INFO : EPOCH 3 - PROGRESS: at 10.75% examples, 421489 words/s, in_qsize 15, out_qsize 0\n",
            "2020-11-21 22:32:26,356 : INFO : EPOCH 3 - PROGRESS: at 16.27% examples, 425037 words/s, in_qsize 13, out_qsize 3\n",
            "2020-11-21 22:32:27,367 : INFO : EPOCH 3 - PROGRESS: at 22.33% examples, 441600 words/s, in_qsize 15, out_qsize 0\n",
            "2020-11-21 22:32:28,480 : INFO : EPOCH 3 - PROGRESS: at 27.86% examples, 434607 words/s, in_qsize 15, out_qsize 0\n",
            "2020-11-21 22:32:29,492 : INFO : EPOCH 3 - PROGRESS: at 33.37% examples, 436895 words/s, in_qsize 15, out_qsize 1\n",
            "2020-11-21 22:32:30,495 : INFO : EPOCH 3 - PROGRESS: at 38.89% examples, 439136 words/s, in_qsize 15, out_qsize 0\n",
            "2020-11-21 22:32:31,534 : INFO : EPOCH 3 - PROGRESS: at 43.75% examples, 432456 words/s, in_qsize 13, out_qsize 6\n",
            "2020-11-21 22:32:32,539 : INFO : EPOCH 3 - PROGRESS: at 49.27% examples, 434616 words/s, in_qsize 16, out_qsize 2\n",
            "2020-11-21 22:32:33,543 : INFO : EPOCH 3 - PROGRESS: at 54.67% examples, 435514 words/s, in_qsize 15, out_qsize 0\n",
            "2020-11-21 22:32:34,599 : INFO : EPOCH 3 - PROGRESS: at 60.30% examples, 435812 words/s, in_qsize 15, out_qsize 0\n",
            "2020-11-21 22:32:35,625 : INFO : EPOCH 3 - PROGRESS: at 65.93% examples, 437095 words/s, in_qsize 15, out_qsize 0\n",
            "2020-11-21 22:32:36,644 : INFO : EPOCH 3 - PROGRESS: at 71.13% examples, 435752 words/s, in_qsize 15, out_qsize 1\n",
            "2020-11-21 22:32:37,648 : INFO : EPOCH 3 - PROGRESS: at 76.66% examples, 436897 words/s, in_qsize 14, out_qsize 1\n",
            "2020-11-21 22:32:38,736 : INFO : EPOCH 3 - PROGRESS: at 82.31% examples, 436101 words/s, in_qsize 13, out_qsize 2\n",
            "2020-11-21 22:32:39,757 : INFO : EPOCH 3 - PROGRESS: at 87.83% examples, 436984 words/s, in_qsize 15, out_qsize 5\n",
            "2020-11-21 22:32:40,763 : INFO : EPOCH 3 - PROGRESS: at 93.26% examples, 436972 words/s, in_qsize 15, out_qsize 0\n",
            "2020-11-21 22:32:41,781 : INFO : EPOCH 3 - PROGRESS: at 98.90% examples, 437974 words/s, in_qsize 11, out_qsize 0\n",
            "2020-11-21 22:32:41,865 : INFO : worker thread finished; awaiting finish of 7 more threads\n",
            "2020-11-21 22:32:41,906 : INFO : worker thread finished; awaiting finish of 6 more threads\n",
            "2020-11-21 22:32:41,917 : INFO : worker thread finished; awaiting finish of 5 more threads\n",
            "2020-11-21 22:32:41,923 : INFO : worker thread finished; awaiting finish of 4 more threads\n",
            "2020-11-21 22:32:41,925 : INFO : worker thread finished; awaiting finish of 3 more threads\n",
            "2020-11-21 22:32:41,926 : INFO : worker thread finished; awaiting finish of 2 more threads\n",
            "2020-11-21 22:32:41,929 : INFO : worker thread finished; awaiting finish of 1 more threads\n",
            "2020-11-21 22:32:41,930 : INFO : worker thread finished; awaiting finish of 0 more threads\n",
            "2020-11-21 22:32:41,930 : INFO : EPOCH - 3 : training on 9227204 raw words (8222696 effective words) took 18.7s, 439293 effective words/s\n",
            "2020-11-21 22:32:42,951 : INFO : EPOCH 4 - PROGRESS: at 5.00% examples, 407140 words/s, in_qsize 15, out_qsize 0\n",
            "2020-11-21 22:32:43,975 : INFO : EPOCH 4 - PROGRESS: at 10.31% examples, 416969 words/s, in_qsize 15, out_qsize 0\n",
            "2020-11-21 22:32:45,018 : INFO : EPOCH 4 - PROGRESS: at 15.73% examples, 420365 words/s, in_qsize 14, out_qsize 1\n",
            "2020-11-21 22:32:46,025 : INFO : EPOCH 4 - PROGRESS: at 21.03% examples, 423605 words/s, in_qsize 16, out_qsize 0\n",
            "2020-11-21 22:32:47,105 : INFO : EPOCH 4 - PROGRESS: at 26.45% examples, 421311 words/s, in_qsize 16, out_qsize 1\n",
            "2020-11-21 22:32:48,156 : INFO : EPOCH 4 - PROGRESS: at 32.08% examples, 424607 words/s, in_qsize 15, out_qsize 0\n",
            "2020-11-21 22:32:49,159 : INFO : EPOCH 4 - PROGRESS: at 37.16% examples, 423572 words/s, in_qsize 15, out_qsize 4\n",
            "2020-11-21 22:32:50,231 : INFO : EPOCH 4 - PROGRESS: at 43.00% examples, 426851 words/s, in_qsize 14, out_qsize 1\n",
            "2020-11-21 22:32:51,259 : INFO : EPOCH 4 - PROGRESS: at 48.40% examples, 427568 words/s, in_qsize 15, out_qsize 0\n",
            "2020-11-21 22:32:52,318 : INFO : EPOCH 4 - PROGRESS: at 54.13% examples, 429468 words/s, in_qsize 15, out_qsize 0\n",
            "2020-11-21 22:32:53,375 : INFO : EPOCH 4 - PROGRESS: at 59.55% examples, 428751 words/s, in_qsize 15, out_qsize 0\n",
            "2020-11-21 22:32:54,379 : INFO : EPOCH 4 - PROGRESS: at 64.73% examples, 428489 words/s, in_qsize 14, out_qsize 0\n",
            "2020-11-21 22:32:55,403 : INFO : EPOCH 4 - PROGRESS: at 70.27% examples, 429640 words/s, in_qsize 15, out_qsize 0\n",
            "2020-11-21 22:32:56,452 : INFO : EPOCH 4 - PROGRESS: at 75.67% examples, 429258 words/s, in_qsize 15, out_qsize 0\n",
            "2020-11-21 22:32:57,471 : INFO : EPOCH 4 - PROGRESS: at 81.12% examples, 429774 words/s, in_qsize 13, out_qsize 2\n",
            "2020-11-21 22:32:58,582 : INFO : EPOCH 4 - PROGRESS: at 86.75% examples, 428882 words/s, in_qsize 14, out_qsize 1\n",
            "2020-11-21 22:32:59,592 : INFO : EPOCH 4 - PROGRESS: at 92.50% examples, 431059 words/s, in_qsize 13, out_qsize 1\n",
            "2020-11-21 22:33:00,613 : INFO : EPOCH 4 - PROGRESS: at 97.50% examples, 429427 words/s, in_qsize 11, out_qsize 4\n",
            "2020-11-21 22:33:00,877 : INFO : worker thread finished; awaiting finish of 7 more threads\n",
            "2020-11-21 22:33:00,917 : INFO : worker thread finished; awaiting finish of 6 more threads\n",
            "2020-11-21 22:33:00,918 : INFO : worker thread finished; awaiting finish of 5 more threads\n",
            "2020-11-21 22:33:00,940 : INFO : worker thread finished; awaiting finish of 4 more threads\n",
            "2020-11-21 22:33:00,944 : INFO : worker thread finished; awaiting finish of 3 more threads\n",
            "2020-11-21 22:33:00,944 : INFO : worker thread finished; awaiting finish of 2 more threads\n",
            "2020-11-21 22:33:00,947 : INFO : worker thread finished; awaiting finish of 1 more threads\n",
            "2020-11-21 22:33:00,952 : INFO : worker thread finished; awaiting finish of 0 more threads\n",
            "2020-11-21 22:33:00,953 : INFO : EPOCH - 4 : training on 9227204 raw words (8222164 effective words) took 19.0s, 432575 effective words/s\n",
            "2020-11-21 22:33:01,976 : INFO : EPOCH 5 - PROGRESS: at 4.67% examples, 379029 words/s, in_qsize 15, out_qsize 0\n",
            "2020-11-21 22:33:02,980 : INFO : EPOCH 5 - PROGRESS: at 9.99% examples, 407238 words/s, in_qsize 15, out_qsize 0\n",
            "2020-11-21 22:33:03,992 : INFO : EPOCH 5 - PROGRESS: at 15.08% examples, 409274 words/s, in_qsize 16, out_qsize 4\n",
            "2020-11-21 22:33:05,031 : INFO : EPOCH 5 - PROGRESS: at 20.92% examples, 422961 words/s, in_qsize 15, out_qsize 0\n",
            "2020-11-21 22:33:06,038 : INFO : EPOCH 5 - PROGRESS: at 26.23% examples, 425290 words/s, in_qsize 15, out_qsize 2\n",
            "2020-11-21 22:33:07,075 : INFO : EPOCH 5 - PROGRESS: at 31.43% examples, 422984 words/s, in_qsize 14, out_qsize 1\n",
            "2020-11-21 22:33:08,080 : INFO : EPOCH 5 - PROGRESS: at 36.72% examples, 424597 words/s, in_qsize 15, out_qsize 0\n",
            "2020-11-21 22:33:09,084 : INFO : EPOCH 5 - PROGRESS: at 42.13% examples, 426882 words/s, in_qsize 14, out_qsize 1\n",
            "2020-11-21 22:33:10,099 : INFO : EPOCH 5 - PROGRESS: at 47.65% examples, 429196 words/s, in_qsize 15, out_qsize 0\n",
            "2020-11-21 22:33:11,116 : INFO : EPOCH 5 - PROGRESS: at 52.51% examples, 425726 words/s, in_qsize 14, out_qsize 1\n",
            "2020-11-21 22:33:12,131 : INFO : EPOCH 5 - PROGRESS: at 58.14% examples, 428544 words/s, in_qsize 15, out_qsize 0\n",
            "2020-11-21 22:33:13,132 : INFO : EPOCH 5 - PROGRESS: at 62.79% examples, 424779 words/s, in_qsize 14, out_qsize 1\n",
            "2020-11-21 22:33:14,148 : INFO : EPOCH 5 - PROGRESS: at 68.42% examples, 427177 words/s, in_qsize 15, out_qsize 0\n",
            "2020-11-21 22:33:15,160 : INFO : EPOCH 5 - PROGRESS: at 73.73% examples, 427466 words/s, in_qsize 15, out_qsize 0\n",
            "2020-11-21 22:33:16,164 : INFO : EPOCH 5 - PROGRESS: at 78.95% examples, 427351 words/s, in_qsize 15, out_qsize 0\n",
            "2020-11-21 22:33:17,187 : INFO : EPOCH 5 - PROGRESS: at 84.37% examples, 428315 words/s, in_qsize 15, out_qsize 0\n",
            "2020-11-21 22:33:18,191 : INFO : EPOCH 5 - PROGRESS: at 89.56% examples, 427724 words/s, in_qsize 15, out_qsize 0\n",
            "2020-11-21 22:33:19,209 : INFO : EPOCH 5 - PROGRESS: at 94.91% examples, 427767 words/s, in_qsize 15, out_qsize 0\n",
            "2020-11-21 22:33:20,029 : INFO : worker thread finished; awaiting finish of 7 more threads\n",
            "2020-11-21 22:33:20,034 : INFO : worker thread finished; awaiting finish of 6 more threads\n",
            "2020-11-21 22:33:20,035 : INFO : worker thread finished; awaiting finish of 5 more threads\n",
            "2020-11-21 22:33:20,037 : INFO : worker thread finished; awaiting finish of 4 more threads\n",
            "2020-11-21 22:33:20,044 : INFO : worker thread finished; awaiting finish of 3 more threads\n",
            "2020-11-21 22:33:20,071 : INFO : worker thread finished; awaiting finish of 2 more threads\n",
            "2020-11-21 22:33:20,073 : INFO : worker thread finished; awaiting finish of 1 more threads\n",
            "2020-11-21 22:33:20,095 : INFO : worker thread finished; awaiting finish of 0 more threads\n",
            "2020-11-21 22:33:20,096 : INFO : EPOCH - 5 : training on 9227204 raw words (8223957 effective words) took 19.1s, 429874 effective words/s\n",
            "2020-11-21 22:33:21,163 : INFO : EPOCH 6 - PROGRESS: at 4.89% examples, 379516 words/s, in_qsize 14, out_qsize 1\n",
            "2020-11-21 22:33:22,182 : INFO : EPOCH 6 - PROGRESS: at 10.31% examples, 407976 words/s, in_qsize 15, out_qsize 0\n",
            "2020-11-21 22:33:23,238 : INFO : EPOCH 6 - PROGRESS: at 15.84% examples, 415407 words/s, in_qsize 15, out_qsize 0\n",
            "2020-11-21 22:33:24,279 : INFO : EPOCH 6 - PROGRESS: at 21.35% examples, 420633 words/s, in_qsize 15, out_qsize 0\n",
            "2020-11-21 22:33:25,281 : INFO : EPOCH 6 - PROGRESS: at 26.45% examples, 420096 words/s, in_qsize 15, out_qsize 0\n",
            "2020-11-21 22:33:26,289 : INFO : EPOCH 6 - PROGRESS: at 31.76% examples, 422226 words/s, in_qsize 13, out_qsize 3\n",
            "2020-11-21 22:33:27,317 : INFO : EPOCH 6 - PROGRESS: at 37.27% examples, 424967 words/s, in_qsize 15, out_qsize 0\n",
            "2020-11-21 22:33:28,415 : INFO : EPOCH 6 - PROGRESS: at 42.67% examples, 422431 words/s, in_qsize 15, out_qsize 0\n",
            "2020-11-21 22:33:29,448 : INFO : EPOCH 6 - PROGRESS: at 47.97% examples, 422450 words/s, in_qsize 15, out_qsize 0\n",
            "2020-11-21 22:33:30,457 : INFO : EPOCH 6 - PROGRESS: at 53.48% examples, 425235 words/s, in_qsize 16, out_qsize 0\n",
            "2020-11-21 22:33:31,493 : INFO : EPOCH 6 - PROGRESS: at 58.69% examples, 424072 words/s, in_qsize 13, out_qsize 2\n",
            "2020-11-21 22:33:32,499 : INFO : EPOCH 6 - PROGRESS: at 63.86% examples, 424167 words/s, in_qsize 16, out_qsize 1\n",
            "2020-11-21 22:33:33,518 : INFO : EPOCH 6 - PROGRESS: at 69.29% examples, 425176 words/s, in_qsize 16, out_qsize 0\n",
            "2020-11-21 22:33:34,522 : INFO : EPOCH 6 - PROGRESS: at 74.81% examples, 427050 words/s, in_qsize 14, out_qsize 1\n",
            "2020-11-21 22:33:35,523 : INFO : EPOCH 6 - PROGRESS: at 79.92% examples, 426479 words/s, in_qsize 16, out_qsize 2\n",
            "2020-11-21 22:33:36,525 : INFO : EPOCH 6 - PROGRESS: at 85.02% examples, 425972 words/s, in_qsize 14, out_qsize 4\n",
            "2020-11-21 22:33:37,573 : INFO : EPOCH 6 - PROGRESS: at 90.54% examples, 426401 words/s, in_qsize 15, out_qsize 0\n",
            "2020-11-21 22:33:38,614 : INFO : EPOCH 6 - PROGRESS: at 95.88% examples, 425987 words/s, in_qsize 15, out_qsize 0\n",
            "2020-11-21 22:33:39,263 : INFO : worker thread finished; awaiting finish of 7 more threads\n",
            "2020-11-21 22:33:39,269 : INFO : worker thread finished; awaiting finish of 6 more threads\n",
            "2020-11-21 22:33:39,270 : INFO : worker thread finished; awaiting finish of 5 more threads\n",
            "2020-11-21 22:33:39,291 : INFO : worker thread finished; awaiting finish of 4 more threads\n",
            "2020-11-21 22:33:39,314 : INFO : worker thread finished; awaiting finish of 3 more threads\n",
            "2020-11-21 22:33:39,330 : INFO : worker thread finished; awaiting finish of 2 more threads\n",
            "2020-11-21 22:33:39,334 : INFO : worker thread finished; awaiting finish of 1 more threads\n",
            "2020-11-21 22:33:39,336 : INFO : worker thread finished; awaiting finish of 0 more threads\n",
            "2020-11-21 22:33:39,336 : INFO : EPOCH - 6 : training on 9227204 raw words (8222767 effective words) took 19.2s, 427632 effective words/s\n",
            "2020-11-21 22:33:40,439 : INFO : EPOCH 7 - PROGRESS: at 4.89% examples, 369507 words/s, in_qsize 15, out_qsize 1\n",
            "2020-11-21 22:33:41,496 : INFO : EPOCH 7 - PROGRESS: at 10.21% examples, 390274 words/s, in_qsize 15, out_qsize 0\n",
            "2020-11-21 22:33:42,544 : INFO : EPOCH 7 - PROGRESS: at 15.84% examples, 407144 words/s, in_qsize 15, out_qsize 0\n",
            "2020-11-21 22:33:43,637 : INFO : EPOCH 7 - PROGRESS: at 21.25% examples, 407280 words/s, in_qsize 15, out_qsize 0\n",
            "2020-11-21 22:33:44,644 : INFO : EPOCH 7 - PROGRESS: at 26.67% examples, 413913 words/s, in_qsize 16, out_qsize 0\n",
            "2020-11-21 22:33:45,647 : INFO : EPOCH 7 - PROGRESS: at 31.43% examples, 410280 words/s, in_qsize 12, out_qsize 3\n",
            "2020-11-21 22:33:46,669 : INFO : EPOCH 7 - PROGRESS: at 36.72% examples, 412602 words/s, in_qsize 14, out_qsize 3\n",
            "2020-11-21 22:33:47,710 : INFO : EPOCH 7 - PROGRESS: at 41.80% examples, 411308 words/s, in_qsize 14, out_qsize 1\n",
            "2020-11-21 22:33:48,799 : INFO : EPOCH 7 - PROGRESS: at 47.54% examples, 413853 words/s, in_qsize 15, out_qsize 0\n",
            "2020-11-21 22:33:49,820 : INFO : EPOCH 7 - PROGRESS: at 52.62% examples, 413511 words/s, in_qsize 16, out_qsize 0\n",
            "2020-11-21 22:33:50,866 : INFO : EPOCH 7 - PROGRESS: at 57.92% examples, 413865 words/s, in_qsize 14, out_qsize 1\n",
            "2020-11-21 22:33:51,981 : INFO : EPOCH 7 - PROGRESS: at 63.54% examples, 414036 words/s, in_qsize 15, out_qsize 0\n",
            "2020-11-21 22:33:53,020 : INFO : EPOCH 7 - PROGRESS: at 68.96% examples, 415140 words/s, in_qsize 15, out_qsize 0\n",
            "2020-11-21 22:33:54,042 : INFO : EPOCH 7 - PROGRESS: at 74.16% examples, 415343 words/s, in_qsize 15, out_qsize 0\n",
            "2020-11-21 22:33:55,089 : INFO : EPOCH 7 - PROGRESS: at 79.38% examples, 414873 words/s, in_qsize 14, out_qsize 4\n",
            "2020-11-21 22:33:56,171 : INFO : EPOCH 7 - PROGRESS: at 85.13% examples, 416256 words/s, in_qsize 15, out_qsize 0\n",
            "2020-11-21 22:33:57,221 : INFO : EPOCH 7 - PROGRESS: at 90.55% examples, 416684 words/s, in_qsize 12, out_qsize 3\n",
            "2020-11-21 22:33:58,293 : INFO : EPOCH 7 - PROGRESS: at 96.21% examples, 417548 words/s, in_qsize 16, out_qsize 1\n",
            "2020-11-21 22:33:58,823 : INFO : worker thread finished; awaiting finish of 7 more threads\n",
            "2020-11-21 22:33:58,852 : INFO : worker thread finished; awaiting finish of 6 more threads\n",
            "2020-11-21 22:33:58,856 : INFO : worker thread finished; awaiting finish of 5 more threads\n",
            "2020-11-21 22:33:58,867 : INFO : worker thread finished; awaiting finish of 4 more threads\n",
            "2020-11-21 22:33:58,868 : INFO : worker thread finished; awaiting finish of 3 more threads\n",
            "2020-11-21 22:33:58,871 : INFO : worker thread finished; awaiting finish of 2 more threads\n",
            "2020-11-21 22:33:58,879 : INFO : worker thread finished; awaiting finish of 1 more threads\n",
            "2020-11-21 22:33:58,892 : INFO : worker thread finished; awaiting finish of 0 more threads\n",
            "2020-11-21 22:33:58,892 : INFO : EPOCH - 7 : training on 9227204 raw words (8222692 effective words) took 19.5s, 420748 effective words/s\n",
            "2020-11-21 22:33:59,912 : INFO : EPOCH 8 - PROGRESS: at 4.89% examples, 397884 words/s, in_qsize 15, out_qsize 0\n",
            "2020-11-21 22:34:00,914 : INFO : EPOCH 8 - PROGRESS: at 10.10% examples, 412331 words/s, in_qsize 13, out_qsize 1\n",
            "2020-11-21 22:34:01,930 : INFO : EPOCH 8 - PROGRESS: at 15.30% examples, 415115 words/s, in_qsize 13, out_qsize 2\n",
            "2020-11-21 22:34:02,942 : INFO : EPOCH 8 - PROGRESS: at 20.81% examples, 423509 words/s, in_qsize 15, out_qsize 0\n",
            "2020-11-21 22:34:03,946 : INFO : EPOCH 8 - PROGRESS: at 25.80% examples, 420551 words/s, in_qsize 15, out_qsize 0\n",
            "2020-11-21 22:34:04,947 : INFO : EPOCH 8 - PROGRESS: at 30.99% examples, 421683 words/s, in_qsize 14, out_qsize 1\n",
            "2020-11-21 22:34:06,048 : INFO : EPOCH 8 - PROGRESS: at 36.83% examples, 424032 words/s, in_qsize 14, out_qsize 1\n",
            "2020-11-21 22:34:07,062 : INFO : EPOCH 8 - PROGRESS: at 42.35% examples, 427015 words/s, in_qsize 15, out_qsize 0\n",
            "2020-11-21 22:34:08,121 : INFO : EPOCH 8 - PROGRESS: at 47.54% examples, 424351 words/s, in_qsize 14, out_qsize 1\n",
            "2020-11-21 22:34:09,126 : INFO : EPOCH 8 - PROGRESS: at 52.95% examples, 426239 words/s, in_qsize 14, out_qsize 1\n",
            "2020-11-21 22:34:10,152 : INFO : EPOCH 8 - PROGRESS: at 58.04% examples, 424778 words/s, in_qsize 15, out_qsize 3\n",
            "2020-11-21 22:34:11,277 : INFO : EPOCH 8 - PROGRESS: at 63.75% examples, 424142 words/s, in_qsize 13, out_qsize 7\n",
            "2020-11-21 22:34:12,301 : INFO : EPOCH 8 - PROGRESS: at 69.07% examples, 424316 words/s, in_qsize 9, out_qsize 6\n",
            "2020-11-21 22:34:13,374 : INFO : EPOCH 8 - PROGRESS: at 74.81% examples, 425465 words/s, in_qsize 15, out_qsize 0\n",
            "2020-11-21 22:34:14,401 : INFO : EPOCH 8 - PROGRESS: at 79.92% examples, 424596 words/s, in_qsize 16, out_qsize 3\n",
            "2020-11-21 22:34:15,394 : INFO : EPOCH 8 - PROGRESS: at 85.13% examples, 424644 words/s, in_qsize 12, out_qsize 6\n",
            "2020-11-21 22:34:16,470 : INFO : EPOCH 8 - PROGRESS: at 91.09% examples, 426494 words/s, in_qsize 15, out_qsize 0\n",
            "2020-11-21 22:34:17,483 : INFO : EPOCH 8 - PROGRESS: at 96.64% examples, 427683 words/s, in_qsize 14, out_qsize 3\n",
            "2020-11-21 22:34:17,960 : INFO : worker thread finished; awaiting finish of 7 more threads\n",
            "2020-11-21 22:34:17,980 : INFO : worker thread finished; awaiting finish of 6 more threads\n",
            "2020-11-21 22:34:17,986 : INFO : worker thread finished; awaiting finish of 5 more threads\n",
            "2020-11-21 22:34:18,005 : INFO : worker thread finished; awaiting finish of 4 more threads\n",
            "2020-11-21 22:34:18,009 : INFO : worker thread finished; awaiting finish of 3 more threads\n",
            "2020-11-21 22:34:18,015 : INFO : worker thread finished; awaiting finish of 2 more threads\n",
            "2020-11-21 22:34:18,029 : INFO : worker thread finished; awaiting finish of 1 more threads\n",
            "2020-11-21 22:34:18,031 : INFO : worker thread finished; awaiting finish of 0 more threads\n",
            "2020-11-21 22:34:18,033 : INFO : EPOCH - 8 : training on 9227204 raw words (8222782 effective words) took 19.1s, 429859 effective words/s\n",
            "2020-11-21 22:34:19,056 : INFO : EPOCH 9 - PROGRESS: at 4.45% examples, 360813 words/s, in_qsize 14, out_qsize 5\n",
            "2020-11-21 22:34:20,168 : INFO : EPOCH 9 - PROGRESS: at 10.53% examples, 406937 words/s, in_qsize 15, out_qsize 0\n",
            "2020-11-21 22:34:21,181 : INFO : EPOCH 9 - PROGRESS: at 15.62% examples, 408860 words/s, in_qsize 12, out_qsize 5\n",
            "2020-11-21 22:34:22,192 : INFO : EPOCH 9 - PROGRESS: at 21.25% examples, 420954 words/s, in_qsize 16, out_qsize 0\n",
            "2020-11-21 22:34:23,236 : INFO : EPOCH 9 - PROGRESS: at 26.78% examples, 423881 words/s, in_qsize 15, out_qsize 0\n",
            "2020-11-21 22:34:24,269 : INFO : EPOCH 9 - PROGRESS: at 32.08% examples, 423663 words/s, in_qsize 15, out_qsize 0\n",
            "2020-11-21 22:34:25,318 : INFO : EPOCH 9 - PROGRESS: at 37.70% examples, 426258 words/s, in_qsize 13, out_qsize 2\n",
            "2020-11-21 22:34:26,403 : INFO : EPOCH 9 - PROGRESS: at 43.21% examples, 425256 words/s, in_qsize 15, out_qsize 2\n",
            "2020-11-21 22:34:27,414 : INFO : EPOCH 9 - PROGRESS: at 48.73% examples, 427871 words/s, in_qsize 15, out_qsize 0\n",
            "2020-11-21 22:34:28,436 : INFO : EPOCH 9 - PROGRESS: at 53.81% examples, 426740 words/s, in_qsize 15, out_qsize 0\n",
            "2020-11-21 22:34:29,537 : INFO : EPOCH 9 - PROGRESS: at 59.12% examples, 423296 words/s, in_qsize 12, out_qsize 3\n",
            "2020-11-21 22:34:30,545 : INFO : EPOCH 9 - PROGRESS: at 64.41% examples, 424061 words/s, in_qsize 14, out_qsize 5\n",
            "2020-11-21 22:34:31,623 : INFO : EPOCH 9 - PROGRESS: at 70.05% examples, 424503 words/s, in_qsize 16, out_qsize 1\n",
            "2020-11-21 22:34:32,635 : INFO : EPOCH 9 - PROGRESS: at 75.03% examples, 423135 words/s, in_qsize 12, out_qsize 3\n",
            "2020-11-21 22:34:33,661 : INFO : EPOCH 9 - PROGRESS: at 80.90% examples, 426128 words/s, in_qsize 16, out_qsize 0\n",
            "2020-11-21 22:34:34,665 : INFO : EPOCH 9 - PROGRESS: at 85.99% examples, 425572 words/s, in_qsize 15, out_qsize 0\n",
            "2020-11-21 22:34:35,675 : INFO : EPOCH 9 - PROGRESS: at 91.20% examples, 425412 words/s, in_qsize 15, out_qsize 0\n",
            "2020-11-21 22:34:36,694 : INFO : EPOCH 9 - PROGRESS: at 96.31% examples, 424593 words/s, in_qsize 15, out_qsize 4\n",
            "2020-11-21 22:34:37,228 : INFO : worker thread finished; awaiting finish of 7 more threads\n",
            "2020-11-21 22:34:37,230 : INFO : worker thread finished; awaiting finish of 6 more threads\n",
            "2020-11-21 22:34:37,256 : INFO : worker thread finished; awaiting finish of 5 more threads\n",
            "2020-11-21 22:34:37,258 : INFO : worker thread finished; awaiting finish of 4 more threads\n",
            "2020-11-21 22:34:37,272 : INFO : worker thread finished; awaiting finish of 3 more threads\n",
            "2020-11-21 22:34:37,276 : INFO : worker thread finished; awaiting finish of 2 more threads\n",
            "2020-11-21 22:34:37,281 : INFO : worker thread finished; awaiting finish of 1 more threads\n",
            "2020-11-21 22:34:37,282 : INFO : worker thread finished; awaiting finish of 0 more threads\n",
            "2020-11-21 22:34:37,283 : INFO : EPOCH - 9 : training on 9227204 raw words (8222394 effective words) took 19.2s, 427387 effective words/s\n",
            "2020-11-21 22:34:38,298 : INFO : EPOCH 10 - PROGRESS: at 4.67% examples, 382197 words/s, in_qsize 15, out_qsize 2\n",
            "2020-11-21 22:34:39,324 : INFO : EPOCH 10 - PROGRESS: at 9.99% examples, 404472 words/s, in_qsize 16, out_qsize 0\n",
            "2020-11-21 22:34:40,342 : INFO : EPOCH 10 - PROGRESS: at 15.08% examples, 406652 words/s, in_qsize 15, out_qsize 0\n",
            "2020-11-21 22:34:41,441 : INFO : EPOCH 10 - PROGRESS: at 20.70% examples, 410579 words/s, in_qsize 16, out_qsize 0\n",
            "2020-11-21 22:34:42,447 : INFO : EPOCH 10 - PROGRESS: at 25.80% examples, 411720 words/s, in_qsize 12, out_qsize 3\n",
            "2020-11-21 22:34:43,483 : INFO : EPOCH 10 - PROGRESS: at 31.10% examples, 413371 words/s, in_qsize 15, out_qsize 1\n",
            "2020-11-21 22:34:44,485 : INFO : EPOCH 10 - PROGRESS: at 36.29% examples, 415178 words/s, in_qsize 15, out_qsize 1\n",
            "2020-11-21 22:34:45,573 : INFO : EPOCH 10 - PROGRESS: at 41.92% examples, 416567 words/s, in_qsize 15, out_qsize 0\n",
            "2020-11-21 22:34:46,623 : INFO : EPOCH 10 - PROGRESS: at 47.10% examples, 415488 words/s, in_qsize 9, out_qsize 6\n",
            "2020-11-21 22:34:47,629 : INFO : EPOCH 10 - PROGRESS: at 52.40% examples, 417326 words/s, in_qsize 15, out_qsize 0\n",
            "2020-11-21 22:34:48,637 : INFO : EPOCH 10 - PROGRESS: at 57.38% examples, 416370 words/s, in_qsize 16, out_qsize 2\n",
            "2020-11-21 22:34:49,665 : INFO : EPOCH 10 - PROGRESS: at 62.79% examples, 417776 words/s, in_qsize 14, out_qsize 1\n",
            "2020-11-21 22:34:50,723 : INFO : EPOCH 10 - PROGRESS: at 68.21% examples, 418035 words/s, in_qsize 15, out_qsize 0\n",
            "2020-11-21 22:34:51,727 : INFO : EPOCH 10 - PROGRESS: at 73.51% examples, 419188 words/s, in_qsize 12, out_qsize 3\n",
            "2020-11-21 22:34:52,752 : INFO : EPOCH 10 - PROGRESS: at 78.73% examples, 419026 words/s, in_qsize 15, out_qsize 0\n",
            "2020-11-21 22:34:53,770 : INFO : EPOCH 10 - PROGRESS: at 83.94% examples, 419073 words/s, in_qsize 15, out_qsize 1\n",
            "2020-11-21 22:34:54,788 : INFO : EPOCH 10 - PROGRESS: at 89.23% examples, 419617 words/s, in_qsize 15, out_qsize 0\n",
            "2020-11-21 22:34:55,789 : INFO : EPOCH 10 - PROGRESS: at 94.69% examples, 420961 words/s, in_qsize 16, out_qsize 0\n",
            "2020-11-21 22:34:56,716 : INFO : worker thread finished; awaiting finish of 7 more threads\n",
            "2020-11-21 22:34:56,725 : INFO : worker thread finished; awaiting finish of 6 more threads\n",
            "2020-11-21 22:34:56,730 : INFO : worker thread finished; awaiting finish of 5 more threads\n",
            "2020-11-21 22:34:56,737 : INFO : worker thread finished; awaiting finish of 4 more threads\n",
            "2020-11-21 22:34:56,740 : INFO : worker thread finished; awaiting finish of 3 more threads\n",
            "2020-11-21 22:34:56,742 : INFO : worker thread finished; awaiting finish of 2 more threads\n",
            "2020-11-21 22:34:56,772 : INFO : worker thread finished; awaiting finish of 1 more threads\n",
            "2020-11-21 22:34:56,781 : INFO : worker thread finished; awaiting finish of 0 more threads\n",
            "2020-11-21 22:34:56,782 : INFO : EPOCH - 10 : training on 9227204 raw words (8222207 effective words) took 19.5s, 421964 effective words/s\n",
            "2020-11-21 22:34:57,796 : INFO : EPOCH 11 - PROGRESS: at 4.45% examples, 364506 words/s, in_qsize 15, out_qsize 0\n",
            "2020-11-21 22:34:58,829 : INFO : EPOCH 11 - PROGRESS: at 9.88% examples, 398340 words/s, in_qsize 14, out_qsize 1\n",
            "2020-11-21 22:34:59,844 : INFO : EPOCH 11 - PROGRESS: at 15.08% examples, 405911 words/s, in_qsize 15, out_qsize 0\n",
            "2020-11-21 22:35:00,858 : INFO : EPOCH 11 - PROGRESS: at 20.27% examples, 409719 words/s, in_qsize 16, out_qsize 2\n",
            "2020-11-21 22:35:01,877 : INFO : EPOCH 11 - PROGRESS: at 25.26% examples, 408255 words/s, in_qsize 16, out_qsize 6\n",
            "2020-11-21 22:35:02,882 : INFO : EPOCH 11 - PROGRESS: at 30.78% examples, 415557 words/s, in_qsize 15, out_qsize 0\n",
            "2020-11-21 22:35:03,934 : INFO : EPOCH 11 - PROGRESS: at 35.76% examples, 411698 words/s, in_qsize 15, out_qsize 0\n",
            "2020-11-21 22:35:04,949 : INFO : EPOCH 11 - PROGRESS: at 41.05% examples, 413986 words/s, in_qsize 14, out_qsize 1\n",
            "2020-11-21 22:35:05,965 : INFO : EPOCH 11 - PROGRESS: at 46.13% examples, 413801 words/s, in_qsize 14, out_qsize 3\n",
            "2020-11-21 22:35:06,966 : INFO : EPOCH 11 - PROGRESS: at 51.32% examples, 415143 words/s, in_qsize 16, out_qsize 1\n",
            "2020-11-21 22:35:07,969 : INFO : EPOCH 11 - PROGRESS: at 56.73% examples, 417797 words/s, in_qsize 15, out_qsize 0\n",
            "2020-11-21 22:35:09,013 : INFO : EPOCH 11 - PROGRESS: at 62.03% examples, 417781 words/s, in_qsize 16, out_qsize 1\n",
            "2020-11-21 22:35:10,040 : INFO : EPOCH 11 - PROGRESS: at 67.34% examples, 418421 words/s, in_qsize 15, out_qsize 2\n",
            "2020-11-21 22:35:11,051 : INFO : EPOCH 11 - PROGRESS: at 72.86% examples, 420513 words/s, in_qsize 14, out_qsize 1\n",
            "2020-11-21 22:35:12,054 : INFO : EPOCH 11 - PROGRESS: at 77.74% examples, 419159 words/s, in_qsize 15, out_qsize 2\n",
            "2020-11-21 22:35:13,056 : INFO : EPOCH 11 - PROGRESS: at 83.07% examples, 420155 words/s, in_qsize 15, out_qsize 0\n",
            "2020-11-21 22:35:14,102 : INFO : EPOCH 11 - PROGRESS: at 88.48% examples, 420506 words/s, in_qsize 14, out_qsize 1\n",
            "2020-11-21 22:35:15,110 : INFO : EPOCH 11 - PROGRESS: at 93.49% examples, 419696 words/s, in_qsize 15, out_qsize 0\n",
            "2020-11-21 22:35:16,148 : INFO : EPOCH 11 - PROGRESS: at 99.22% examples, 421574 words/s, in_qsize 8, out_qsize 0\n",
            "2020-11-21 22:35:16,171 : INFO : worker thread finished; awaiting finish of 7 more threads\n",
            "2020-11-21 22:35:16,190 : INFO : worker thread finished; awaiting finish of 6 more threads\n",
            "2020-11-21 22:35:16,218 : INFO : worker thread finished; awaiting finish of 5 more threads\n",
            "2020-11-21 22:35:16,222 : INFO : worker thread finished; awaiting finish of 4 more threads\n",
            "2020-11-21 22:35:16,226 : INFO : worker thread finished; awaiting finish of 3 more threads\n",
            "2020-11-21 22:35:16,235 : INFO : worker thread finished; awaiting finish of 2 more threads\n",
            "2020-11-21 22:35:16,238 : INFO : worker thread finished; awaiting finish of 1 more threads\n",
            "2020-11-21 22:35:16,239 : INFO : worker thread finished; awaiting finish of 0 more threads\n",
            "2020-11-21 22:35:16,240 : INFO : EPOCH - 11 : training on 9227204 raw words (8222887 effective words) took 19.4s, 422843 effective words/s\n",
            "2020-11-21 22:35:17,379 : INFO : EPOCH 12 - PROGRESS: at 4.89% examples, 355800 words/s, in_qsize 15, out_qsize 0\n",
            "2020-11-21 22:35:18,386 : INFO : EPOCH 12 - PROGRESS: at 10.10% examples, 388411 words/s, in_qsize 16, out_qsize 0\n",
            "2020-11-21 22:35:19,416 : INFO : EPOCH 12 - PROGRESS: at 15.41% examples, 399786 words/s, in_qsize 16, out_qsize 1\n",
            "2020-11-21 22:35:20,418 : INFO : EPOCH 12 - PROGRESS: at 20.81% examples, 410500 words/s, in_qsize 15, out_qsize 0\n",
            "2020-11-21 22:35:21,441 : INFO : EPOCH 12 - PROGRESS: at 25.80% examples, 408571 words/s, in_qsize 15, out_qsize 0\n",
            "2020-11-21 22:35:22,474 : INFO : EPOCH 12 - PROGRESS: at 31.10% examples, 410920 words/s, in_qsize 15, out_qsize 1\n",
            "2020-11-21 22:35:23,496 : INFO : EPOCH 12 - PROGRESS: at 36.40% examples, 413188 words/s, in_qsize 15, out_qsize 1\n",
            "2020-11-21 22:35:24,507 : INFO : EPOCH 12 - PROGRESS: at 41.70% examples, 415448 words/s, in_qsize 15, out_qsize 2\n",
            "2020-11-21 22:35:25,545 : INFO : EPOCH 12 - PROGRESS: at 46.89% examples, 415010 words/s, in_qsize 15, out_qsize 2\n",
            "2020-11-21 22:35:26,603 : INFO : EPOCH 12 - PROGRESS: at 52.18% examples, 414753 words/s, in_qsize 13, out_qsize 2\n",
            "2020-11-21 22:35:27,615 : INFO : EPOCH 12 - PROGRESS: at 57.60% examples, 417039 words/s, in_qsize 10, out_qsize 5\n",
            "2020-11-21 22:35:28,641 : INFO : EPOCH 12 - PROGRESS: at 62.79% examples, 417009 words/s, in_qsize 15, out_qsize 4\n",
            "2020-11-21 22:35:29,671 : INFO : EPOCH 12 - PROGRESS: at 67.99% examples, 417587 words/s, in_qsize 16, out_qsize 3\n",
            "2020-11-21 22:35:30,678 : INFO : EPOCH 12 - PROGRESS: at 73.62% examples, 420302 words/s, in_qsize 15, out_qsize 0\n",
            "2020-11-21 22:35:31,666 : INFO : EPOCH 12 - PROGRESS: at 78.73% examples, 420091 words/s, in_qsize 15, out_qsize 0\n",
            "2020-11-21 22:35:32,720 : INFO : EPOCH 12 - PROGRESS: at 84.04% examples, 419723 words/s, in_qsize 15, out_qsize 2\n",
            "2020-11-21 22:35:33,766 : INFO : EPOCH 12 - PROGRESS: at 89.34% examples, 419575 words/s, in_qsize 16, out_qsize 0\n",
            "2020-11-21 22:35:34,793 : INFO : EPOCH 12 - PROGRESS: at 95.01% examples, 421290 words/s, in_qsize 15, out_qsize 0\n",
            "2020-11-21 22:35:35,600 : INFO : worker thread finished; awaiting finish of 7 more threads\n",
            "2020-11-21 22:35:35,613 : INFO : worker thread finished; awaiting finish of 6 more threads\n",
            "2020-11-21 22:35:35,651 : INFO : worker thread finished; awaiting finish of 5 more threads\n",
            "2020-11-21 22:35:35,656 : INFO : worker thread finished; awaiting finish of 4 more threads\n",
            "2020-11-21 22:35:35,658 : INFO : worker thread finished; awaiting finish of 3 more threads\n",
            "2020-11-21 22:35:35,668 : INFO : worker thread finished; awaiting finish of 2 more threads\n",
            "2020-11-21 22:35:35,681 : INFO : worker thread finished; awaiting finish of 1 more threads\n",
            "2020-11-21 22:35:35,683 : INFO : worker thread finished; awaiting finish of 0 more threads\n",
            "2020-11-21 22:35:35,685 : INFO : EPOCH - 12 : training on 9227204 raw words (8221358 effective words) took 19.4s, 423083 effective words/s\n",
            "2020-11-21 22:35:36,750 : INFO : EPOCH 13 - PROGRESS: at 4.67% examples, 363299 words/s, in_qsize 15, out_qsize 0\n",
            "2020-11-21 22:35:37,791 : INFO : EPOCH 13 - PROGRESS: at 10.09% examples, 395594 words/s, in_qsize 15, out_qsize 0\n",
            "2020-11-21 22:35:38,796 : INFO : EPOCH 13 - PROGRESS: at 15.30% examples, 405170 words/s, in_qsize 16, out_qsize 0\n",
            "2020-11-21 22:35:39,848 : INFO : EPOCH 13 - PROGRESS: at 20.70% examples, 409701 words/s, in_qsize 15, out_qsize 0\n",
            "2020-11-21 22:35:40,946 : INFO : EPOCH 13 - PROGRESS: at 26.23% examples, 410617 words/s, in_qsize 15, out_qsize 0\n",
            "2020-11-21 22:35:41,993 : INFO : EPOCH 13 - PROGRESS: at 31.54% examples, 411727 words/s, in_qsize 16, out_qsize 0\n",
            "2020-11-21 22:35:43,059 : INFO : EPOCH 13 - PROGRESS: at 36.94% examples, 412561 words/s, in_qsize 15, out_qsize 0\n",
            "2020-11-21 22:35:44,131 : INFO : EPOCH 13 - PROGRESS: at 42.24% examples, 411866 words/s, in_qsize 15, out_qsize 0\n",
            "2020-11-21 22:35:45,134 : INFO : EPOCH 13 - PROGRESS: at 47.54% examples, 414343 words/s, in_qsize 15, out_qsize 0\n",
            "2020-11-21 22:35:46,240 : INFO : EPOCH 13 - PROGRESS: at 53.05% examples, 413983 words/s, in_qsize 15, out_qsize 6\n",
            "2020-11-21 22:35:47,246 : INFO : EPOCH 13 - PROGRESS: at 58.58% examples, 417304 words/s, in_qsize 15, out_qsize 1\n",
            "2020-11-21 22:35:48,290 : INFO : EPOCH 13 - PROGRESS: at 63.97% examples, 418030 words/s, in_qsize 15, out_qsize 0\n",
            "2020-11-21 22:35:49,305 : INFO : EPOCH 13 - PROGRESS: at 69.07% examples, 417620 words/s, in_qsize 14, out_qsize 0\n",
            "2020-11-21 22:35:50,333 : INFO : EPOCH 13 - PROGRESS: at 74.05% examples, 416288 words/s, in_qsize 14, out_qsize 1\n",
            "2020-11-21 22:35:51,348 : INFO : EPOCH 13 - PROGRESS: at 79.27% examples, 416598 words/s, in_qsize 15, out_qsize 0\n",
            "2020-11-21 22:35:52,365 : INFO : EPOCH 13 - PROGRESS: at 84.48% examples, 416825 words/s, in_qsize 14, out_qsize 3\n",
            "2020-11-21 22:35:53,438 : INFO : EPOCH 13 - PROGRESS: at 90.33% examples, 418717 words/s, in_qsize 15, out_qsize 0\n",
            "2020-11-21 22:35:54,570 : INFO : EPOCH 13 - PROGRESS: at 95.88% examples, 417667 words/s, in_qsize 11, out_qsize 4\n",
            "2020-11-21 22:35:55,177 : INFO : worker thread finished; awaiting finish of 7 more threads\n",
            "2020-11-21 22:35:55,186 : INFO : worker thread finished; awaiting finish of 6 more threads\n",
            "2020-11-21 22:35:55,196 : INFO : worker thread finished; awaiting finish of 5 more threads\n",
            "2020-11-21 22:35:55,200 : INFO : worker thread finished; awaiting finish of 4 more threads\n",
            "2020-11-21 22:35:55,206 : INFO : worker thread finished; awaiting finish of 3 more threads\n",
            "2020-11-21 22:35:55,233 : INFO : worker thread finished; awaiting finish of 2 more threads\n",
            "2020-11-21 22:35:55,240 : INFO : worker thread finished; awaiting finish of 1 more threads\n",
            "2020-11-21 22:35:55,244 : INFO : worker thread finished; awaiting finish of 0 more threads\n",
            "2020-11-21 22:35:55,246 : INFO : EPOCH - 13 : training on 9227204 raw words (8222668 effective words) took 19.6s, 420590 effective words/s\n",
            "2020-11-21 22:35:56,286 : INFO : EPOCH 14 - PROGRESS: at 4.56% examples, 363306 words/s, in_qsize 15, out_qsize 0\n",
            "2020-11-21 22:35:57,319 : INFO : EPOCH 14 - PROGRESS: at 10.10% examples, 401865 words/s, in_qsize 15, out_qsize 0\n",
            "2020-11-21 22:35:58,374 : INFO : EPOCH 14 - PROGRESS: at 15.19% examples, 400097 words/s, in_qsize 8, out_qsize 7\n",
            "2020-11-21 22:35:59,406 : INFO : EPOCH 14 - PROGRESS: at 20.59% examples, 409932 words/s, in_qsize 15, out_qsize 1\n",
            "2020-11-21 22:36:00,458 : INFO : EPOCH 14 - PROGRESS: at 25.91% examples, 409429 words/s, in_qsize 14, out_qsize 1\n",
            "2020-11-21 22:36:01,466 : INFO : EPOCH 14 - PROGRESS: at 31.21% examples, 413342 words/s, in_qsize 15, out_qsize 0\n",
            "2020-11-21 22:36:02,531 : INFO : EPOCH 14 - PROGRESS: at 36.61% examples, 414033 words/s, in_qsize 14, out_qsize 1\n",
            "2020-11-21 22:36:03,541 : INFO : EPOCH 14 - PROGRESS: at 41.92% examples, 416269 words/s, in_qsize 15, out_qsize 0\n",
            "2020-11-21 22:36:04,560 : INFO : EPOCH 14 - PROGRESS: at 47.32% examples, 418547 words/s, in_qsize 15, out_qsize 0\n",
            "2020-11-21 22:36:05,588 : INFO : EPOCH 14 - PROGRESS: at 52.51% examples, 418317 words/s, in_qsize 16, out_qsize 0\n",
            "2020-11-21 22:36:06,685 : INFO : EPOCH 14 - PROGRESS: at 58.25% examples, 420327 words/s, in_qsize 15, out_qsize 0\n",
            "2020-11-21 22:36:07,669 : INFO : EPOCH 14 - PROGRESS: at 63.43% examples, 420650 words/s, in_qsize 15, out_qsize 0\n",
            "2020-11-21 22:36:08,703 : INFO : EPOCH 14 - PROGRESS: at 68.75% examples, 420777 words/s, in_qsize 15, out_qsize 0\n",
            "2020-11-21 22:36:09,754 : INFO : EPOCH 14 - PROGRESS: at 74.16% examples, 420945 words/s, in_qsize 15, out_qsize 0\n",
            "2020-11-21 22:36:10,755 : INFO : EPOCH 14 - PROGRESS: at 79.38% examples, 421346 words/s, in_qsize 16, out_qsize 2\n",
            "2020-11-21 22:36:11,813 : INFO : EPOCH 14 - PROGRESS: at 84.69% examples, 421417 words/s, in_qsize 15, out_qsize 2\n",
            "2020-11-21 22:36:12,794 : INFO : EPOCH 14 - PROGRESS: at 89.89% examples, 421645 words/s, in_qsize 15, out_qsize 0\n",
            "2020-11-21 22:36:13,828 : INFO : EPOCH 14 - PROGRESS: at 95.45% examples, 422606 words/s, in_qsize 16, out_qsize 1\n",
            "2020-11-21 22:36:14,572 : INFO : worker thread finished; awaiting finish of 7 more threads\n",
            "2020-11-21 22:36:14,579 : INFO : worker thread finished; awaiting finish of 6 more threads\n",
            "2020-11-21 22:36:14,607 : INFO : worker thread finished; awaiting finish of 5 more threads\n",
            "2020-11-21 22:36:14,614 : INFO : worker thread finished; awaiting finish of 4 more threads\n",
            "2020-11-21 22:36:14,624 : INFO : worker thread finished; awaiting finish of 3 more threads\n",
            "2020-11-21 22:36:14,645 : INFO : worker thread finished; awaiting finish of 2 more threads\n",
            "2020-11-21 22:36:14,669 : INFO : worker thread finished; awaiting finish of 1 more threads\n",
            "2020-11-21 22:36:14,674 : INFO : worker thread finished; awaiting finish of 0 more threads\n",
            "2020-11-21 22:36:14,675 : INFO : EPOCH - 14 : training on 9227204 raw words (8223383 effective words) took 19.4s, 423475 effective words/s\n",
            "2020-11-21 22:36:15,746 : INFO : EPOCH 15 - PROGRESS: at 5.00% examples, 385983 words/s, in_qsize 15, out_qsize 0\n",
            "2020-11-21 22:36:16,793 : INFO : EPOCH 15 - PROGRESS: at 10.31% examples, 401599 words/s, in_qsize 15, out_qsize 0\n",
            "2020-11-21 22:36:17,827 : INFO : EPOCH 15 - PROGRESS: at 15.41% examples, 402606 words/s, in_qsize 16, out_qsize 2\n",
            "2020-11-21 22:36:18,844 : INFO : EPOCH 15 - PROGRESS: at 20.70% examples, 409072 words/s, in_qsize 14, out_qsize 1\n",
            "2020-11-21 22:36:19,926 : INFO : EPOCH 15 - PROGRESS: at 26.13% examples, 409615 words/s, in_qsize 15, out_qsize 0\n",
            "2020-11-21 22:36:20,948 : INFO : EPOCH 15 - PROGRESS: at 31.65% examples, 415355 words/s, in_qsize 16, out_qsize 0\n",
            "2020-11-21 22:36:22,032 : INFO : EPOCH 15 - PROGRESS: at 36.51% examples, 409726 words/s, in_qsize 15, out_qsize 3\n",
            "2020-11-21 22:36:23,067 : INFO : EPOCH 15 - PROGRESS: at 41.91% examples, 411288 words/s, in_qsize 15, out_qsize 0\n",
            "2020-11-21 22:36:24,126 : INFO : EPOCH 15 - PROGRESS: at 47.21% examples, 411366 words/s, in_qsize 15, out_qsize 0\n",
            "2020-11-21 22:36:25,149 : INFO : EPOCH 15 - PROGRESS: at 52.40% examples, 412090 words/s, in_qsize 14, out_qsize 1\n",
            "2020-11-21 22:36:26,186 : INFO : EPOCH 15 - PROGRESS: at 57.71% examples, 412905 words/s, in_qsize 15, out_qsize 0\n",
            "2020-11-21 22:36:27,195 : INFO : EPOCH 15 - PROGRESS: at 62.89% examples, 413767 words/s, in_qsize 16, out_qsize 3\n",
            "2020-11-21 22:36:28,201 : INFO : EPOCH 15 - PROGRESS: at 68.21% examples, 415253 words/s, in_qsize 15, out_qsize 0\n",
            "2020-11-21 22:36:29,239 : INFO : EPOCH 15 - PROGRESS: at 73.19% examples, 413771 words/s, in_qsize 12, out_qsize 8\n",
            "2020-11-21 22:36:30,247 : INFO : EPOCH 15 - PROGRESS: at 79.16% examples, 418456 words/s, in_qsize 15, out_qsize 0\n",
            "2020-11-21 22:36:31,280 : INFO : EPOCH 15 - PROGRESS: at 84.15% examples, 417103 words/s, in_qsize 15, out_qsize 0\n",
            "2020-11-21 22:36:32,314 : INFO : EPOCH 15 - PROGRESS: at 89.34% examples, 417443 words/s, in_qsize 16, out_qsize 0\n",
            "2020-11-21 22:36:33,308 : INFO : EPOCH 15 - PROGRESS: at 94.46% examples, 417088 words/s, in_qsize 13, out_qsize 2\n",
            "2020-11-21 22:36:34,223 : INFO : worker thread finished; awaiting finish of 7 more threads\n",
            "2020-11-21 22:36:34,228 : INFO : worker thread finished; awaiting finish of 6 more threads\n",
            "2020-11-21 22:36:34,231 : INFO : worker thread finished; awaiting finish of 5 more threads\n",
            "2020-11-21 22:36:34,232 : INFO : worker thread finished; awaiting finish of 4 more threads\n",
            "2020-11-21 22:36:34,237 : INFO : worker thread finished; awaiting finish of 3 more threads\n",
            "2020-11-21 22:36:34,242 : INFO : worker thread finished; awaiting finish of 2 more threads\n",
            "2020-11-21 22:36:34,247 : INFO : worker thread finished; awaiting finish of 1 more threads\n",
            "2020-11-21 22:36:34,262 : INFO : worker thread finished; awaiting finish of 0 more threads\n",
            "2020-11-21 22:36:34,263 : INFO : EPOCH - 15 : training on 9227204 raw words (8222951 effective words) took 19.6s, 420006 effective words/s\n",
            "2020-11-21 22:36:35,277 : INFO : EPOCH 16 - PROGRESS: at 4.67% examples, 382242 words/s, in_qsize 15, out_qsize 0\n",
            "2020-11-21 22:36:36,287 : INFO : EPOCH 16 - PROGRESS: at 9.77% examples, 398630 words/s, in_qsize 15, out_qsize 0\n",
            "2020-11-21 22:36:37,294 : INFO : EPOCH 16 - PROGRESS: at 15.41% examples, 418936 words/s, in_qsize 15, out_qsize 0\n",
            "2020-11-21 22:36:38,380 : INFO : EPOCH 16 - PROGRESS: at 20.27% examples, 407775 words/s, in_qsize 16, out_qsize 4\n",
            "2020-11-21 22:36:39,454 : INFO : EPOCH 16 - PROGRESS: at 25.70% examples, 407656 words/s, in_qsize 14, out_qsize 1\n",
            "2020-11-21 22:36:40,480 : INFO : EPOCH 16 - PROGRESS: at 31.21% examples, 413499 words/s, in_qsize 15, out_qsize 0\n",
            "2020-11-21 22:36:41,560 : INFO : EPOCH 16 - PROGRESS: at 36.72% examples, 414507 words/s, in_qsize 15, out_qsize 0\n",
            "2020-11-21 22:36:42,597 : INFO : EPOCH 16 - PROGRESS: at 41.91% examples, 414224 words/s, in_qsize 14, out_qsize 1\n",
            "2020-11-21 22:36:43,634 : INFO : EPOCH 16 - PROGRESS: at 47.43% examples, 416820 words/s, in_qsize 15, out_qsize 0\n",
            "2020-11-21 22:36:44,646 : INFO : EPOCH 16 - PROGRESS: at 52.51% examples, 416590 words/s, in_qsize 15, out_qsize 0\n",
            "2020-11-21 22:36:45,658 : INFO : EPOCH 16 - PROGRESS: at 57.93% examples, 418684 words/s, in_qsize 13, out_qsize 2\n",
            "2020-11-21 22:36:46,704 : INFO : EPOCH 16 - PROGRESS: at 62.90% examples, 416377 words/s, in_qsize 16, out_qsize 0\n",
            "2020-11-21 22:36:47,722 : INFO : EPOCH 16 - PROGRESS: at 68.21% examples, 417327 words/s, in_qsize 15, out_qsize 0\n",
            "2020-11-21 22:36:48,765 : INFO : EPOCH 16 - PROGRESS: at 73.51% examples, 417419 words/s, in_qsize 15, out_qsize 1\n",
            "2020-11-21 22:36:49,848 : INFO : EPOCH 16 - PROGRESS: at 78.84% examples, 416392 words/s, in_qsize 15, out_qsize 0\n",
            "2020-11-21 22:36:50,872 : INFO : EPOCH 16 - PROGRESS: at 84.05% examples, 416482 words/s, in_qsize 12, out_qsize 3\n",
            "2020-11-21 22:36:51,906 : INFO : EPOCH 16 - PROGRESS: at 89.35% examples, 416793 words/s, in_qsize 15, out_qsize 0\n",
            "2020-11-21 22:36:52,921 : INFO : EPOCH 16 - PROGRESS: at 94.58% examples, 417027 words/s, in_qsize 14, out_qsize 1\n",
            "2020-11-21 22:36:53,817 : INFO : worker thread finished; awaiting finish of 7 more threads\n",
            "2020-11-21 22:36:53,835 : INFO : worker thread finished; awaiting finish of 6 more threads\n",
            "2020-11-21 22:36:53,840 : INFO : worker thread finished; awaiting finish of 5 more threads\n",
            "2020-11-21 22:36:53,846 : INFO : worker thread finished; awaiting finish of 4 more threads\n",
            "2020-11-21 22:36:53,856 : INFO : worker thread finished; awaiting finish of 3 more threads\n",
            "2020-11-21 22:36:53,859 : INFO : worker thread finished; awaiting finish of 2 more threads\n",
            "2020-11-21 22:36:53,871 : INFO : worker thread finished; awaiting finish of 1 more threads\n",
            "2020-11-21 22:36:53,873 : INFO : worker thread finished; awaiting finish of 0 more threads\n",
            "2020-11-21 22:36:53,874 : INFO : EPOCH - 16 : training on 9227204 raw words (8222224 effective words) took 19.6s, 419528 effective words/s\n",
            "2020-11-21 22:36:54,998 : INFO : EPOCH 17 - PROGRESS: at 4.78% examples, 357018 words/s, in_qsize 15, out_qsize 1\n",
            "2020-11-21 22:36:56,001 : INFO : EPOCH 17 - PROGRESS: at 9.99% examples, 387315 words/s, in_qsize 16, out_qsize 0\n",
            "2020-11-21 22:36:57,007 : INFO : EPOCH 17 - PROGRESS: at 14.97% examples, 393674 words/s, in_qsize 15, out_qsize 3\n",
            "2020-11-21 22:36:58,025 : INFO : EPOCH 17 - PROGRESS: at 20.27% examples, 402230 words/s, in_qsize 15, out_qsize 0\n",
            "2020-11-21 22:36:59,090 : INFO : EPOCH 17 - PROGRESS: at 25.80% examples, 407175 words/s, in_qsize 14, out_qsize 1\n",
            "2020-11-21 22:37:00,098 : INFO : EPOCH 17 - PROGRESS: at 31.10% examples, 411421 words/s, in_qsize 15, out_qsize 0\n",
            "2020-11-21 22:37:01,194 : INFO : EPOCH 17 - PROGRESS: at 36.40% examples, 409379 words/s, in_qsize 10, out_qsize 5\n",
            "2020-11-21 22:37:02,240 : INFO : EPOCH 17 - PROGRESS: at 41.81% examples, 411452 words/s, in_qsize 14, out_qsize 4\n",
            "2020-11-21 22:37:03,249 : INFO : EPOCH 17 - PROGRESS: at 47.54% examples, 417499 words/s, in_qsize 15, out_qsize 0\n",
            "2020-11-21 22:37:04,308 : INFO : EPOCH 17 - PROGRESS: at 52.62% examples, 415660 words/s, in_qsize 15, out_qsize 1\n",
            "2020-11-21 22:37:05,303 : INFO : EPOCH 17 - PROGRESS: at 57.60% examples, 414984 words/s, in_qsize 15, out_qsize 0\n",
            "2020-11-21 22:37:06,350 : INFO : EPOCH 17 - PROGRESS: at 63.22% examples, 417329 words/s, in_qsize 15, out_qsize 0\n",
            "2020-11-21 22:37:07,352 : INFO : EPOCH 17 - PROGRESS: at 68.32% examples, 417356 words/s, in_qsize 15, out_qsize 0\n",
            "2020-11-21 22:37:08,388 : INFO : EPOCH 17 - PROGRESS: at 73.52% examples, 417009 words/s, in_qsize 15, out_qsize 0\n",
            "2020-11-21 22:37:09,455 : INFO : EPOCH 17 - PROGRESS: at 78.73% examples, 415880 words/s, in_qsize 15, out_qsize 0\n",
            "2020-11-21 22:37:10,522 : INFO : EPOCH 17 - PROGRESS: at 84.05% examples, 415449 words/s, in_qsize 15, out_qsize 2\n",
            "2020-11-21 22:37:11,538 : INFO : EPOCH 17 - PROGRESS: at 89.45% examples, 416755 words/s, in_qsize 16, out_qsize 0\n",
            "2020-11-21 22:37:12,566 : INFO : EPOCH 17 - PROGRESS: at 94.47% examples, 415753 words/s, in_qsize 14, out_qsize 1\n",
            "2020-11-21 22:37:13,388 : INFO : worker thread finished; awaiting finish of 7 more threads\n",
            "2020-11-21 22:37:13,420 : INFO : worker thread finished; awaiting finish of 6 more threads\n",
            "2020-11-21 22:37:13,465 : INFO : worker thread finished; awaiting finish of 5 more threads\n",
            "2020-11-21 22:37:13,473 : INFO : worker thread finished; awaiting finish of 4 more threads\n",
            "2020-11-21 22:37:13,477 : INFO : worker thread finished; awaiting finish of 3 more threads\n",
            "2020-11-21 22:37:13,484 : INFO : worker thread finished; awaiting finish of 2 more threads\n",
            "2020-11-21 22:37:13,490 : INFO : worker thread finished; awaiting finish of 1 more threads\n",
            "2020-11-21 22:37:13,492 : INFO : worker thread finished; awaiting finish of 0 more threads\n",
            "2020-11-21 22:37:13,492 : INFO : EPOCH - 17 : training on 9227204 raw words (8222566 effective words) took 19.6s, 419339 effective words/s\n",
            "2020-11-21 22:37:14,510 : INFO : EPOCH 18 - PROGRESS: at 4.78% examples, 390215 words/s, in_qsize 16, out_qsize 1\n",
            "2020-11-21 22:37:15,536 : INFO : EPOCH 18 - PROGRESS: at 10.10% examples, 408227 words/s, in_qsize 15, out_qsize 0\n",
            "2020-11-21 22:37:16,544 : INFO : EPOCH 18 - PROGRESS: at 15.19% examples, 410388 words/s, in_qsize 15, out_qsize 0\n",
            "2020-11-21 22:37:17,558 : INFO : EPOCH 18 - PROGRESS: at 20.27% examples, 411038 words/s, in_qsize 15, out_qsize 0\n",
            "2020-11-21 22:37:18,599 : INFO : EPOCH 18 - PROGRESS: at 25.37% examples, 409294 words/s, in_qsize 15, out_qsize 0\n",
            "2020-11-21 22:37:19,616 : INFO : EPOCH 18 - PROGRESS: at 30.45% examples, 409795 words/s, in_qsize 15, out_qsize 0\n",
            "2020-11-21 22:37:20,695 : INFO : EPOCH 18 - PROGRESS: at 36.29% examples, 415162 words/s, in_qsize 16, out_qsize 0\n",
            "2020-11-21 22:37:21,753 : INFO : EPOCH 18 - PROGRESS: at 41.37% examples, 412627 words/s, in_qsize 11, out_qsize 4\n",
            "2020-11-21 22:37:22,785 : INFO : EPOCH 18 - PROGRESS: at 46.89% examples, 415708 words/s, in_qsize 14, out_qsize 1\n",
            "2020-11-21 22:37:23,793 : INFO : EPOCH 18 - PROGRESS: at 51.97% examples, 415655 words/s, in_qsize 15, out_qsize 0\n",
            "2020-11-21 22:37:24,799 : INFO : EPOCH 18 - PROGRESS: at 57.60% examples, 419677 words/s, in_qsize 16, out_qsize 0\n",
            "2020-11-21 22:37:25,800 : INFO : EPOCH 18 - PROGRESS: at 62.35% examples, 417397 words/s, in_qsize 15, out_qsize 0\n",
            "2020-11-21 22:37:26,810 : INFO : EPOCH 18 - PROGRESS: at 67.66% examples, 418482 words/s, in_qsize 15, out_qsize 0\n",
            "2020-11-21 22:37:27,837 : INFO : EPOCH 18 - PROGRESS: at 72.75% examples, 417706 words/s, in_qsize 15, out_qsize 0\n",
            "2020-11-21 22:37:28,845 : INFO : EPOCH 18 - PROGRESS: at 77.75% examples, 416978 words/s, in_qsize 15, out_qsize 0\n",
            "2020-11-21 22:37:29,855 : INFO : EPOCH 18 - PROGRESS: at 83.29% examples, 419044 words/s, in_qsize 16, out_qsize 1\n",
            "2020-11-21 22:37:30,947 : INFO : EPOCH 18 - PROGRESS: at 88.59% examples, 417821 words/s, in_qsize 16, out_qsize 0\n",
            "2020-11-21 22:37:31,965 : INFO : EPOCH 18 - PROGRESS: at 94.14% examples, 419355 words/s, in_qsize 12, out_qsize 0\n",
            "2020-11-21 22:37:32,978 : INFO : EPOCH 18 - PROGRESS: at 99.00% examples, 418130 words/s, in_qsize 10, out_qsize 0\n",
            "2020-11-21 22:37:32,990 : INFO : worker thread finished; awaiting finish of 7 more threads\n",
            "2020-11-21 22:37:33,006 : INFO : worker thread finished; awaiting finish of 6 more threads\n",
            "2020-11-21 22:37:33,007 : INFO : worker thread finished; awaiting finish of 5 more threads\n",
            "2020-11-21 22:37:33,008 : INFO : worker thread finished; awaiting finish of 4 more threads\n",
            "2020-11-21 22:37:33,016 : INFO : worker thread finished; awaiting finish of 3 more threads\n",
            "2020-11-21 22:37:33,026 : INFO : worker thread finished; awaiting finish of 2 more threads\n",
            "2020-11-21 22:37:33,059 : INFO : worker thread finished; awaiting finish of 1 more threads\n",
            "2020-11-21 22:37:33,061 : INFO : worker thread finished; awaiting finish of 0 more threads\n",
            "2020-11-21 22:37:33,062 : INFO : EPOCH - 18 : training on 9227204 raw words (8223023 effective words) took 19.6s, 420495 effective words/s\n",
            "2020-11-21 22:37:34,083 : INFO : EPOCH 19 - PROGRESS: at 4.67% examples, 379580 words/s, in_qsize 15, out_qsize 0\n",
            "2020-11-21 22:37:35,086 : INFO : EPOCH 19 - PROGRESS: at 9.55% examples, 389674 words/s, in_qsize 11, out_qsize 4\n",
            "2020-11-21 22:37:36,152 : INFO : EPOCH 19 - PROGRESS: at 14.75% examples, 400173 words/s, in_qsize 13, out_qsize 7\n",
            "2020-11-21 22:37:37,132 : INFO : EPOCH 19 - PROGRESS: at 19.84% examples, 401664 words/s, in_qsize 16, out_qsize 2\n",
            "2020-11-21 22:37:38,165 : INFO : EPOCH 19 - PROGRESS: at 25.04% examples, 404180 words/s, in_qsize 14, out_qsize 1\n",
            "2020-11-21 22:37:39,184 : INFO : EPOCH 19 - PROGRESS: at 30.35% examples, 408221 words/s, in_qsize 15, out_qsize 0\n",
            "2020-11-21 22:37:40,185 : INFO : EPOCH 19 - PROGRESS: at 35.54% examples, 410843 words/s, in_qsize 16, out_qsize 0\n",
            "2020-11-21 22:37:41,185 : INFO : EPOCH 19 - PROGRESS: at 40.73% examples, 412843 words/s, in_qsize 16, out_qsize 0\n",
            "2020-11-21 22:37:42,216 : INFO : EPOCH 19 - PROGRESS: at 45.70% examples, 411128 words/s, in_qsize 15, out_qsize 0\n",
            "2020-11-21 22:37:43,218 : INFO : EPOCH 19 - PROGRESS: at 50.88% examples, 412703 words/s, in_qsize 13, out_qsize 2\n",
            "2020-11-21 22:37:44,258 : INFO : EPOCH 19 - PROGRESS: at 55.86% examples, 411643 words/s, in_qsize 15, out_qsize 1\n",
            "2020-11-21 22:37:45,241 : INFO : EPOCH 19 - PROGRESS: at 61.07% examples, 412932 words/s, in_qsize 15, out_qsize 0\n",
            "2020-11-21 22:37:46,249 : INFO : EPOCH 19 - PROGRESS: at 66.04% examples, 412410 words/s, in_qsize 16, out_qsize 4\n",
            "2020-11-21 22:37:47,303 : INFO : EPOCH 19 - PROGRESS: at 71.67% examples, 414397 words/s, in_qsize 15, out_qsize 0\n",
            "2020-11-21 22:37:48,315 : INFO : EPOCH 19 - PROGRESS: at 76.98% examples, 415519 words/s, in_qsize 15, out_qsize 0\n",
            "2020-11-21 22:37:49,375 : INFO : EPOCH 19 - PROGRESS: at 82.53% examples, 416391 words/s, in_qsize 15, out_qsize 0\n",
            "2020-11-21 22:37:50,416 : INFO : EPOCH 19 - PROGRESS: at 87.62% examples, 415504 words/s, in_qsize 14, out_qsize 1\n",
            "2020-11-21 22:37:51,418 : INFO : EPOCH 19 - PROGRESS: at 93.15% examples, 417563 words/s, in_qsize 14, out_qsize 0\n",
            "2020-11-21 22:37:52,438 : INFO : EPOCH 19 - PROGRESS: at 98.04% examples, 416274 words/s, in_qsize 16, out_qsize 1\n",
            "2020-11-21 22:37:52,625 : INFO : worker thread finished; awaiting finish of 7 more threads\n",
            "2020-11-21 22:37:52,628 : INFO : worker thread finished; awaiting finish of 6 more threads\n",
            "2020-11-21 22:37:52,637 : INFO : worker thread finished; awaiting finish of 5 more threads\n",
            "2020-11-21 22:37:52,639 : INFO : worker thread finished; awaiting finish of 4 more threads\n",
            "2020-11-21 22:37:52,657 : INFO : worker thread finished; awaiting finish of 3 more threads\n",
            "2020-11-21 22:37:52,666 : INFO : worker thread finished; awaiting finish of 2 more threads\n",
            "2020-11-21 22:37:52,687 : INFO : worker thread finished; awaiting finish of 1 more threads\n",
            "2020-11-21 22:37:52,692 : INFO : worker thread finished; awaiting finish of 0 more threads\n",
            "2020-11-21 22:37:52,693 : INFO : EPOCH - 19 : training on 9227204 raw words (8222371 effective words) took 19.6s, 419094 effective words/s\n",
            "2020-11-21 22:37:53,808 : INFO : EPOCH 20 - PROGRESS: at 5.11% examples, 387825 words/s, in_qsize 15, out_qsize 0\n",
            "2020-11-21 22:37:54,830 : INFO : EPOCH 20 - PROGRESS: at 10.42% examples, 403042 words/s, in_qsize 15, out_qsize 0\n",
            "2020-11-21 22:37:55,888 : INFO : EPOCH 20 - PROGRESS: at 15.62% examples, 403431 words/s, in_qsize 14, out_qsize 1\n",
            "2020-11-21 22:37:56,959 : INFO : EPOCH 20 - PROGRESS: at 21.24% examples, 410700 words/s, in_qsize 15, out_qsize 0\n",
            "2020-11-21 22:37:58,016 : INFO : EPOCH 20 - PROGRESS: at 26.67% examples, 415245 words/s, in_qsize 13, out_qsize 4\n",
            "2020-11-21 22:37:58,986 : INFO : EPOCH 20 - PROGRESS: at 32.08% examples, 420033 words/s, in_qsize 15, out_qsize 0\n",
            "2020-11-21 22:38:00,027 : INFO : EPOCH 20 - PROGRESS: at 37.59% examples, 422355 words/s, in_qsize 15, out_qsize 0\n",
            "2020-11-21 22:38:01,097 : INFO : EPOCH 20 - PROGRESS: at 42.89% examples, 420513 words/s, in_qsize 15, out_qsize 0\n",
            "2020-11-21 22:38:02,222 : INFO : EPOCH 20 - PROGRESS: at 48.62% examples, 420409 words/s, in_qsize 15, out_qsize 0\n",
            "2020-11-21 22:38:03,303 : INFO : EPOCH 20 - PROGRESS: at 54.14% examples, 420403 words/s, in_qsize 14, out_qsize 1\n",
            "2020-11-21 22:38:04,312 : INFO : EPOCH 20 - PROGRESS: at 59.55% examples, 422258 words/s, in_qsize 15, out_qsize 0\n",
            "2020-11-21 22:38:05,317 : INFO : EPOCH 20 - PROGRESS: at 64.73% examples, 422526 words/s, in_qsize 15, out_qsize 0\n",
            "2020-11-21 22:38:06,325 : INFO : EPOCH 20 - PROGRESS: at 69.72% examples, 421336 words/s, in_qsize 13, out_qsize 2\n",
            "2020-11-21 22:38:07,334 : INFO : EPOCH 20 - PROGRESS: at 74.91% examples, 421504 words/s, in_qsize 13, out_qsize 2\n",
            "2020-11-21 22:38:08,397 : INFO : EPOCH 20 - PROGRESS: at 80.57% examples, 422725 words/s, in_qsize 15, out_qsize 1\n",
            "2020-11-21 22:38:09,411 : INFO : EPOCH 20 - PROGRESS: at 85.99% examples, 423453 words/s, in_qsize 16, out_qsize 0\n",
            "2020-11-21 22:38:10,451 : INFO : EPOCH 20 - PROGRESS: at 91.31% examples, 423224 words/s, in_qsize 15, out_qsize 1\n",
            "2020-11-21 22:38:11,527 : INFO : EPOCH 20 - PROGRESS: at 96.64% examples, 422207 words/s, in_qsize 14, out_qsize 1\n",
            "2020-11-21 22:38:11,991 : INFO : worker thread finished; awaiting finish of 7 more threads\n",
            "2020-11-21 22:38:12,025 : INFO : worker thread finished; awaiting finish of 6 more threads\n",
            "2020-11-21 22:38:12,028 : INFO : worker thread finished; awaiting finish of 5 more threads\n",
            "2020-11-21 22:38:12,042 : INFO : worker thread finished; awaiting finish of 4 more threads\n",
            "2020-11-21 22:38:12,069 : INFO : worker thread finished; awaiting finish of 3 more threads\n",
            "2020-11-21 22:38:12,080 : INFO : worker thread finished; awaiting finish of 2 more threads\n",
            "2020-11-21 22:38:12,085 : INFO : worker thread finished; awaiting finish of 1 more threads\n",
            "2020-11-21 22:38:12,093 : INFO : worker thread finished; awaiting finish of 0 more threads\n",
            "2020-11-21 22:38:12,093 : INFO : EPOCH - 20 : training on 9227204 raw words (8222438 effective words) took 19.4s, 424165 effective words/s\n",
            "2020-11-21 22:38:13,124 : INFO : EPOCH 21 - PROGRESS: at 4.34% examples, 349929 words/s, in_qsize 13, out_qsize 5\n",
            "2020-11-21 22:38:14,180 : INFO : EPOCH 21 - PROGRESS: at 10.09% examples, 399687 words/s, in_qsize 15, out_qsize 0\n",
            "2020-11-21 22:38:15,203 : INFO : EPOCH 21 - PROGRESS: at 15.41% examples, 408636 words/s, in_qsize 13, out_qsize 2\n",
            "2020-11-21 22:38:16,219 : INFO : EPOCH 21 - PROGRESS: at 20.92% examples, 418140 words/s, in_qsize 15, out_qsize 0\n",
            "2020-11-21 22:38:17,234 : INFO : EPOCH 21 - PROGRESS: at 26.02% examples, 417864 words/s, in_qsize 16, out_qsize 2\n",
            "2020-11-21 22:38:18,321 : INFO : EPOCH 21 - PROGRESS: at 31.43% examples, 415807 words/s, in_qsize 9, out_qsize 6\n",
            "2020-11-21 22:38:19,350 : INFO : EPOCH 21 - PROGRESS: at 36.83% examples, 418212 words/s, in_qsize 16, out_qsize 0\n",
            "2020-11-21 22:38:20,361 : INFO : EPOCH 21 - PROGRESS: at 41.80% examples, 416629 words/s, in_qsize 14, out_qsize 7\n",
            "2020-11-21 22:38:21,393 : INFO : EPOCH 21 - PROGRESS: at 47.43% examples, 420212 words/s, in_qsize 16, out_qsize 2\n",
            "2020-11-21 22:38:22,426 : INFO : EPOCH 21 - PROGRESS: at 52.62% examples, 419628 words/s, in_qsize 16, out_qsize 0\n",
            "2020-11-21 22:38:23,440 : INFO : EPOCH 21 - PROGRESS: at 57.71% examples, 419050 words/s, in_qsize 15, out_qsize 0\n",
            "2020-11-21 22:38:24,472 : INFO : EPOCH 21 - PROGRESS: at 63.33% examples, 421583 words/s, in_qsize 15, out_qsize 0\n",
            "2020-11-21 22:38:25,563 : INFO : EPOCH 21 - PROGRESS: at 68.75% examples, 420475 words/s, in_qsize 15, out_qsize 0\n",
            "2020-11-21 22:38:26,583 : INFO : EPOCH 21 - PROGRESS: at 73.94% examples, 420350 words/s, in_qsize 16, out_qsize 2\n",
            "2020-11-21 22:38:27,587 : INFO : EPOCH 21 - PROGRESS: at 79.16% examples, 420696 words/s, in_qsize 15, out_qsize 0\n",
            "2020-11-21 22:38:28,588 : INFO : EPOCH 21 - PROGRESS: at 84.59% examples, 422166 words/s, in_qsize 15, out_qsize 0\n",
            "2020-11-21 22:38:29,667 : INFO : EPOCH 21 - PROGRESS: at 89.78% examples, 420563 words/s, in_qsize 15, out_qsize 0\n",
            "2020-11-21 22:38:30,696 : INFO : EPOCH 21 - PROGRESS: at 95.12% examples, 420752 words/s, in_qsize 16, out_qsize 1\n",
            "2020-11-21 22:38:31,473 : INFO : worker thread finished; awaiting finish of 7 more threads\n",
            "2020-11-21 22:38:31,482 : INFO : worker thread finished; awaiting finish of 6 more threads\n",
            "2020-11-21 22:38:31,493 : INFO : worker thread finished; awaiting finish of 5 more threads\n",
            "2020-11-21 22:38:31,498 : INFO : worker thread finished; awaiting finish of 4 more threads\n",
            "2020-11-21 22:38:31,519 : INFO : worker thread finished; awaiting finish of 3 more threads\n",
            "2020-11-21 22:38:31,542 : INFO : worker thread finished; awaiting finish of 2 more threads\n",
            "2020-11-21 22:38:31,548 : INFO : worker thread finished; awaiting finish of 1 more threads\n",
            "2020-11-21 22:38:31,549 : INFO : worker thread finished; awaiting finish of 0 more threads\n",
            "2020-11-21 22:38:31,551 : INFO : EPOCH - 21 : training on 9227204 raw words (8223779 effective words) took 19.4s, 422935 effective words/s\n",
            "2020-11-21 22:38:32,590 : INFO : EPOCH 22 - PROGRESS: at 4.56% examples, 364055 words/s, in_qsize 16, out_qsize 0\n",
            "2020-11-21 22:38:33,638 : INFO : EPOCH 22 - PROGRESS: at 10.10% examples, 399143 words/s, in_qsize 15, out_qsize 0\n",
            "2020-11-21 22:38:34,796 : INFO : EPOCH 22 - PROGRESS: at 15.62% examples, 396743 words/s, in_qsize 12, out_qsize 6\n",
            "2020-11-21 22:38:35,809 : INFO : EPOCH 22 - PROGRESS: at 21.24% examples, 411157 words/s, in_qsize 15, out_qsize 0\n",
            "2020-11-21 22:38:36,821 : INFO : EPOCH 22 - PROGRESS: at 26.56% examples, 415077 words/s, in_qsize 16, out_qsize 0\n",
            "2020-11-21 22:38:37,864 : INFO : EPOCH 22 - PROGRESS: at 31.54% examples, 411407 words/s, in_qsize 12, out_qsize 3\n",
            "2020-11-21 22:38:38,871 : INFO : EPOCH 22 - PROGRESS: at 37.16% examples, 418087 words/s, in_qsize 16, out_qsize 1\n",
            "2020-11-21 22:38:39,876 : INFO : EPOCH 22 - PROGRESS: at 42.24% examples, 417918 words/s, in_qsize 15, out_qsize 0\n",
            "2020-11-21 22:38:40,900 : INFO : EPOCH 22 - PROGRESS: at 47.32% examples, 416902 words/s, in_qsize 16, out_qsize 0\n",
            "2020-11-21 22:38:41,950 : INFO : EPOCH 22 - PROGRESS: at 52.40% examples, 415064 words/s, in_qsize 11, out_qsize 4\n",
            "2020-11-21 22:38:42,961 : INFO : EPOCH 22 - PROGRESS: at 57.81% examples, 417367 words/s, in_qsize 15, out_qsize 0\n",
            "2020-11-21 22:38:43,979 : INFO : EPOCH 22 - PROGRESS: at 63.11% examples, 418302 words/s, in_qsize 15, out_qsize 0\n",
            "2020-11-21 22:38:44,995 : INFO : EPOCH 22 - PROGRESS: at 68.42% examples, 419169 words/s, in_qsize 15, out_qsize 0\n",
            "2020-11-21 22:38:46,025 : INFO : EPOCH 22 - PROGRESS: at 73.19% examples, 416397 words/s, in_qsize 13, out_qsize 2\n",
            "2020-11-21 22:38:47,064 : INFO : EPOCH 22 - PROGRESS: at 78.73% examples, 417744 words/s, in_qsize 14, out_qsize 1\n",
            "2020-11-21 22:38:48,142 : INFO : EPOCH 22 - PROGRESS: at 84.15% examples, 417470 words/s, in_qsize 15, out_qsize 0\n",
            "2020-11-21 22:38:49,145 : INFO : EPOCH 22 - PROGRESS: at 89.34% examples, 417967 words/s, in_qsize 16, out_qsize 0\n",
            "2020-11-21 22:38:50,155 : INFO : EPOCH 22 - PROGRESS: at 94.80% examples, 419182 words/s, in_qsize 16, out_qsize 1\n",
            "2020-11-21 22:38:51,048 : INFO : worker thread finished; awaiting finish of 7 more threads\n",
            "2020-11-21 22:38:51,053 : INFO : worker thread finished; awaiting finish of 6 more threads\n",
            "2020-11-21 22:38:51,056 : INFO : worker thread finished; awaiting finish of 5 more threads\n",
            "2020-11-21 22:38:51,057 : INFO : worker thread finished; awaiting finish of 4 more threads\n",
            "2020-11-21 22:38:51,061 : INFO : worker thread finished; awaiting finish of 3 more threads\n",
            "2020-11-21 22:38:51,063 : INFO : worker thread finished; awaiting finish of 2 more threads\n",
            "2020-11-21 22:38:51,075 : INFO : worker thread finished; awaiting finish of 1 more threads\n",
            "2020-11-21 22:38:51,080 : INFO : worker thread finished; awaiting finish of 0 more threads\n",
            "2020-11-21 22:38:51,081 : INFO : EPOCH - 22 : training on 9227204 raw words (8222877 effective words) took 19.5s, 421270 effective words/s\n",
            "2020-11-21 22:38:52,140 : INFO : EPOCH 23 - PROGRESS: at 4.56% examples, 358967 words/s, in_qsize 15, out_qsize 3\n",
            "2020-11-21 22:38:53,149 : INFO : EPOCH 23 - PROGRESS: at 9.99% examples, 399593 words/s, in_qsize 15, out_qsize 0\n",
            "2020-11-21 22:38:54,153 : INFO : EPOCH 23 - PROGRESS: at 15.30% examples, 411105 words/s, in_qsize 15, out_qsize 0\n",
            "2020-11-21 22:38:55,175 : INFO : EPOCH 23 - PROGRESS: at 19.73% examples, 397604 words/s, in_qsize 14, out_qsize 1\n",
            "2020-11-21 22:38:56,181 : INFO : EPOCH 23 - PROGRESS: at 24.94% examples, 403058 words/s, in_qsize 15, out_qsize 0\n",
            "2020-11-21 22:38:57,191 : INFO : EPOCH 23 - PROGRESS: at 29.81% examples, 402054 words/s, in_qsize 15, out_qsize 0\n",
            "2020-11-21 22:38:58,196 : INFO : EPOCH 23 - PROGRESS: at 34.78% examples, 402846 words/s, in_qsize 15, out_qsize 1\n",
            "2020-11-21 22:38:59,247 : INFO : EPOCH 23 - PROGRESS: at 39.76% examples, 401186 words/s, in_qsize 15, out_qsize 0\n",
            "2020-11-21 22:39:00,249 : INFO : EPOCH 23 - PROGRESS: at 44.83% examples, 403012 words/s, in_qsize 16, out_qsize 0\n",
            "2020-11-21 22:39:01,274 : INFO : EPOCH 23 - PROGRESS: at 50.02% examples, 404447 words/s, in_qsize 15, out_qsize 0\n",
            "2020-11-21 22:39:02,292 : INFO : EPOCH 23 - PROGRESS: at 55.00% examples, 404280 words/s, in_qsize 15, out_qsize 0\n",
            "2020-11-21 22:39:03,310 : INFO : EPOCH 23 - PROGRESS: at 60.09% examples, 404898 words/s, in_qsize 16, out_qsize 0\n",
            "2020-11-21 22:39:04,314 : INFO : EPOCH 23 - PROGRESS: at 65.39% examples, 407135 words/s, in_qsize 15, out_qsize 0\n",
            "2020-11-21 22:39:05,316 : INFO : EPOCH 23 - PROGRESS: at 70.48% examples, 407881 words/s, in_qsize 11, out_qsize 0\n",
            "2020-11-21 22:39:06,330 : INFO : EPOCH 23 - PROGRESS: at 75.35% examples, 407052 words/s, in_qsize 15, out_qsize 2\n",
            "2020-11-21 22:39:07,366 : INFO : EPOCH 23 - PROGRESS: at 80.80% examples, 408511 words/s, in_qsize 16, out_qsize 0\n",
            "2020-11-21 22:39:08,408 : INFO : EPOCH 23 - PROGRESS: at 85.99% examples, 408609 words/s, in_qsize 15, out_qsize 0\n",
            "2020-11-21 22:39:09,450 : INFO : EPOCH 23 - PROGRESS: at 91.20% examples, 408693 words/s, in_qsize 16, out_qsize 0\n",
            "2020-11-21 22:39:10,482 : INFO : EPOCH 23 - PROGRESS: at 96.53% examples, 409437 words/s, in_qsize 16, out_qsize 0\n",
            "2020-11-21 22:39:10,951 : INFO : worker thread finished; awaiting finish of 7 more threads\n",
            "2020-11-21 22:39:10,956 : INFO : worker thread finished; awaiting finish of 6 more threads\n",
            "2020-11-21 22:39:10,978 : INFO : worker thread finished; awaiting finish of 5 more threads\n",
            "2020-11-21 22:39:11,004 : INFO : worker thread finished; awaiting finish of 4 more threads\n",
            "2020-11-21 22:39:11,013 : INFO : worker thread finished; awaiting finish of 3 more threads\n",
            "2020-11-21 22:39:11,033 : INFO : worker thread finished; awaiting finish of 2 more threads\n",
            "2020-11-21 22:39:11,040 : INFO : worker thread finished; awaiting finish of 1 more threads\n",
            "2020-11-21 22:39:11,046 : INFO : worker thread finished; awaiting finish of 0 more threads\n",
            "2020-11-21 22:39:11,046 : INFO : EPOCH - 23 : training on 9227204 raw words (8222452 effective words) took 19.9s, 412191 effective words/s\n",
            "2020-11-21 22:39:12,137 : INFO : EPOCH 24 - PROGRESS: at 5.00% examples, 380172 words/s, in_qsize 16, out_qsize 0\n",
            "2020-11-21 22:39:13,149 : INFO : EPOCH 24 - PROGRESS: at 9.88% examples, 388126 words/s, in_qsize 15, out_qsize 0\n",
            "2020-11-21 22:39:14,151 : INFO : EPOCH 24 - PROGRESS: at 15.08% examples, 400437 words/s, in_qsize 13, out_qsize 1\n",
            "2020-11-21 22:39:15,228 : INFO : EPOCH 24 - PROGRESS: at 20.70% examples, 408197 words/s, in_qsize 15, out_qsize 0\n",
            "2020-11-21 22:39:16,237 : INFO : EPOCH 24 - PROGRESS: at 25.91% examples, 411314 words/s, in_qsize 14, out_qsize 1\n",
            "2020-11-21 22:39:17,284 : INFO : EPOCH 24 - PROGRESS: at 31.32% examples, 413677 words/s, in_qsize 15, out_qsize 0\n",
            "2020-11-21 22:39:18,295 : INFO : EPOCH 24 - PROGRESS: at 36.29% examples, 412514 words/s, in_qsize 15, out_qsize 2\n",
            "2020-11-21 22:39:19,297 : INFO : EPOCH 24 - PROGRESS: at 41.37% examples, 413135 words/s, in_qsize 15, out_qsize 0\n",
            "2020-11-21 22:39:20,324 : INFO : EPOCH 24 - PROGRESS: at 46.89% examples, 416326 words/s, in_qsize 15, out_qsize 0\n",
            "2020-11-21 22:39:21,349 : INFO : EPOCH 24 - PROGRESS: at 52.07% examples, 416429 words/s, in_qsize 15, out_qsize 0\n",
            "2020-11-21 22:39:22,364 : INFO : EPOCH 24 - PROGRESS: at 57.27% examples, 416884 words/s, in_qsize 15, out_qsize 0\n",
            "2020-11-21 22:39:23,393 : INFO : EPOCH 24 - PROGRESS: at 62.46% examples, 416779 words/s, in_qsize 14, out_qsize 2\n",
            "2020-11-21 22:39:24,416 : INFO : EPOCH 24 - PROGRESS: at 67.88% examples, 418191 words/s, in_qsize 15, out_qsize 0\n",
            "2020-11-21 22:39:25,425 : INFO : EPOCH 24 - PROGRESS: at 72.97% examples, 417973 words/s, in_qsize 15, out_qsize 0\n",
            "2020-11-21 22:39:26,425 : INFO : EPOCH 24 - PROGRESS: at 78.18% examples, 418588 words/s, in_qsize 13, out_qsize 2\n",
            "2020-11-21 22:39:27,471 : INFO : EPOCH 24 - PROGRESS: at 83.62% examples, 419064 words/s, in_qsize 15, out_qsize 0\n",
            "2020-11-21 22:39:28,478 : INFO : EPOCH 24 - PROGRESS: at 88.80% examples, 419348 words/s, in_qsize 15, out_qsize 0\n",
            "2020-11-21 22:39:29,551 : INFO : EPOCH 24 - PROGRESS: at 94.03% examples, 418099 words/s, in_qsize 15, out_qsize 0\n",
            "2020-11-21 22:39:30,522 : INFO : worker thread finished; awaiting finish of 7 more threads\n",
            "2020-11-21 22:39:30,538 : INFO : worker thread finished; awaiting finish of 6 more threads\n",
            "2020-11-21 22:39:30,560 : INFO : EPOCH 24 - PROGRESS: at 99.45% examples, 419373 words/s, in_qsize 5, out_qsize 1\n",
            "2020-11-21 22:39:30,562 : INFO : worker thread finished; awaiting finish of 5 more threads\n",
            "2020-11-21 22:39:30,573 : INFO : worker thread finished; awaiting finish of 4 more threads\n",
            "2020-11-21 22:39:30,575 : INFO : worker thread finished; awaiting finish of 3 more threads\n",
            "2020-11-21 22:39:30,580 : INFO : worker thread finished; awaiting finish of 2 more threads\n",
            "2020-11-21 22:39:30,585 : INFO : worker thread finished; awaiting finish of 1 more threads\n",
            "2020-11-21 22:39:30,604 : INFO : worker thread finished; awaiting finish of 0 more threads\n",
            "2020-11-21 22:39:30,605 : INFO : EPOCH - 24 : training on 9227204 raw words (8222433 effective words) took 19.5s, 420682 effective words/s\n",
            "2020-11-21 22:39:31,670 : INFO : EPOCH 25 - PROGRESS: at 4.34% examples, 338932 words/s, in_qsize 9, out_qsize 6\n",
            "2020-11-21 22:39:32,681 : INFO : EPOCH 25 - PROGRESS: at 10.10% examples, 401885 words/s, in_qsize 15, out_qsize 0\n",
            "2020-11-21 22:39:33,686 : INFO : EPOCH 25 - PROGRESS: at 15.19% examples, 406704 words/s, in_qsize 15, out_qsize 0\n",
            "2020-11-21 22:39:34,698 : INFO : EPOCH 25 - PROGRESS: at 19.84% examples, 399651 words/s, in_qsize 14, out_qsize 3\n",
            "2020-11-21 22:39:35,699 : INFO : EPOCH 25 - PROGRESS: at 25.15% examples, 406860 words/s, in_qsize 15, out_qsize 1\n",
            "2020-11-21 22:39:36,726 : INFO : EPOCH 25 - PROGRESS: at 30.45% examples, 409975 words/s, in_qsize 15, out_qsize 0\n",
            "2020-11-21 22:39:37,755 : INFO : EPOCH 25 - PROGRESS: at 35.64% examples, 410718 words/s, in_qsize 15, out_qsize 0\n",
            "2020-11-21 22:39:38,760 : INFO : EPOCH 25 - PROGRESS: at 41.16% examples, 415792 words/s, in_qsize 16, out_qsize 1\n",
            "2020-11-21 22:39:39,762 : INFO : EPOCH 25 - PROGRESS: at 46.46% examples, 417963 words/s, in_qsize 16, out_qsize 0\n",
            "2020-11-21 22:39:40,773 : INFO : EPOCH 25 - PROGRESS: at 51.43% examples, 416751 words/s, in_qsize 16, out_qsize 0\n",
            "2020-11-21 22:39:41,818 : INFO : EPOCH 25 - PROGRESS: at 56.29% examples, 413662 words/s, in_qsize 16, out_qsize 1\n",
            "2020-11-21 22:39:42,894 : INFO : EPOCH 25 - PROGRESS: at 61.50% examples, 412269 words/s, in_qsize 14, out_qsize 1\n",
            "2020-11-21 22:39:43,906 : INFO : EPOCH 25 - PROGRESS: at 66.91% examples, 414360 words/s, in_qsize 15, out_qsize 2\n",
            "2020-11-21 22:39:44,914 : INFO : EPOCH 25 - PROGRESS: at 72.10% examples, 415082 words/s, in_qsize 15, out_qsize 0\n",
            "2020-11-21 22:39:45,946 : INFO : EPOCH 25 - PROGRESS: at 77.53% examples, 416839 words/s, in_qsize 11, out_qsize 2\n",
            "2020-11-21 22:39:46,924 : INFO : EPOCH 25 - PROGRESS: at 82.74% examples, 417414 words/s, in_qsize 13, out_qsize 0\n",
            "2020-11-21 22:39:47,991 : INFO : EPOCH 25 - PROGRESS: at 87.94% examples, 416358 words/s, in_qsize 15, out_qsize 0\n",
            "2020-11-21 22:39:48,993 : INFO : EPOCH 25 - PROGRESS: at 93.05% examples, 416418 words/s, in_qsize 15, out_qsize 0\n",
            "2020-11-21 22:39:50,053 : INFO : EPOCH 25 - PROGRESS: at 98.36% examples, 416140 words/s, in_qsize 11, out_qsize 5\n",
            "2020-11-21 22:39:50,200 : INFO : worker thread finished; awaiting finish of 7 more threads\n",
            "2020-11-21 22:39:50,201 : INFO : worker thread finished; awaiting finish of 6 more threads\n",
            "2020-11-21 22:39:50,225 : INFO : worker thread finished; awaiting finish of 5 more threads\n",
            "2020-11-21 22:39:50,230 : INFO : worker thread finished; awaiting finish of 4 more threads\n",
            "2020-11-21 22:39:50,235 : INFO : worker thread finished; awaiting finish of 3 more threads\n",
            "2020-11-21 22:39:50,239 : INFO : worker thread finished; awaiting finish of 2 more threads\n",
            "2020-11-21 22:39:50,241 : INFO : worker thread finished; awaiting finish of 1 more threads\n",
            "2020-11-21 22:39:50,241 : INFO : worker thread finished; awaiting finish of 0 more threads\n",
            "2020-11-21 22:39:50,243 : INFO : EPOCH - 25 : training on 9227204 raw words (8221763 effective words) took 19.6s, 418980 effective words/s\n",
            "2020-11-21 22:39:51,281 : INFO : EPOCH 26 - PROGRESS: at 4.45% examples, 356890 words/s, in_qsize 10, out_qsize 5\n",
            "2020-11-21 22:39:52,338 : INFO : EPOCH 26 - PROGRESS: at 10.21% examples, 402727 words/s, in_qsize 16, out_qsize 0\n",
            "2020-11-21 22:39:53,345 : INFO : EPOCH 26 - PROGRESS: at 15.19% examples, 404064 words/s, in_qsize 16, out_qsize 0\n",
            "2020-11-21 22:39:54,385 : INFO : EPOCH 26 - PROGRESS: at 20.48% examples, 407913 words/s, in_qsize 15, out_qsize 0\n",
            "2020-11-21 22:39:55,413 : INFO : EPOCH 26 - PROGRESS: at 25.91% examples, 413090 words/s, in_qsize 16, out_qsize 0\n",
            "2020-11-21 22:39:56,424 : INFO : EPOCH 26 - PROGRESS: at 30.99% examples, 413293 words/s, in_qsize 15, out_qsize 0\n",
            "2020-11-21 22:39:57,440 : INFO : EPOCH 26 - PROGRESS: at 36.18% examples, 414338 words/s, in_qsize 15, out_qsize 0\n",
            "2020-11-21 22:39:58,470 : INFO : EPOCH 26 - PROGRESS: at 41.37% examples, 414375 words/s, in_qsize 15, out_qsize 0\n",
            "2020-11-21 22:39:59,510 : INFO : EPOCH 26 - PROGRESS: at 46.57% examples, 414008 words/s, in_qsize 15, out_qsize 0\n",
            "2020-11-21 22:40:00,518 : INFO : EPOCH 26 - PROGRESS: at 51.75% examples, 415083 words/s, in_qsize 15, out_qsize 0\n",
            "2020-11-21 22:40:01,542 : INFO : EPOCH 26 - PROGRESS: at 57.06% examples, 416125 words/s, in_qsize 15, out_qsize 0\n",
            "2020-11-21 22:40:02,556 : INFO : EPOCH 26 - PROGRESS: at 62.03% examples, 415113 words/s, in_qsize 15, out_qsize 1\n",
            "2020-11-21 22:40:03,579 : INFO : EPOCH 26 - PROGRESS: at 67.24% examples, 415322 words/s, in_qsize 15, out_qsize 0\n",
            "2020-11-21 22:40:04,582 : INFO : EPOCH 26 - PROGRESS: at 72.43% examples, 416098 words/s, in_qsize 14, out_qsize 3\n",
            "2020-11-21 22:40:05,596 : INFO : EPOCH 26 - PROGRESS: at 77.74% examples, 417008 words/s, in_qsize 16, out_qsize 1\n",
            "2020-11-21 22:40:06,627 : INFO : EPOCH 26 - PROGRESS: at 82.96% examples, 416887 words/s, in_qsize 15, out_qsize 1\n",
            "2020-11-21 22:40:07,675 : INFO : EPOCH 26 - PROGRESS: at 88.26% examples, 416853 words/s, in_qsize 15, out_qsize 0\n",
            "2020-11-21 22:40:08,800 : INFO : EPOCH 26 - PROGRESS: at 93.70% examples, 415554 words/s, in_qsize 14, out_qsize 6\n",
            "2020-11-21 22:40:09,794 : INFO : worker thread finished; awaiting finish of 7 more threads\n",
            "2020-11-21 22:40:09,796 : INFO : worker thread finished; awaiting finish of 6 more threads\n",
            "2020-11-21 22:40:09,797 : INFO : worker thread finished; awaiting finish of 5 more threads\n",
            "2020-11-21 22:40:09,812 : INFO : EPOCH 26 - PROGRESS: at 99.56% examples, 418686 words/s, in_qsize 4, out_qsize 1\n",
            "2020-11-21 22:40:09,814 : INFO : worker thread finished; awaiting finish of 4 more threads\n",
            "2020-11-21 22:40:09,837 : INFO : worker thread finished; awaiting finish of 3 more threads\n",
            "2020-11-21 22:40:09,861 : INFO : worker thread finished; awaiting finish of 2 more threads\n",
            "2020-11-21 22:40:09,868 : INFO : worker thread finished; awaiting finish of 1 more threads\n",
            "2020-11-21 22:40:09,876 : INFO : worker thread finished; awaiting finish of 0 more threads\n",
            "2020-11-21 22:40:09,877 : INFO : EPOCH - 26 : training on 9227204 raw words (8222787 effective words) took 19.6s, 419122 effective words/s\n",
            "2020-11-21 22:40:10,895 : INFO : EPOCH 27 - PROGRESS: at 4.45% examples, 363139 words/s, in_qsize 15, out_qsize 0\n",
            "2020-11-21 22:40:11,939 : INFO : EPOCH 27 - PROGRESS: at 9.66% examples, 386930 words/s, in_qsize 15, out_qsize 0\n",
            "2020-11-21 22:40:12,972 : INFO : EPOCH 27 - PROGRESS: at 15.08% examples, 401678 words/s, in_qsize 15, out_qsize 0\n",
            "2020-11-21 22:40:14,114 : INFO : EPOCH 27 - PROGRESS: at 20.48% examples, 401194 words/s, in_qsize 15, out_qsize 4\n",
            "2020-11-21 22:40:15,087 : INFO : EPOCH 27 - PROGRESS: at 25.80% examples, 407896 words/s, in_qsize 14, out_qsize 1\n",
            "2020-11-21 22:40:16,099 : INFO : EPOCH 27 - PROGRESS: at 30.89% examples, 408895 words/s, in_qsize 14, out_qsize 1\n",
            "2020-11-21 22:40:17,105 : INFO : EPOCH 27 - PROGRESS: at 36.18% examples, 412368 words/s, in_qsize 15, out_qsize 0\n",
            "2020-11-21 22:40:18,114 : INFO : EPOCH 27 - PROGRESS: at 41.16% examples, 411588 words/s, in_qsize 15, out_qsize 0\n",
            "2020-11-21 22:40:19,131 : INFO : EPOCH 27 - PROGRESS: at 46.24% examples, 411592 words/s, in_qsize 15, out_qsize 0\n",
            "2020-11-21 22:40:20,173 : INFO : EPOCH 27 - PROGRESS: at 51.32% examples, 410769 words/s, in_qsize 15, out_qsize 1\n",
            "2020-11-21 22:40:21,169 : INFO : EPOCH 27 - PROGRESS: at 56.40% examples, 411467 words/s, in_qsize 12, out_qsize 3\n",
            "2020-11-21 22:40:22,216 : INFO : EPOCH 27 - PROGRESS: at 61.82% examples, 412654 words/s, in_qsize 15, out_qsize 0\n",
            "2020-11-21 22:40:23,314 : INFO : EPOCH 27 - PROGRESS: at 67.34% examples, 412731 words/s, in_qsize 14, out_qsize 1\n",
            "2020-11-21 22:40:24,353 : INFO : EPOCH 27 - PROGRESS: at 72.75% examples, 413891 words/s, in_qsize 15, out_qsize 0\n",
            "2020-11-21 22:40:25,380 : INFO : EPOCH 27 - PROGRESS: at 77.75% examples, 412882 words/s, in_qsize 16, out_qsize 3\n",
            "2020-11-21 22:40:26,381 : INFO : EPOCH 27 - PROGRESS: at 83.07% examples, 414278 words/s, in_qsize 16, out_qsize 0\n",
            "2020-11-21 22:40:27,479 : INFO : EPOCH 27 - PROGRESS: at 88.59% examples, 414220 words/s, in_qsize 14, out_qsize 1\n",
            "2020-11-21 22:40:28,498 : INFO : EPOCH 27 - PROGRESS: at 93.81% examples, 414506 words/s, in_qsize 15, out_qsize 0\n",
            "2020-11-21 22:40:29,485 : INFO : worker thread finished; awaiting finish of 7 more threads\n",
            "2020-11-21 22:40:29,519 : INFO : EPOCH 27 - PROGRESS: at 99.44% examples, 416556 words/s, in_qsize 5, out_qsize 3\n",
            "2020-11-21 22:40:29,522 : INFO : worker thread finished; awaiting finish of 6 more threads\n",
            "2020-11-21 22:40:29,523 : INFO : worker thread finished; awaiting finish of 5 more threads\n",
            "2020-11-21 22:40:29,581 : INFO : worker thread finished; awaiting finish of 4 more threads\n",
            "2020-11-21 22:40:29,598 : INFO : worker thread finished; awaiting finish of 3 more threads\n",
            "2020-11-21 22:40:29,605 : INFO : worker thread finished; awaiting finish of 2 more threads\n",
            "2020-11-21 22:40:29,610 : INFO : worker thread finished; awaiting finish of 1 more threads\n",
            "2020-11-21 22:40:29,611 : INFO : worker thread finished; awaiting finish of 0 more threads\n",
            "2020-11-21 22:40:29,612 : INFO : EPOCH - 27 : training on 9227204 raw words (8222463 effective words) took 19.7s, 416888 effective words/s\n",
            "2020-11-21 22:40:30,635 : INFO : EPOCH 28 - PROGRESS: at 4.56% examples, 370869 words/s, in_qsize 14, out_qsize 2\n",
            "2020-11-21 22:40:31,657 : INFO : EPOCH 28 - PROGRESS: at 9.77% examples, 394915 words/s, in_qsize 15, out_qsize 0\n",
            "2020-11-21 22:40:32,661 : INFO : EPOCH 28 - PROGRESS: at 14.97% examples, 405153 words/s, in_qsize 16, out_qsize 0\n",
            "2020-11-21 22:40:33,672 : INFO : EPOCH 28 - PROGRESS: at 19.84% examples, 402902 words/s, in_qsize 15, out_qsize 3\n",
            "2020-11-21 22:40:34,723 : INFO : EPOCH 28 - PROGRESS: at 24.94% examples, 402091 words/s, in_qsize 13, out_qsize 5\n",
            "2020-11-21 22:40:35,725 : INFO : EPOCH 28 - PROGRESS: at 30.46% examples, 410547 words/s, in_qsize 15, out_qsize 0\n",
            "2020-11-21 22:40:36,738 : INFO : EPOCH 28 - PROGRESS: at 35.54% examples, 410935 words/s, in_qsize 15, out_qsize 0\n",
            "2020-11-21 22:40:37,782 : INFO : EPOCH 28 - PROGRESS: at 40.73% examples, 411509 words/s, in_qsize 15, out_qsize 1\n",
            "2020-11-21 22:40:38,880 : INFO : EPOCH 28 - PROGRESS: at 46.35% examples, 412046 words/s, in_qsize 15, out_qsize 0\n",
            "2020-11-21 22:40:39,956 : INFO : EPOCH 28 - PROGRESS: at 51.86% examples, 413129 words/s, in_qsize 15, out_qsize 0\n",
            "2020-11-21 22:40:41,029 : INFO : EPOCH 28 - PROGRESS: at 57.16% examples, 412552 words/s, in_qsize 15, out_qsize 0\n",
            "2020-11-21 22:40:42,041 : INFO : EPOCH 28 - PROGRESS: at 62.58% examples, 414811 words/s, in_qsize 15, out_qsize 0\n",
            "2020-11-21 22:40:43,043 : INFO : EPOCH 28 - PROGRESS: at 67.34% examples, 413026 words/s, in_qsize 15, out_qsize 1\n",
            "2020-11-21 22:40:44,045 : INFO : EPOCH 28 - PROGRESS: at 72.86% examples, 415812 words/s, in_qsize 16, out_qsize 0\n",
            "2020-11-21 22:40:45,052 : INFO : EPOCH 28 - PROGRESS: at 78.07% examples, 416387 words/s, in_qsize 15, out_qsize 0\n",
            "2020-11-21 22:40:46,074 : INFO : EPOCH 28 - PROGRESS: at 83.18% examples, 415993 words/s, in_qsize 15, out_qsize 0\n",
            "2020-11-21 22:40:47,149 : INFO : EPOCH 28 - PROGRESS: at 88.48% examples, 415370 words/s, in_qsize 15, out_qsize 0\n",
            "2020-11-21 22:40:48,160 : INFO : EPOCH 28 - PROGRESS: at 93.48% examples, 414805 words/s, in_qsize 15, out_qsize 0\n",
            "2020-11-21 22:40:49,186 : INFO : EPOCH 28 - PROGRESS: at 98.79% examples, 415371 words/s, in_qsize 12, out_qsize 0\n",
            "2020-11-21 22:40:49,271 : INFO : worker thread finished; awaiting finish of 7 more threads\n",
            "2020-11-21 22:40:49,281 : INFO : worker thread finished; awaiting finish of 6 more threads\n",
            "2020-11-21 22:40:49,283 : INFO : worker thread finished; awaiting finish of 5 more threads\n",
            "2020-11-21 22:40:49,294 : INFO : worker thread finished; awaiting finish of 4 more threads\n",
            "2020-11-21 22:40:49,310 : INFO : worker thread finished; awaiting finish of 3 more threads\n",
            "2020-11-21 22:40:49,333 : INFO : worker thread finished; awaiting finish of 2 more threads\n",
            "2020-11-21 22:40:49,343 : INFO : worker thread finished; awaiting finish of 1 more threads\n",
            "2020-11-21 22:40:49,345 : INFO : worker thread finished; awaiting finish of 0 more threads\n",
            "2020-11-21 22:40:49,346 : INFO : EPOCH - 28 : training on 9227204 raw words (8223309 effective words) took 19.7s, 417016 effective words/s\n",
            "2020-11-21 22:40:50,430 : INFO : EPOCH 29 - PROGRESS: at 4.99% examples, 382268 words/s, in_qsize 15, out_qsize 0\n",
            "2020-11-21 22:40:51,446 : INFO : EPOCH 29 - PROGRESS: at 9.99% examples, 392773 words/s, in_qsize 15, out_qsize 0\n",
            "2020-11-21 22:40:52,482 : INFO : EPOCH 29 - PROGRESS: at 15.19% examples, 399290 words/s, in_qsize 15, out_qsize 0\n",
            "2020-11-21 22:40:53,498 : INFO : EPOCH 29 - PROGRESS: at 20.59% examples, 408734 words/s, in_qsize 15, out_qsize 0\n",
            "2020-11-21 22:40:54,504 : INFO : EPOCH 29 - PROGRESS: at 25.59% examples, 408519 words/s, in_qsize 15, out_qsize 0\n",
            "2020-11-21 22:40:55,544 : INFO : EPOCH 29 - PROGRESS: at 30.99% examples, 411946 words/s, in_qsize 15, out_qsize 0\n",
            "2020-11-21 22:40:56,589 : INFO : EPOCH 29 - PROGRESS: at 36.18% examples, 411536 words/s, in_qsize 15, out_qsize 0\n",
            "2020-11-21 22:40:57,599 : INFO : EPOCH 29 - PROGRESS: at 41.59% examples, 415114 words/s, in_qsize 14, out_qsize 1\n",
            "2020-11-21 22:40:58,636 : INFO : EPOCH 29 - PROGRESS: at 46.57% examples, 412890 words/s, in_qsize 15, out_qsize 0\n",
            "2020-11-21 22:40:59,645 : INFO : EPOCH 29 - PROGRESS: at 51.64% examples, 413137 words/s, in_qsize 15, out_qsize 0\n",
            "2020-11-21 22:41:00,682 : INFO : EPOCH 29 - PROGRESS: at 56.95% examples, 414603 words/s, in_qsize 16, out_qsize 1\n",
            "2020-11-21 22:41:01,726 : INFO : EPOCH 29 - PROGRESS: at 62.14% examples, 413488 words/s, in_qsize 15, out_qsize 0\n",
            "2020-11-21 22:41:02,764 : INFO : EPOCH 29 - PROGRESS: at 67.23% examples, 412697 words/s, in_qsize 14, out_qsize 1\n",
            "2020-11-21 22:41:03,768 : INFO : EPOCH 29 - PROGRESS: at 72.64% examples, 414860 words/s, in_qsize 15, out_qsize 0\n",
            "2020-11-21 22:41:04,776 : INFO : EPOCH 29 - PROGRESS: at 77.64% examples, 414294 words/s, in_qsize 15, out_qsize 0\n",
            "2020-11-21 22:41:05,817 : INFO : EPOCH 29 - PROGRESS: at 82.74% examples, 413505 words/s, in_qsize 15, out_qsize 0\n",
            "2020-11-21 22:41:06,818 : INFO : EPOCH 29 - PROGRESS: at 87.94% examples, 414278 words/s, in_qsize 15, out_qsize 0\n",
            "2020-11-21 22:41:07,874 : INFO : EPOCH 29 - PROGRESS: at 93.48% examples, 415175 words/s, in_qsize 15, out_qsize 0\n",
            "2020-11-21 22:41:08,910 : INFO : EPOCH 29 - PROGRESS: at 98.58% examples, 414559 words/s, in_qsize 9, out_qsize 5\n",
            "2020-11-21 22:41:08,952 : INFO : worker thread finished; awaiting finish of 7 more threads\n",
            "2020-11-21 22:41:08,965 : INFO : worker thread finished; awaiting finish of 6 more threads\n",
            "2020-11-21 22:41:09,026 : INFO : worker thread finished; awaiting finish of 5 more threads\n",
            "2020-11-21 22:41:09,040 : INFO : worker thread finished; awaiting finish of 4 more threads\n",
            "2020-11-21 22:41:09,054 : INFO : worker thread finished; awaiting finish of 3 more threads\n",
            "2020-11-21 22:41:09,056 : INFO : worker thread finished; awaiting finish of 2 more threads\n",
            "2020-11-21 22:41:09,060 : INFO : worker thread finished; awaiting finish of 1 more threads\n",
            "2020-11-21 22:41:09,061 : INFO : worker thread finished; awaiting finish of 0 more threads\n",
            "2020-11-21 22:41:09,062 : INFO : EPOCH - 29 : training on 9227204 raw words (8222271 effective words) took 19.7s, 417291 effective words/s\n",
            "2020-11-21 22:41:10,079 : INFO : EPOCH 30 - PROGRESS: at 4.45% examples, 364744 words/s, in_qsize 15, out_qsize 0\n",
            "2020-11-21 22:41:11,091 : INFO : EPOCH 30 - PROGRESS: at 9.88% examples, 402703 words/s, in_qsize 16, out_qsize 2\n",
            "2020-11-21 22:41:12,101 : INFO : EPOCH 30 - PROGRESS: at 14.76% examples, 400740 words/s, in_qsize 16, out_qsize 1\n",
            "2020-11-21 22:41:13,133 : INFO : EPOCH 30 - PROGRESS: at 19.95% examples, 404130 words/s, in_qsize 13, out_qsize 2\n",
            "2020-11-21 22:41:14,187 : INFO : EPOCH 30 - PROGRESS: at 25.69% examples, 413183 words/s, in_qsize 15, out_qsize 0\n",
            "2020-11-21 22:41:15,207 : INFO : EPOCH 30 - PROGRESS: at 31.10% examples, 417121 words/s, in_qsize 15, out_qsize 0\n",
            "2020-11-21 22:41:16,274 : INFO : EPOCH 30 - PROGRESS: at 36.51% examples, 417170 words/s, in_qsize 15, out_qsize 0\n",
            "2020-11-21 22:41:17,277 : INFO : EPOCH 30 - PROGRESS: at 41.81% examples, 419337 words/s, in_qsize 15, out_qsize 0\n",
            "2020-11-21 22:41:18,381 : INFO : EPOCH 30 - PROGRESS: at 47.00% examples, 415552 words/s, in_qsize 13, out_qsize 4\n",
            "2020-11-21 22:41:19,398 : INFO : EPOCH 30 - PROGRESS: at 52.29% examples, 416915 words/s, in_qsize 15, out_qsize 0\n",
            "2020-11-21 22:41:20,486 : INFO : EPOCH 30 - PROGRESS: at 57.71% examples, 416208 words/s, in_qsize 12, out_qsize 6\n",
            "2020-11-21 22:41:21,499 : INFO : EPOCH 30 - PROGRESS: at 63.33% examples, 419562 words/s, in_qsize 16, out_qsize 0\n",
            "2020-11-21 22:41:22,520 : INFO : EPOCH 30 - PROGRESS: at 68.53% examples, 419493 words/s, in_qsize 15, out_qsize 0\n",
            "2020-11-21 22:41:23,568 : INFO : EPOCH 30 - PROGRESS: at 73.83% examples, 419247 words/s, in_qsize 15, out_qsize 0\n",
            "2020-11-21 22:41:24,577 : INFO : EPOCH 30 - PROGRESS: at 79.27% examples, 420683 words/s, in_qsize 15, out_qsize 0\n",
            "2020-11-21 22:41:25,646 : INFO : EPOCH 30 - PROGRESS: at 84.47% examples, 419345 words/s, in_qsize 15, out_qsize 0\n",
            "2020-11-21 22:41:26,664 : INFO : EPOCH 30 - PROGRESS: at 90.00% examples, 420882 words/s, in_qsize 15, out_qsize 0\n",
            "2020-11-21 22:41:27,714 : INFO : EPOCH 30 - PROGRESS: at 95.23% examples, 420085 words/s, in_qsize 16, out_qsize 1\n",
            "2020-11-21 22:41:28,483 : INFO : worker thread finished; awaiting finish of 7 more threads\n",
            "2020-11-21 22:41:28,501 : INFO : worker thread finished; awaiting finish of 6 more threads\n",
            "2020-11-21 22:41:28,508 : INFO : worker thread finished; awaiting finish of 5 more threads\n",
            "2020-11-21 22:41:28,511 : INFO : worker thread finished; awaiting finish of 4 more threads\n",
            "2020-11-21 22:41:28,512 : INFO : worker thread finished; awaiting finish of 3 more threads\n",
            "2020-11-21 22:41:28,514 : INFO : worker thread finished; awaiting finish of 2 more threads\n",
            "2020-11-21 22:41:28,525 : INFO : worker thread finished; awaiting finish of 1 more threads\n",
            "2020-11-21 22:41:28,538 : INFO : worker thread finished; awaiting finish of 0 more threads\n",
            "2020-11-21 22:41:28,539 : INFO : EPOCH - 30 : training on 9227204 raw words (8221456 effective words) took 19.5s, 422454 effective words/s\n",
            "2020-11-21 22:41:29,655 : INFO : EPOCH 31 - PROGRESS: at 4.67% examples, 346253 words/s, in_qsize 15, out_qsize 7\n",
            "2020-11-21 22:41:30,684 : INFO : EPOCH 31 - PROGRESS: at 10.42% examples, 400637 words/s, in_qsize 15, out_qsize 0\n",
            "2020-11-21 22:41:31,706 : INFO : EPOCH 31 - PROGRESS: at 15.19% examples, 395016 words/s, in_qsize 13, out_qsize 2\n",
            "2020-11-21 22:41:32,716 : INFO : EPOCH 31 - PROGRESS: at 20.70% examples, 408284 words/s, in_qsize 14, out_qsize 1\n",
            "2020-11-21 22:41:33,725 : INFO : EPOCH 31 - PROGRESS: at 25.80% examples, 409664 words/s, in_qsize 14, out_qsize 1\n",
            "2020-11-21 22:41:34,738 : INFO : EPOCH 31 - PROGRESS: at 30.67% examples, 407384 words/s, in_qsize 15, out_qsize 0\n",
            "2020-11-21 22:41:35,746 : INFO : EPOCH 31 - PROGRESS: at 35.75% examples, 408468 words/s, in_qsize 15, out_qsize 0\n",
            "2020-11-21 22:41:36,755 : INFO : EPOCH 31 - PROGRESS: at 41.16% examples, 412508 words/s, in_qsize 15, out_qsize 0\n",
            "2020-11-21 22:41:37,782 : INFO : EPOCH 31 - PROGRESS: at 46.24% examples, 411977 words/s, in_qsize 15, out_qsize 0\n",
            "2020-11-21 22:41:38,789 : INFO : EPOCH 31 - PROGRESS: at 51.10% examples, 410622 words/s, in_qsize 16, out_qsize 1\n",
            "2020-11-21 22:41:39,832 : INFO : EPOCH 31 - PROGRESS: at 56.19% examples, 409780 words/s, in_qsize 15, out_qsize 0\n",
            "2020-11-21 22:41:40,874 : INFO : EPOCH 31 - PROGRESS: at 61.28% examples, 409767 words/s, in_qsize 15, out_qsize 2\n",
            "2020-11-21 22:41:41,870 : INFO : EPOCH 31 - PROGRESS: at 66.37% examples, 409929 words/s, in_qsize 14, out_qsize 1\n",
            "2020-11-21 22:41:42,983 : INFO : EPOCH 31 - PROGRESS: at 71.56% examples, 407950 words/s, in_qsize 15, out_qsize 0\n",
            "2020-11-21 22:41:44,055 : INFO : EPOCH 31 - PROGRESS: at 76.98% examples, 408452 words/s, in_qsize 16, out_qsize 1\n",
            "2020-11-21 22:41:45,060 : INFO : EPOCH 31 - PROGRESS: at 82.31% examples, 410018 words/s, in_qsize 16, out_qsize 0\n",
            "2020-11-21 22:41:46,071 : INFO : EPOCH 31 - PROGRESS: at 87.29% examples, 409737 words/s, in_qsize 12, out_qsize 3\n",
            "2020-11-21 22:41:47,092 : INFO : EPOCH 31 - PROGRESS: at 92.28% examples, 409272 words/s, in_qsize 11, out_qsize 4\n",
            "2020-11-21 22:41:48,099 : INFO : EPOCH 31 - PROGRESS: at 97.50% examples, 410047 words/s, in_qsize 15, out_qsize 0\n",
            "2020-11-21 22:41:48,387 : INFO : worker thread finished; awaiting finish of 7 more threads\n",
            "2020-11-21 22:41:48,415 : INFO : worker thread finished; awaiting finish of 6 more threads\n",
            "2020-11-21 22:41:48,426 : INFO : worker thread finished; awaiting finish of 5 more threads\n",
            "2020-11-21 22:41:48,447 : INFO : worker thread finished; awaiting finish of 4 more threads\n",
            "2020-11-21 22:41:48,463 : INFO : worker thread finished; awaiting finish of 3 more threads\n",
            "2020-11-21 22:41:48,468 : INFO : worker thread finished; awaiting finish of 2 more threads\n",
            "2020-11-21 22:41:48,475 : INFO : worker thread finished; awaiting finish of 1 more threads\n",
            "2020-11-21 22:41:48,479 : INFO : worker thread finished; awaiting finish of 0 more threads\n",
            "2020-11-21 22:41:48,480 : INFO : EPOCH - 31 : training on 9227204 raw words (8221870 effective words) took 19.9s, 412537 effective words/s\n",
            "2020-11-21 22:41:49,528 : INFO : EPOCH 32 - PROGRESS: at 4.56% examples, 361433 words/s, in_qsize 14, out_qsize 1\n",
            "2020-11-21 22:41:50,533 : INFO : EPOCH 32 - PROGRESS: at 9.77% examples, 393075 words/s, in_qsize 16, out_qsize 0\n",
            "2020-11-21 22:41:51,552 : INFO : EPOCH 32 - PROGRESS: at 14.86% examples, 398899 words/s, in_qsize 15, out_qsize 0\n",
            "2020-11-21 22:41:52,553 : INFO : EPOCH 32 - PROGRESS: at 20.05% examples, 405855 words/s, in_qsize 15, out_qsize 0\n",
            "2020-11-21 22:41:53,554 : INFO : EPOCH 32 - PROGRESS: at 25.37% examples, 411843 words/s, in_qsize 15, out_qsize 0\n",
            "2020-11-21 22:41:54,569 : INFO : EPOCH 32 - PROGRESS: at 29.91% examples, 404661 words/s, in_qsize 16, out_qsize 2\n",
            "2020-11-21 22:41:55,607 : INFO : EPOCH 32 - PROGRESS: at 35.64% examples, 411953 words/s, in_qsize 16, out_qsize 0\n",
            "2020-11-21 22:41:56,621 : INFO : EPOCH 32 - PROGRESS: at 40.18% examples, 406593 words/s, in_qsize 14, out_qsize 5\n",
            "2020-11-21 22:41:57,627 : INFO : EPOCH 32 - PROGRESS: at 45.38% examples, 408606 words/s, in_qsize 13, out_qsize 3\n",
            "2020-11-21 22:41:58,662 : INFO : EPOCH 32 - PROGRESS: at 50.56% examples, 409068 words/s, in_qsize 11, out_qsize 4\n",
            "2020-11-21 22:41:59,665 : INFO : EPOCH 32 - PROGRESS: at 56.08% examples, 413021 words/s, in_qsize 14, out_qsize 1\n",
            "2020-11-21 22:42:00,696 : INFO : EPOCH 32 - PROGRESS: at 61.07% examples, 411723 words/s, in_qsize 14, out_qsize 1\n",
            "2020-11-21 22:42:01,702 : INFO : EPOCH 32 - PROGRESS: at 66.26% examples, 412734 words/s, in_qsize 15, out_qsize 0\n",
            "2020-11-21 22:42:02,803 : INFO : EPOCH 32 - PROGRESS: at 71.46% examples, 410864 words/s, in_qsize 15, out_qsize 1\n",
            "2020-11-21 22:42:03,810 : INFO : EPOCH 32 - PROGRESS: at 77.20% examples, 414641 words/s, in_qsize 14, out_qsize 0\n",
            "2020-11-21 22:42:04,860 : INFO : EPOCH 32 - PROGRESS: at 81.99% examples, 412000 words/s, in_qsize 15, out_qsize 1\n",
            "2020-11-21 22:42:05,930 : INFO : EPOCH 32 - PROGRESS: at 87.51% examples, 412763 words/s, in_qsize 15, out_qsize 0\n",
            "2020-11-21 22:42:06,930 : INFO : EPOCH 32 - PROGRESS: at 92.72% examples, 413542 words/s, in_qsize 15, out_qsize 0\n",
            "2020-11-21 22:42:07,931 : INFO : EPOCH 32 - PROGRESS: at 97.82% examples, 413774 words/s, in_qsize 16, out_qsize 1\n",
            "2020-11-21 22:42:08,211 : INFO : worker thread finished; awaiting finish of 7 more threads\n",
            "2020-11-21 22:42:08,217 : INFO : worker thread finished; awaiting finish of 6 more threads\n",
            "2020-11-21 22:42:08,269 : INFO : worker thread finished; awaiting finish of 5 more threads\n",
            "2020-11-21 22:42:08,272 : INFO : worker thread finished; awaiting finish of 4 more threads\n",
            "2020-11-21 22:42:08,279 : INFO : worker thread finished; awaiting finish of 3 more threads\n",
            "2020-11-21 22:42:08,280 : INFO : worker thread finished; awaiting finish of 2 more threads\n",
            "2020-11-21 22:42:08,289 : INFO : worker thread finished; awaiting finish of 1 more threads\n",
            "2020-11-21 22:42:08,294 : INFO : worker thread finished; awaiting finish of 0 more threads\n",
            "2020-11-21 22:42:08,294 : INFO : EPOCH - 32 : training on 9227204 raw words (8222200 effective words) took 19.8s, 415230 effective words/s\n",
            "2020-11-21 22:42:08,295 : INFO : training on a 295270528 raw words (263120780 effective words) took 623.0s, 422356 effective words/s\n"
          ],
          "name": "stderr"
        },
        {
          "output_type": "stream",
          "text": [
            "CPU times: user 20min 9s, sys: 4.5 s, total: 20min 14s\n",
            "Wall time: 10min 22s\n"
          ],
          "name": "stdout"
        },
        {
          "output_type": "execute_result",
          "data": {
            "text/plain": [
              "(263120780, 295270528)"
            ]
          },
          "metadata": {
            "tags": []
          },
          "execution_count": 31
        }
      ]
    },
    {
      "cell_type": "code",
      "metadata": {
        "trusted": true,
        "_uuid": "27cc2651c74227115d8bfd8c40e5618048e05edd",
        "colab": {
          "base_uri": "https://localhost:8080/"
        },
        "id": "_z3CZKus2COn",
        "outputId": "32efdb7b-e82a-44ed-8995-0ae91e5ac655"
      },
      "source": [
        "w2v_model.most_similar(\"love\")"
      ],
      "execution_count": 37,
      "outputs": [
        {
          "output_type": "stream",
          "text": [
            "/usr/local/lib/python3.6/dist-packages/ipykernel_launcher.py:1: DeprecationWarning: Call to deprecated `most_similar` (Method will be removed in 4.0.0, use self.wv.most_similar() instead).\n",
            "  \"\"\"Entry point for launching an IPython kernel.\n"
          ],
          "name": "stderr"
        },
        {
          "output_type": "execute_result",
          "data": {
            "text/plain": [
              "[('luv', 0.5755434036254883),\n",
              " ('loves', 0.5592329502105713),\n",
              " ('loved', 0.5340205430984497),\n",
              " ('adore', 0.5216896533966064),\n",
              " ('amazing', 0.49476635456085205),\n",
              " ('looove', 0.47774532437324524),\n",
              " ('loveee', 0.4584970474243164),\n",
              " ('loooove', 0.4564161002635956),\n",
              " ('awesome', 0.4544089436531067),\n",
              " ('lovee', 0.4486658573150635)]"
            ]
          },
          "metadata": {
            "tags": []
          },
          "execution_count": 37
        }
      ]
    },
    {
      "cell_type": "code",
      "metadata": {
        "colab": {
          "base_uri": "https://localhost:8080/"
        },
        "id": "zvodsCu9-dDz",
        "outputId": "b0c3d53d-547b-4ebb-af34-06fb3503d77c"
      },
      "source": [
        "# w2v_model.similarity('love', 'luv')"
      ],
      "execution_count": 38,
      "outputs": [
        {
          "output_type": "stream",
          "text": [
            "/usr/local/lib/python3.6/dist-packages/ipykernel_launcher.py:1: DeprecationWarning: Call to deprecated `similarity` (Method will be removed in 4.0.0, use self.wv.similarity() instead).\n",
            "  \"\"\"Entry point for launching an IPython kernel.\n"
          ],
          "name": "stderr"
        },
        {
          "output_type": "execute_result",
          "data": {
            "text/plain": [
              "0.57554334"
            ]
          },
          "metadata": {
            "tags": []
          },
          "execution_count": 38
        }
      ]
    },
    {
      "cell_type": "markdown",
      "metadata": {
        "_uuid": "e13563644468037258598637b49373ca96b9b879",
        "id": "tx_3hait2COn"
      },
      "source": [
        "### Tokenize Text"
      ]
    },
    {
      "cell_type": "code",
      "metadata": {
        "trusted": true,
        "_uuid": "6852bc709a7cd20173cbeeb218505078f8f37c57",
        "colab": {
          "base_uri": "https://localhost:8080/"
        },
        "id": "utIKWnsp2COn",
        "outputId": "2dec2017-1c05-44eb-e00c-4db4707d881f"
      },
      "source": [
        "%%time\n",
        "tokenizer = Tokenizer()\n",
        "tokenizer.fit_on_texts(df_train.text)\n",
        "\n",
        "vocab_size = len(tokenizer.word_index) + 1\n",
        "print(\"Total words\", vocab_size)"
      ],
      "execution_count": 39,
      "outputs": [
        {
          "output_type": "stream",
          "text": [
            "Total words 290419\n",
            "CPU times: user 14.9 s, sys: 90.9 ms, total: 15 s\n",
            "Wall time: 15 s\n"
          ],
          "name": "stdout"
        }
      ]
    },
    {
      "cell_type": "code",
      "metadata": {
        "trusted": true,
        "_uuid": "45de439df3015030c71f84c2d170346936a1d68f",
        "colab": {
          "base_uri": "https://localhost:8080/"
        },
        "id": "UOz5qtkc2COn",
        "outputId": "aa51c4ee-38ce-41ec-a31b-c7ff18be49c3"
      },
      "source": [
        "%%time\n",
        "x_train = pad_sequences(tokenizer.texts_to_sequences(df_train.text), maxlen=SEQUENCE_LENGTH)\n",
        "x_test = pad_sequences(tokenizer.texts_to_sequences(df_test.text), maxlen=SEQUENCE_LENGTH)"
      ],
      "execution_count": 40,
      "outputs": [
        {
          "output_type": "stream",
          "text": [
            "CPU times: user 23.1 s, sys: 479 ms, total: 23.6 s\n",
            "Wall time: 23.6 s\n"
          ],
          "name": "stdout"
        }
      ]
    },
    {
      "cell_type": "markdown",
      "metadata": {
        "_uuid": "03b35903fc6260e190d6928d240ef7432de117fc",
        "id": "kHGXBYmO2COn"
      },
      "source": [
        "### Label Encoder "
      ]
    },
    {
      "cell_type": "code",
      "metadata": {
        "trusted": true,
        "_uuid": "33676e0efa39e97d89bd650b8b4eae933a22fbf0",
        "colab": {
          "base_uri": "https://localhost:8080/"
        },
        "id": "Ccg0LjuH2COn",
        "outputId": "9764888b-d546-4d6b-d523-8d24c826ffad"
      },
      "source": [
        "labels = df_train.target.unique().tolist()\n",
        "labels.append(NEUTRAL)\n",
        "labels"
      ],
      "execution_count": 41,
      "outputs": [
        {
          "output_type": "execute_result",
          "data": {
            "text/plain": [
              "['POSITIVE', 'NEGATIVE', 'NEUTRAL']"
            ]
          },
          "metadata": {
            "tags": []
          },
          "execution_count": 41
        }
      ]
    },
    {
      "cell_type": "code",
      "metadata": {
        "trusted": true,
        "_uuid": "04239a9bef76e7922fd86098a5601dfde8ee4665",
        "colab": {
          "base_uri": "https://localhost:8080/"
        },
        "id": "OyQm7G0b2COn",
        "outputId": "3813b5cb-ec08-4263-e38a-83f4ab3f80bf"
      },
      "source": [
        "encoder = LabelEncoder()\n",
        "encoder.fit(df_train.target.tolist())\n",
        "\n",
        "y_train = encoder.transform(df_train.target.tolist())\n",
        "y_test = encoder.transform(df_test.target.tolist())\n",
        "\n",
        "y_train = y_train.reshape(-1,1)\n",
        "y_test = y_test.reshape(-1,1)\n",
        "\n",
        "print(\"y_train\",y_train.shape)\n",
        "print(\"y_test\",y_test.shape)"
      ],
      "execution_count": 42,
      "outputs": [
        {
          "output_type": "stream",
          "text": [
            "[1 1 1 ... 0 0 0]\n",
            "[[1]\n",
            " [1]\n",
            " [1]\n",
            " ...\n",
            " [0]\n",
            " [0]\n",
            " [0]]\n",
            "y_train (1280000, 1)\n",
            "y_test (320000, 1)\n"
          ],
          "name": "stdout"
        }
      ]
    },
    {
      "cell_type": "code",
      "metadata": {
        "trusted": true,
        "_uuid": "04299c886911ca135583ab64878f213939a2990c",
        "colab": {
          "base_uri": "https://localhost:8080/"
        },
        "id": "leimjZMh2COn",
        "outputId": "5c153ef3-41b9-4d12-95a8-ba2ed7c1b9ce"
      },
      "source": [
        "print(\"x_train\", x_train.shape)\n",
        "print(\"y_train\", y_train.shape)\n",
        "print()\n",
        "print(\"x_test\", x_test.shape)\n",
        "print(\"y_test\", y_test.shape)"
      ],
      "execution_count": 43,
      "outputs": [
        {
          "output_type": "stream",
          "text": [
            "x_train (1280000, 300)\n",
            "y_train (1280000, 1)\n",
            "\n",
            "x_test (320000, 300)\n",
            "y_test (320000, 1)\n"
          ],
          "name": "stdout"
        }
      ]
    },
    {
      "cell_type": "code",
      "metadata": {
        "trusted": true,
        "_uuid": "232533fb27b7be99d9b8c2f8fb22c9c6bf121a6f",
        "colab": {
          "base_uri": "https://localhost:8080/"
        },
        "id": "Xx8ezG-B2COn",
        "outputId": "9c52bd05-18fd-4551-8a6f-f5d9a90e2578"
      },
      "source": [
        "y_train[:10]"
      ],
      "execution_count": 44,
      "outputs": [
        {
          "output_type": "execute_result",
          "data": {
            "text/plain": [
              "array([[1],\n",
              "       [1],\n",
              "       [1],\n",
              "       [0],\n",
              "       [1],\n",
              "       [1],\n",
              "       [1],\n",
              "       [1],\n",
              "       [1],\n",
              "       [1]])"
            ]
          },
          "metadata": {
            "tags": []
          },
          "execution_count": 44
        }
      ]
    },
    {
      "cell_type": "markdown",
      "metadata": {
        "_uuid": "233c0ea94055a03e2e7df3e2a13d036ec963484f",
        "id": "Fw14groY2COn"
      },
      "source": [
        "### Embedding layer"
      ]
    },
    {
      "cell_type": "code",
      "metadata": {
        "trusted": true,
        "_uuid": "9ab488374b59e3f30f8b1ea92767d853c4846bac",
        "colab": {
          "base_uri": "https://localhost:8080/"
        },
        "id": "gLgqDlrv2COn",
        "outputId": "a9016bfd-a8e1-4b99-f21d-a03a5fc616c2"
      },
      "source": [
        "embedding_matrix = np.zeros((vocab_size, W2V_SIZE))\n",
        "for word, i in tokenizer.word_index.items():\n",
        "  if word in w2v_model.wv:\n",
        "    embedding_matrix[i] = w2v_model.wv[word]\n",
        "print(embedding_matrix.shape)"
      ],
      "execution_count": 45,
      "outputs": [
        {
          "output_type": "stream",
          "text": [
            "(290419, 300)\n"
          ],
          "name": "stdout"
        }
      ]
    },
    {
      "cell_type": "code",
      "metadata": {
        "trusted": true,
        "_uuid": "833279d91e4286065968237fb5f2a0c2dd4d246c",
        "id": "G8pRjzPe2COn"
      },
      "source": [
        "embedding_layer = Embedding(vocab_size, W2V_SIZE, weights=[embedding_matrix], input_length=SEQUENCE_LENGTH, trainable=False)"
      ],
      "execution_count": 46,
      "outputs": []
    },
    {
      "cell_type": "markdown",
      "metadata": {
        "_uuid": "b299ef78f94c2085942c993a2d58753a7476305a",
        "id": "agCOBTq82COn"
      },
      "source": [
        "### Build Model"
      ]
    },
    {
      "cell_type": "code",
      "metadata": {
        "trusted": true,
        "_uuid": "e775ef4f1b74e6412457181383c39f2df554ef3f",
        "colab": {
          "base_uri": "https://localhost:8080/"
        },
        "id": "IllB9uEs2COn",
        "outputId": "c8a144d3-1681-4774-e94b-3e661e5b60dc"
      },
      "source": [
        "model = Sequential()\n",
        "model.add(embedding_layer)\n",
        "model.add(Dropout(0.5))\n",
        "model.add(LSTM(100, dropout=0.2, recurrent_dropout=0.2))\n",
        "model.add(Dense(1, activation='sigmoid'))\n",
        "\n",
        "model.summary()"
      ],
      "execution_count": 47,
      "outputs": [
        {
          "output_type": "stream",
          "text": [
            "WARNING:tensorflow:Layer lstm will not use cuDNN kernel since it doesn't meet the cuDNN kernel criteria. It will use generic GPU kernel as fallback when running on GPU\n"
          ],
          "name": "stdout"
        },
        {
          "output_type": "stream",
          "text": [
            "2020-11-21 22:54:01,466 : WARNING : Layer lstm will not use cuDNN kernel since it doesn't meet the cuDNN kernel criteria. It will use generic GPU kernel as fallback when running on GPU\n"
          ],
          "name": "stderr"
        },
        {
          "output_type": "stream",
          "text": [
            "Model: \"sequential\"\n",
            "_________________________________________________________________\n",
            "Layer (type)                 Output Shape              Param #   \n",
            "=================================================================\n",
            "embedding (Embedding)        (None, 300, 300)          87125700  \n",
            "_________________________________________________________________\n",
            "dropout (Dropout)            (None, 300, 300)          0         \n",
            "_________________________________________________________________\n",
            "lstm (LSTM)                  (None, 100)               160400    \n",
            "_________________________________________________________________\n",
            "dense (Dense)                (None, 1)                 101       \n",
            "=================================================================\n",
            "Total params: 87,286,201\n",
            "Trainable params: 160,501\n",
            "Non-trainable params: 87,125,700\n",
            "_________________________________________________________________\n"
          ],
          "name": "stdout"
        }
      ]
    },
    {
      "cell_type": "markdown",
      "metadata": {
        "_uuid": "28d22eafd0c7d798dcf3d742bc92fb8577939e6c",
        "id": "nPTTRUNh2COn"
      },
      "source": [
        "### Compile model"
      ]
    },
    {
      "cell_type": "code",
      "metadata": {
        "trusted": true,
        "_uuid": "1331e08d590bb2aa2033706c8faca217afc0f1c3",
        "id": "sWSGQuJ12COn"
      },
      "source": [
        "model.compile(loss='binary_crossentropy',\n",
        "              optimizer=\"adam\",\n",
        "              metrics=['accuracy'])"
      ],
      "execution_count": 48,
      "outputs": []
    },
    {
      "cell_type": "markdown",
      "metadata": {
        "_uuid": "c7733127cb8b380e0c807268903bf4d03ef92542",
        "id": "oNEGcddB2COn"
      },
      "source": [
        "### Callbacks"
      ]
    },
    {
      "cell_type": "code",
      "metadata": {
        "trusted": true,
        "_uuid": "a688df590386f5748da6fe00b01904fe6c71619e",
        "id": "-XjVkeLh2COn"
      },
      "source": [
        "callbacks = [ ReduceLROnPlateau(monitor='val_loss', patience=5, cooldown=0),\n",
        "              EarlyStopping(monitor='val_acc', min_delta=1e-4, patience=5)]"
      ],
      "execution_count": 49,
      "outputs": []
    },
    {
      "cell_type": "markdown",
      "metadata": {
        "_uuid": "8d0873633dd49179c8cae17377641b97d323ef3b",
        "id": "JZlTLnJS2COn"
      },
      "source": [
        "### Train"
      ]
    },
    {
      "cell_type": "code",
      "metadata": {
        "trusted": true,
        "_uuid": "2b659d390c6577dc5cdb6b6297934279b4e801d5",
        "colab": {
          "base_uri": "https://localhost:8080/"
        },
        "id": "U_bjVlVS2COo",
        "outputId": "dc19a781-7115-4f9b-926e-afcd4aaccd04"
      },
      "source": [
        "%%time\n",
        "history = model.fit(x_train, y_train,\n",
        "                    batch_size=BATCH_SIZE,\n",
        "                    epochs=EPOCHS,\n",
        "                    validation_split=0.1,\n",
        "                    verbose=1,\n",
        "                    callbacks=callbacks)"
      ],
      "execution_count": null,
      "outputs": [
        {
          "output_type": "stream",
          "text": [
            "Epoch 1/8\n",
            " 468/1125 [===========>..................] - ETA: 5:50 - loss: 0.5234 - accuracy: 0.7361"
          ],
          "name": "stdout"
        }
      ]
    },
    {
      "cell_type": "markdown",
      "metadata": {
        "_uuid": "267258196d96796ac69a7b8c466314bcf5d6ee42",
        "id": "HsvJnOko2COo"
      },
      "source": [
        "### Evaluate"
      ]
    },
    {
      "cell_type": "code",
      "metadata": {
        "trusted": true,
        "_uuid": "98ecd8f1b8b74594c3ea775dd68a094e92458022",
        "id": "Um59zuqy2COo"
      },
      "source": [
        "%%time\n",
        "score = model.evaluate(x_test, y_test, batch_size=BATCH_SIZE)\n",
        "print()\n",
        "print(\"ACCURACY:\",score[1])\n",
        "print(\"LOSS:\",score[0])"
      ],
      "execution_count": null,
      "outputs": []
    },
    {
      "cell_type": "code",
      "metadata": {
        "trusted": true,
        "_uuid": "40c72cd1e9d6c4fd799cbba7c813765ac4039dfc",
        "id": "lmbeCnBT2COo"
      },
      "source": [
        "acc = history.history['acc']\n",
        "val_acc = history.history['val_acc']\n",
        "loss = history.history['loss']\n",
        "val_loss = history.history['val_loss']\n",
        " \n",
        "epochs = range(len(acc))\n",
        " \n",
        "plt.plot(epochs, acc, 'b', label='Training acc')\n",
        "plt.plot(epochs, val_acc, 'r', label='Validation acc')\n",
        "plt.title('Training and validation accuracy')\n",
        "plt.legend()\n",
        " \n",
        "plt.figure()\n",
        " \n",
        "plt.plot(epochs, loss, 'b', label='Training loss')\n",
        "plt.plot(epochs, val_loss, 'r', label='Validation loss')\n",
        "plt.title('Training and validation loss')\n",
        "plt.legend()\n",
        " \n",
        "plt.show()"
      ],
      "execution_count": null,
      "outputs": []
    },
    {
      "cell_type": "markdown",
      "metadata": {
        "_uuid": "6bdfc0f6a6af5bebc0271d83dd7432c91001409b",
        "id": "p8_6x8sE2COo"
      },
      "source": [
        "### Predict"
      ]
    },
    {
      "cell_type": "code",
      "metadata": {
        "trusted": true,
        "_uuid": "f0b0fa3d4b1bb14b3f5e3d169a369f3ebef29ae1",
        "id": "e38WorQw2COo"
      },
      "source": [
        "def decode_sentiment(score, include_neutral=True):\n",
        "    if include_neutral:        \n",
        "        label = NEUTRAL\n",
        "        if score <= SENTIMENT_THRESHOLDS[0]:\n",
        "            label = NEGATIVE\n",
        "        elif score >= SENTIMENT_THRESHOLDS[1]:\n",
        "            label = POSITIVE\n",
        "\n",
        "        return label\n",
        "    else:\n",
        "        return NEGATIVE if score < 0.5 else POSITIVE"
      ],
      "execution_count": null,
      "outputs": []
    },
    {
      "cell_type": "code",
      "metadata": {
        "trusted": true,
        "_uuid": "ed4086d651f2f8cbed11d3c909a8873607d29a06",
        "id": "6IqREtVZ2COo"
      },
      "source": [
        "def predict(text, include_neutral=True):\n",
        "    start_at = time.time()\n",
        "    # Tokenize text\n",
        "    x_test = pad_sequences(tokenizer.texts_to_sequences([text]), maxlen=SEQUENCE_LENGTH)\n",
        "    # Predict\n",
        "    score = model.predict([x_test])[0]\n",
        "    # Decode sentiment\n",
        "    label = decode_sentiment(score, include_neutral=include_neutral)\n",
        "\n",
        "    return {\"label\": label, \"score\": float(score),\n",
        "       \"elapsed_time\": time.time()-start_at}  "
      ],
      "execution_count": null,
      "outputs": []
    },
    {
      "cell_type": "code",
      "metadata": {
        "trusted": true,
        "_uuid": "ca38b1e6c9b5acfed7467de2cf02a78333108872",
        "id": "X5GtPMSO2COo"
      },
      "source": [
        "predict(\"I love the music\")"
      ],
      "execution_count": null,
      "outputs": []
    },
    {
      "cell_type": "code",
      "metadata": {
        "trusted": true,
        "_uuid": "0e5fe647533be0148850de349fea6ef6f71303d1",
        "id": "f77F01bd2COo"
      },
      "source": [
        "predict(\"I hate the rain\")"
      ],
      "execution_count": null,
      "outputs": []
    },
    {
      "cell_type": "code",
      "metadata": {
        "trusted": true,
        "_uuid": "37064dffcc8920d34ccd54fac7c8b50e583a8269",
        "id": "O-KJzZm72COo"
      },
      "source": [
        "predict(\"i don't know what i'm doing\")"
      ],
      "execution_count": null,
      "outputs": []
    },
    {
      "cell_type": "markdown",
      "metadata": {
        "_uuid": "3ee72e47f84b6dbc32e02a783de5ec1661f157e1",
        "id": "xjmb19Zp2COo"
      },
      "source": [
        "### Confusion Matrix"
      ]
    },
    {
      "cell_type": "code",
      "metadata": {
        "trusted": true,
        "_uuid": "0e920173eb05f04aecdd735bc5dff0f5be5f8d15",
        "id": "32gdIWHX2COo"
      },
      "source": [
        "%%time\n",
        "y_pred_1d = []\n",
        "y_test_1d = list(df_test.target)\n",
        "scores = model.predict(x_test, verbose=1, batch_size=8000)\n",
        "y_pred_1d = [decode_sentiment(score, include_neutral=False) for score in scores]"
      ],
      "execution_count": null,
      "outputs": []
    },
    {
      "cell_type": "code",
      "metadata": {
        "trusted": true,
        "_uuid": "b3575191bb425ab871f3f41e83812ee84bb7e595",
        "id": "TKNvWjlz2COo"
      },
      "source": [
        "def plot_confusion_matrix(cm, classes,\n",
        "                          title='Confusion matrix',\n",
        "                          cmap=plt.cm.Blues):\n",
        "    \"\"\"\n",
        "    This function prints and plots the confusion matrix.\n",
        "    Normalization can be applied by setting `normalize=True`.\n",
        "    \"\"\"\n",
        "\n",
        "    cm = cm.astype('float') / cm.sum(axis=1)[:, np.newaxis]\n",
        "\n",
        "    plt.imshow(cm, interpolation='nearest', cmap=cmap)\n",
        "    plt.title(title, fontsize=30)\n",
        "    plt.colorbar()\n",
        "    tick_marks = np.arange(len(classes))\n",
        "    plt.xticks(tick_marks, classes, rotation=90, fontsize=22)\n",
        "    plt.yticks(tick_marks, classes, fontsize=22)\n",
        "\n",
        "    fmt = '.2f'\n",
        "    thresh = cm.max() / 2.\n",
        "    for i, j in itertools.product(range(cm.shape[0]), range(cm.shape[1])):\n",
        "        plt.text(j, i, format(cm[i, j], fmt),\n",
        "                 horizontalalignment=\"center\",\n",
        "                 color=\"white\" if cm[i, j] > thresh else \"black\")\n",
        "\n",
        "    plt.ylabel('True label', fontsize=25)\n",
        "    plt.xlabel('Predicted label', fontsize=25)"
      ],
      "execution_count": null,
      "outputs": []
    },
    {
      "cell_type": "code",
      "metadata": {
        "trusted": true,
        "_uuid": "a57dc6f6211c144491a70f533225edfa95a2dc66",
        "id": "PKxUVOXD2COo"
      },
      "source": [
        "%%time\n",
        "\n",
        "cnf_matrix = confusion_matrix(y_test_1d, y_pred_1d)\n",
        "plt.figure(figsize=(12,12))\n",
        "plot_confusion_matrix(cnf_matrix, classes=df_train.target.unique(), title=\"Confusion matrix\")\n",
        "plt.show()"
      ],
      "execution_count": null,
      "outputs": []
    },
    {
      "cell_type": "markdown",
      "metadata": {
        "_uuid": "e23b957348dcc084249d3cc7538b972da471c2cd",
        "id": "rUYUCuRa2COo"
      },
      "source": [
        "### Classification Report"
      ]
    },
    {
      "cell_type": "code",
      "metadata": {
        "trusted": true,
        "_uuid": "a7fe05b7caa1c984ff1deb0be2f7c6bc043df9f5",
        "id": "M_M5Zjmm2COo"
      },
      "source": [
        "print(classification_report(y_test_1d, y_pred_1d))"
      ],
      "execution_count": null,
      "outputs": []
    },
    {
      "cell_type": "markdown",
      "metadata": {
        "_uuid": "4eb300f0c6693a618587c7dcf32f77f5416cbfb9",
        "id": "CWcIEZe12COo"
      },
      "source": [
        "### Accuracy Score"
      ]
    },
    {
      "cell_type": "code",
      "metadata": {
        "trusted": true,
        "_uuid": "5cf76e6e09f8a60ed25947932b94c772eda44d23",
        "id": "bGuz0pPK2COo"
      },
      "source": [
        "accuracy_score(y_test_1d, y_pred_1d)"
      ],
      "execution_count": null,
      "outputs": []
    },
    {
      "cell_type": "markdown",
      "metadata": {
        "_uuid": "4f014c32f3833db282e1a075c526604f34e3158c",
        "id": "j48BWFOB2COo"
      },
      "source": [
        "### Save model"
      ]
    },
    {
      "cell_type": "code",
      "metadata": {
        "trusted": true,
        "_uuid": "3b2b3ad5b592977b404acfa1c9ad303a62837255",
        "id": "EvPVVFyY2COo"
      },
      "source": [
        "model.save(KERAS_MODEL)\n",
        "w2v_model.save(WORD2VEC_MODEL)\n",
        "pickle.dump(tokenizer, open(TOKENIZER_MODEL, \"wb\"), protocol=0)\n",
        "pickle.dump(encoder, open(ENCODER_MODEL, \"wb\"), protocol=0)"
      ],
      "execution_count": null,
      "outputs": []
    },
    {
      "cell_type": "code",
      "metadata": {
        "trusted": true,
        "_uuid": "cc363c54782894757f5ea8820c6a170f2e16ef93",
        "id": "HktGkgAT2COo"
      },
      "source": [
        ""
      ],
      "execution_count": null,
      "outputs": []
    }
  ]
}