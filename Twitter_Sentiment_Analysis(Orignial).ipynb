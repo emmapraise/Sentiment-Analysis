{
  "nbformat": 4,
  "nbformat_minor": 0,
  "metadata": {
    "colab": {
      "name": "Twitter Sentiment Analysis.ipynb",
      "provenance": [],
      "include_colab_link": true
    },
    "kernelspec": {
      "name": "python3",
      "display_name": "Python 3"
    },
    "accelerator": "GPU"
  },
  "cells": [
    {
      "cell_type": "markdown",
      "metadata": {
        "id": "view-in-github",
        "colab_type": "text"
      },
      "source": [
        "<a href=\"https://colab.research.google.com/github/emmapraise/Sentiment-Analysis/blob/master/Twitter_Sentiment_Analysis(Orignial).ipynb\" target=\"_parent\"><img src=\"https://colab.research.google.com/assets/colab-badge.svg\" alt=\"Open In Colab\"/></a>"
      ]
    },
    {
      "cell_type": "code",
      "metadata": {
        "id": "nwIr099qwfg_",
        "colab_type": "code",
        "colab": {}
      },
      "source": [
        "import tweepy, nltk\n",
        "import pandas as pd\n",
        "import seaborn as sns\n",
        "from textblob import TextBlob\n",
        "from textblob.sentiments import NaiveBayesAnalyzer"
      ],
      "execution_count": 0,
      "outputs": []
    },
    {
      "cell_type": "code",
      "metadata": {
        "id": "0Rgx2-eDH90z",
        "colab_type": "code",
        "outputId": "abcd1c91-b1cd-4dd7-e950-8c9f1ba9a2d8",
        "colab": {
          "base_uri": "https://localhost:8080/",
          "height": 68
        }
      },
      "source": [
        "nltk.download('movie_reviews')"
      ],
      "execution_count": 0,
      "outputs": [
        {
          "output_type": "stream",
          "text": [
            "[nltk_data] Downloading package movie_reviews to punkt...\n",
            "[nltk_data]   Unzipping corpora/movie_reviews.zip.\n"
          ],
          "name": "stdout"
        },
        {
          "output_type": "execute_result",
          "data": {
            "text/plain": [
              "True"
            ]
          },
          "metadata": {
            "tags": []
          },
          "execution_count": 19
        }
      ]
    },
    {
      "cell_type": "code",
      "metadata": {
        "id": "fYRyn-ROyrZ-",
        "colab_type": "code",
        "outputId": "84df70dc-477f-4752-fcb7-02febbcbe21f",
        "colab": {
          "base_uri": "https://localhost:8080/",
          "height": 68
        }
      },
      "source": [
        "nltk.download('punkt')"
      ],
      "execution_count": 0,
      "outputs": [
        {
          "output_type": "stream",
          "text": [
            "[nltk_data] Downloading package punkt to /root/nltk_data...\n",
            "[nltk_data]   Unzipping tokenizers/punkt.zip.\n"
          ],
          "name": "stdout"
        },
        {
          "output_type": "execute_result",
          "data": {
            "text/plain": [
              "True"
            ]
          },
          "metadata": {
            "tags": []
          },
          "execution_count": 26
        }
      ]
    },
    {
      "cell_type": "code",
      "metadata": {
        "id": "D7mjuPr6wfhF",
        "colab_type": "code",
        "colab": {}
      },
      "source": [
        "consumer_key = 'xxxxxxxxxxxxxxxxxxxxxx'\n",
        "consumer_secret = 'xxxxxxxxxxxxxxxxxxxxxxxxxxxxxxxx'\n",
        "\n",
        "access_token = 'xxxxxxxxxx-xxxxxxxxxxxxxxxxxxxxxxxxxxxxxxxxxxxxxxx'\n",
        "access_token_secret = 'xxxxxxxxxxxxxxxxxxxxxxxxxxxxxxxxxxxxxxxxxxxxxx'"
      ],
      "execution_count": 0,
      "outputs": []
    },
    {
      "cell_type": "code",
      "metadata": {
        "id": "lxZ9fdAmwfhK",
        "colab_type": "code",
        "colab": {}
      },
      "source": [
        "auth = tweepy.OAuthHandler(consumer_key, consumer_secret)\n",
        "auth.set_access_token(access_token, access_token_secret)"
      ],
      "execution_count": 0,
      "outputs": []
    },
    {
      "cell_type": "code",
      "metadata": {
        "id": "F7b6dlIxwfhO",
        "colab_type": "code",
        "colab": {}
      },
      "source": [
        "api = tweepy.API(auth)"
      ],
      "execution_count": 0,
      "outputs": []
    },
    {
      "cell_type": "code",
      "metadata": {
        "id": "ABEtRzOUwfhR",
        "colab_type": "code",
        "colab": {}
      },
      "source": [
        "qurey = 'Trump'\n",
        "max_tweets = 1000"
      ],
      "execution_count": 0,
      "outputs": []
    },
    {
      "cell_type": "code",
      "metadata": {
        "id": "jycnWfQwwfhW",
        "colab_type": "code",
        "colab": {}
      },
      "source": [
        "public_tweets = tweepy.Cursor(api.search, q= qurey).items(max_tweets)\n",
        "tweet_sentiment = []"
      ],
      "execution_count": 0,
      "outputs": []
    },
    {
      "cell_type": "code",
      "metadata": {
        "id": "vczAwb_Twfha",
        "colab_type": "code",
        "outputId": "01e75186-fe1d-4101-b03c-5334dbd4dc85",
        "colab": {
          "base_uri": "https://localhost:8080/",
          "height": 1000
        }
      },
      "source": [
        "for tweet in public_tweets:\n",
        "    if(tweet.lang == 'en') and (not tweet.retweeted) and ('RT @' not in tweet.text):\n",
        "        tweets = tweet.text\n",
        "        print(tweets)\n",
        "        analysis = TextBlob(tweets, analyzer=NaiveBayesAnalyzer())\n",
        "        print(analysis.sentiment)\n",
        "        tweet_sentiment.append(analysis.sentiment.classification)"
      ],
      "execution_count": 0,
      "outputs": [
        {
          "output_type": "stream",
          "text": [
            "@Apple why does the “camera” to “edit photo” action lag with the updated version of iOS 13? #apple #iOS13 #iPhone12 #iOS\n",
            "Sentiment(classification='pos', p_pos=0.9034961441918278, p_neg=0.09650385580817171)\n",
            "#iphone12 #iphones #iphonelover #iOS \n",
            "see full rumors,leaks,specifications of iPhone 12\n",
            "https://t.co/i1DtAI5Oh5\n",
            "Sentiment(classification='pos', p_pos=0.930365239922267, p_neg=0.0696347600777319)\n",
            "@hey_car_ 🎛⬜️⬜️⬜️⬜️\n",
            "⬜️⬜️⬜️⬜️⬜️\n",
            "⬜️⬜️⬜️⬜️⬜️\n",
            "⬜️⬜️ ⬜️⬜️\n",
            "⬜️⬜️⬜️⬜️⬜️\n",
            "⬜️⬜️⬜️⬜️⬜️\n",
            "⬜️⬜️⬜️⬜️⬜️\n",
            "⬜️⬜️⬜️⬜️⬜️\n",
            "iPhone12\n",
            "Sentiment(classification='pos', p_pos=0.5, p_neg=0.5)\n",
            "🎛⬜⬜\n",
            "⬜⬜⬜\n",
            "⬜🍎⬜\n",
            "⬜⬜⬜\n",
            "⬜⬜⬜iPhone12\n",
            "Sentiment(classification='pos', p_pos=0.5, p_neg=0.5)\n",
            "iphone12\n",
            "Sentiment(classification='pos', p_pos=0.5, p_neg=0.5)\n",
            "iPhone 12 Concept Infinity Display/Full Screen\n",
            "#iPhone #iPhone12 #iphone12promax #technews #technology https://t.co/QWjechULp8\n",
            "Sentiment(classification='neg', p_pos=0.40890527556348494, p_neg=0.5910947244365146)\n",
            "This week’s #Apple headlines; three key #iPhone12 leaks, the launch of the 16-inch #MacBookPro, the impact on the 1… https://t.co/dlAPaP5o08\n",
            "Sentiment(classification='pos', p_pos=0.8902173053762822, p_neg=0.10978269462371702)\n",
            "#Apple #MacBookPro16 will support Two display connection at 6K #MacBook #macoscatalina #macos #iPhoneXR… https://t.co/Fi6SLmTQrS\n",
            "Sentiment(classification='pos', p_pos=0.7758123351687494, p_neg=0.22418766483124983)\n",
            "@Itz_Adeolarose Collect your IPhone12 and leave here\n",
            "Sentiment(classification='pos', p_pos=0.6038547121281027, p_neg=0.39614528787189734)\n",
            "iPhone 2020 concept. Blue or Green?                                                            by :@smazizg… https://t.co/ihpPppuFip\n",
            "Sentiment(classification='neg', p_pos=0.17778176960765385, p_neg=0.8222182303923468)\n",
            "I knew iphone12 is coming, reason i didn't wanna buy that cheap iphone11...😎\n",
            "Sentiment(classification='neg', p_pos=0.44837754210583725, p_neg=0.5516224578941635)\n",
            "Apple iPhone 12: Rumors, Features, Specs, Release Date, &amp; More 📱 https://t.co/KP5oRTtUk9 #Apple #iPhone12 #iOS\n",
            "Sentiment(classification='pos', p_pos=0.8964339656291256, p_neg=0.10356603437087325)\n",
            "@matthewamad Me I just want iphone12😁\n",
            "Sentiment(classification='neg', p_pos=0.47491602638883307, p_neg=0.5250839736111669)\n",
            "@craig_gamble I'm hearing the iPhone12 is going to have a demonic preservation of youthful looks feature.\n",
            "Sentiment(classification='pos', p_pos=0.9250188549617216, p_neg=0.07498114503827588)\n",
            "Looks like Apple is going to have another huge year in 2020 by snagging the interest of budget buyers in the SE 2 a… https://t.co/PGGa7XDSwN\n",
            "Sentiment(classification='neg', p_pos=0.21350784164618308, p_neg=0.7864921583538169)\n",
            "Iphone12 https://t.co/vJdRYcl8Dt\n",
            "Sentiment(classification='pos', p_pos=0.5, p_neg=0.5)\n",
            "#applefullofshit #iPhone12\n",
            "Over 45% of your income goes into marketing your over priced iPhones that are getting ov… https://t.co/u05WCHmBbS\n",
            "Sentiment(classification='pos', p_pos=0.6127451197065437, p_neg=0.38725488029345523)\n",
            "New iPhone 12 renders imagine slab sides, smaller notch, four ‘cameras’. @9to5mac @benlovejoy #iPhone #iPhone12… https://t.co/MppRwqEujU\n",
            "Sentiment(classification='pos', p_pos=0.8953930569028766, p_neg=0.10460694309712316)\n",
            "Qualcomm Snapdragon 855+ is not front or near the A10,A11,A11 Bionic,12,etc. no any Android  can give this type of… https://t.co/kcwQ6vRGxt\n",
            "Sentiment(classification='pos', p_pos=0.547183694155764, p_neg=0.4528163058442359)\n",
            "I just finished spending the last money I earned when I sold my kidney to buy IPhone 11... Now that iPhone 12 is co… https://t.co/mzEibcUNqB\n",
            "Sentiment(classification='neg', p_pos=0.1530705921130511, p_neg=0.8469294078869507)\n",
            "iPhone 12 might look like this (YouTube video). To be released September 2020, expect a premium price because of 5G… https://t.co/twt3O4gzPe\n",
            "Sentiment(classification='pos', p_pos=0.5574433636497176, p_neg=0.44255663635028114)\n",
            "Please @Apple, ditch the notch and include 5G on #iPhone12 or I’ll continue to hang on to my iPhone 7.\n",
            "Sentiment(classification='pos', p_pos=0.720707060686848, p_neg=0.2792929393131524)\n",
            "iPhone 12 might look like this (YouTube video). To be released September 2020, expect a premium price because of 5G… https://t.co/o8RoExHFoj\n",
            "Sentiment(classification='pos', p_pos=0.5574433636497176, p_neg=0.44255663635028114)\n",
            "iPhone 12 might look like this (YouTube video). To be released September 2020, expect a premium price because of 5G… https://t.co/8cgKo1lDlg\n",
            "Sentiment(classification='pos', p_pos=0.5574433636497176, p_neg=0.44255663635028114)\n"
          ],
          "name": "stdout"
        }
      ]
    },
    {
      "cell_type": "code",
      "metadata": {
        "id": "61L2LICLwfhj",
        "colab_type": "code",
        "colab": {}
      },
      "source": [
        "data = {'Tweet':tweet_sentiment}\n",
        "data = pd.DataFrame(data)"
      ],
      "execution_count": 0,
      "outputs": []
    },
    {
      "cell_type": "code",
      "metadata": {
        "id": "TGUc-Y4Xwfhn",
        "colab_type": "code",
        "outputId": "74730d2e-e6d3-4b38-9e7c-6e1d47568417",
        "colab": {
          "base_uri": "https://localhost:8080/",
          "height": 423
        }
      },
      "source": [
        "sns.set_style('darkgrid')\n",
        "g = sns.factorplot(x='Tweet', data=data, aspect=1.5, kind=\"count\")"
      ],
      "execution_count": 0,
      "outputs": [
        {
          "output_type": "stream",
          "text": [
            "/usr/local/lib/python3.6/dist-packages/seaborn/categorical.py:3666: UserWarning: The `factorplot` function has been renamed to `catplot`. The original name will be removed in a future release. Please update your code. Note that the default `kind` in `factorplot` (`'point'`) has changed `'strip'` in `catplot`.\n",
            "  warnings.warn(msg)\n"
          ],
          "name": "stderr"
        },
        {
          "output_type": "display_data",
          "data": {
            "image/png": "[encoded data removed]",
            "text/plain": [
              "<Figure size 540x360 with 1 Axes>"
            ]
          },
          "metadata": {
            "tags": []
          }
        }
      ]
    },
    {
      "cell_type": "code",
      "metadata": {
        "id": "oZtbvYlHJFKo",
        "colab_type": "code",
        "colab": {}
      },
      "source": [
        ""
      ],
      "execution_count": 0,
      "outputs": []
    }
  ]
}